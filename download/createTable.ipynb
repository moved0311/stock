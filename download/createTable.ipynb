{
 "cells": [
  {
   "cell_type": "code",
   "execution_count": 22,
   "id": "513771b2",
   "metadata": {},
   "outputs": [],
   "source": [
    "import requests\n",
    "from io import StringIO\n",
    "import pandas as pd\n",
    "import numpy as np\n",
    "import re\n",
    "pd.options.mode.chained_assignment = None "
   ]
  },
  {
   "cell_type": "code",
   "execution_count": 23,
   "id": "ea0ee884",
   "metadata": {},
   "outputs": [],
   "source": [
    "import sqlite3\n",
    "sqlite3.register_adapter(np.int64, int)\n",
    "db = sqlite3.connect('./stock.db', isolation_level=None)"
   ]
  },
  {
   "cell_type": "markdown",
   "id": "8cb92b33",
   "metadata": {},
   "source": [
    "# 取得上市櫃公司代號名稱"
   ]
  },
  {
   "cell_type": "code",
   "execution_count": 3,
   "id": "28d27e8d",
   "metadata": {},
   "outputs": [],
   "source": [
    "SII_URL = \"https://isin.twse.com.tw/isin/C_public.jsp?strMode=2\"  # 上市公司名單\n",
    "OTC_URL = \"https://isin.twse.com.tw/isin/C_public.jsp?strMode=4\" # 上櫃公司名單  \n",
    "\n",
    "def fetchStockIdName(type):\n",
    "    r = requests.get(type)\n",
    "    df = pd.read_html(r.text)[0]\n",
    "\n",
    "    df.columns = df.iloc[0]\n",
    "    df = df.iloc[2:]\n",
    "\n",
    "    df[['證券代號','證券名稱']] = df['有價證券代號及名稱'].str.split('\\u3000', expand=True)\n",
    "    df = df.drop(columns=['備註', '有價證券代號及名稱','CFICode','國際證券辨識號碼(ISIN Code)'])\n",
    "    df = df[df['證券代號'].apply(regex_filter)]\n",
    "    return df\n",
    "\n",
    "def regex_filter(val):\n",
    "    if val:\n",
    "        mo = re.search(r'^\\d{4}$',val)\n",
    "        if mo:\n",
    "            return True\n",
    "        else:\n",
    "            return False\n",
    "    else:\n",
    "        return False\n",
    "\n",
    "df_sii = fetchStockIdName(SII_URL)\n",
    "df_otc = fetchStockIdName(OTC_URL)"
   ]
  },
  {
   "cell_type": "code",
   "execution_count": 4,
   "id": "2fde7c5d",
   "metadata": {},
   "outputs": [
    {
     "name": "stdout",
     "output_type": "stream",
     "text": [
      "上市家數: 992\n",
      "上櫃家數: 812\n",
      "共: 1804\n"
     ]
    }
   ],
   "source": [
    "print('上市家數:', len(df_sii)) \n",
    "print('上櫃家數:', len(df_otc))\n",
    "print('共:', len(df_sii) + len(df_otc))\n",
    "# 20220419: 975 795 1770\n",
    "# 20220922: 981 799 1780\n",
    "# 20221126: 928 804 1786\n",
    "# 20230805: 992 812 1804"
   ]
  },
  {
   "cell_type": "code",
   "execution_count": 12,
   "id": "ec1637bd",
   "metadata": {},
   "outputs": [
    {
     "name": "stderr",
     "output_type": "stream",
     "text": [
      "<ipython-input-12-479bee4321de>:1: FutureWarning: The frame.append method is deprecated and will be removed from pandas in a future version. Use pandas.concat instead.\n",
      "  df_all = df_sii.append(df_otc)\n"
     ]
    },
    {
     "data": {
      "text/html": [
       "<div>\n",
       "<style scoped>\n",
       "    .dataframe tbody tr th:only-of-type {\n",
       "        vertical-align: middle;\n",
       "    }\n",
       "\n",
       "    .dataframe tbody tr th {\n",
       "        vertical-align: top;\n",
       "    }\n",
       "\n",
       "    .dataframe thead th {\n",
       "        text-align: right;\n",
       "    }\n",
       "</style>\n",
       "<table border=\"1\" class=\"dataframe\">\n",
       "  <thead>\n",
       "    <tr style=\"text-align: right;\">\n",
       "      <th></th>\n",
       "      <th>上市日</th>\n",
       "      <th>市場別</th>\n",
       "      <th>產業別</th>\n",
       "      <th>證券代號</th>\n",
       "      <th>證券名稱</th>\n",
       "    </tr>\n",
       "  </thead>\n",
       "  <tbody>\n",
       "    <tr>\n",
       "      <th>2</th>\n",
       "      <td>1962/02/09</td>\n",
       "      <td>上市</td>\n",
       "      <td>水泥工業</td>\n",
       "      <td>1101</td>\n",
       "      <td>台泥</td>\n",
       "    </tr>\n",
       "    <tr>\n",
       "      <th>3</th>\n",
       "      <td>1962/06/08</td>\n",
       "      <td>上市</td>\n",
       "      <td>水泥工業</td>\n",
       "      <td>1102</td>\n",
       "      <td>亞泥</td>\n",
       "    </tr>\n",
       "    <tr>\n",
       "      <th>4</th>\n",
       "      <td>1969/11/14</td>\n",
       "      <td>上市</td>\n",
       "      <td>水泥工業</td>\n",
       "      <td>1103</td>\n",
       "      <td>嘉泥</td>\n",
       "    </tr>\n",
       "    <tr>\n",
       "      <th>5</th>\n",
       "      <td>1971/02/01</td>\n",
       "      <td>上市</td>\n",
       "      <td>水泥工業</td>\n",
       "      <td>1104</td>\n",
       "      <td>環泥</td>\n",
       "    </tr>\n",
       "    <tr>\n",
       "      <th>6</th>\n",
       "      <td>1990/06/06</td>\n",
       "      <td>上市</td>\n",
       "      <td>水泥工業</td>\n",
       "      <td>1108</td>\n",
       "      <td>幸福</td>\n",
       "    </tr>\n",
       "  </tbody>\n",
       "</table>\n",
       "</div>"
      ],
      "text/plain": [
       "0         上市日 市場別   產業別  證券代號 證券名稱\n",
       "2  1962/02/09  上市  水泥工業  1101   台泥\n",
       "3  1962/06/08  上市  水泥工業  1102   亞泥\n",
       "4  1969/11/14  上市  水泥工業  1103   嘉泥\n",
       "5  1971/02/01  上市  水泥工業  1104   環泥\n",
       "6  1990/06/06  上市  水泥工業  1108   幸福"
      ]
     },
     "execution_count": 12,
     "metadata": {},
     "output_type": "execute_result"
    }
   ],
   "source": [
    "df_all = df_sii.append(df_otc)\n",
    "df_all.head()"
   ]
  },
  {
   "cell_type": "code",
   "execution_count": 27,
   "id": "84bfbdbf",
   "metadata": {},
   "outputs": [
    {
     "data": {
      "text/plain": [
       "<sqlite3.Cursor at 0x1b985e09b90>"
      ]
     },
     "execution_count": 27,
     "metadata": {},
     "output_type": "execute_result"
    }
   ],
   "source": [
    "sql = 'create table if not exists stockIdName \\\n",
    "           (id INT ,\\\n",
    "            name TEXT ,\\\n",
    "            listingDate TEXT ,\\\n",
    "            market TEXT,\\\n",
    "            industry TEXT,\\\n",
    "            capital INT);'\n",
    "db.execute(sql)"
   ]
  },
  {
   "cell_type": "code",
   "execution_count": 28,
   "id": "a76705e3",
   "metadata": {
    "scrolled": true
   },
   "outputs": [],
   "source": [
    "# insert into db\n",
    "for index, row in df_all.iterrows(): \n",
    "    sql_insert = 'insert into stockIdName (id, name, listingDate, market, industry, capital) values (?,?,?,?,?,?)'\n",
    "    try:\n",
    "        db.execute(sql_insert, (int(row['證券代號']), row['證券名稱'], row['上市日'], row['市場別'],row['產業別'], 0))\n",
    "    except:\n",
    "        pass"
   ]
  },
  {
   "cell_type": "code",
   "execution_count": 29,
   "id": "d97b0877",
   "metadata": {
    "scrolled": true
   },
   "outputs": [
    {
     "data": {
      "text/html": [
       "<div>\n",
       "<style scoped>\n",
       "    .dataframe tbody tr th:only-of-type {\n",
       "        vertical-align: middle;\n",
       "    }\n",
       "\n",
       "    .dataframe tbody tr th {\n",
       "        vertical-align: top;\n",
       "    }\n",
       "\n",
       "    .dataframe thead th {\n",
       "        text-align: right;\n",
       "    }\n",
       "</style>\n",
       "<table border=\"1\" class=\"dataframe\">\n",
       "  <thead>\n",
       "    <tr style=\"text-align: right;\">\n",
       "      <th></th>\n",
       "      <th>id</th>\n",
       "      <th>name</th>\n",
       "      <th>listingDate</th>\n",
       "      <th>market</th>\n",
       "      <th>industry</th>\n",
       "      <th>capital</th>\n",
       "    </tr>\n",
       "  </thead>\n",
       "  <tbody>\n",
       "    <tr>\n",
       "      <th>0</th>\n",
       "      <td>1101</td>\n",
       "      <td>台泥</td>\n",
       "      <td>1962/02/09</td>\n",
       "      <td>上市</td>\n",
       "      <td>水泥工業</td>\n",
       "      <td>0</td>\n",
       "    </tr>\n",
       "    <tr>\n",
       "      <th>1</th>\n",
       "      <td>1102</td>\n",
       "      <td>亞泥</td>\n",
       "      <td>1962/06/08</td>\n",
       "      <td>上市</td>\n",
       "      <td>水泥工業</td>\n",
       "      <td>0</td>\n",
       "    </tr>\n",
       "    <tr>\n",
       "      <th>2</th>\n",
       "      <td>1103</td>\n",
       "      <td>嘉泥</td>\n",
       "      <td>1969/11/14</td>\n",
       "      <td>上市</td>\n",
       "      <td>水泥工業</td>\n",
       "      <td>0</td>\n",
       "    </tr>\n",
       "    <tr>\n",
       "      <th>3</th>\n",
       "      <td>1104</td>\n",
       "      <td>環泥</td>\n",
       "      <td>1971/02/01</td>\n",
       "      <td>上市</td>\n",
       "      <td>水泥工業</td>\n",
       "      <td>0</td>\n",
       "    </tr>\n",
       "    <tr>\n",
       "      <th>4</th>\n",
       "      <td>1108</td>\n",
       "      <td>幸福</td>\n",
       "      <td>1990/06/06</td>\n",
       "      <td>上市</td>\n",
       "      <td>水泥工業</td>\n",
       "      <td>0</td>\n",
       "    </tr>\n",
       "    <tr>\n",
       "      <th>...</th>\n",
       "      <td>...</td>\n",
       "      <td>...</td>\n",
       "      <td>...</td>\n",
       "      <td>...</td>\n",
       "      <td>...</td>\n",
       "      <td>...</td>\n",
       "    </tr>\n",
       "    <tr>\n",
       "      <th>1799</th>\n",
       "      <td>9949</td>\n",
       "      <td>琉園</td>\n",
       "      <td>2003/11/21</td>\n",
       "      <td>上櫃</td>\n",
       "      <td>文化創意業</td>\n",
       "      <td>0</td>\n",
       "    </tr>\n",
       "    <tr>\n",
       "      <th>1800</th>\n",
       "      <td>9950</td>\n",
       "      <td>萬國通</td>\n",
       "      <td>2004/02/17</td>\n",
       "      <td>上櫃</td>\n",
       "      <td>塑膠工業</td>\n",
       "      <td>0</td>\n",
       "    </tr>\n",
       "    <tr>\n",
       "      <th>1801</th>\n",
       "      <td>9951</td>\n",
       "      <td>皇田</td>\n",
       "      <td>2003/12/18</td>\n",
       "      <td>上櫃</td>\n",
       "      <td>電機機械</td>\n",
       "      <td>0</td>\n",
       "    </tr>\n",
       "    <tr>\n",
       "      <th>1802</th>\n",
       "      <td>9960</td>\n",
       "      <td>邁達康</td>\n",
       "      <td>2004/12/06</td>\n",
       "      <td>上櫃</td>\n",
       "      <td>運動休閒</td>\n",
       "      <td>0</td>\n",
       "    </tr>\n",
       "    <tr>\n",
       "      <th>1803</th>\n",
       "      <td>9962</td>\n",
       "      <td>有益</td>\n",
       "      <td>2006/07/10</td>\n",
       "      <td>上櫃</td>\n",
       "      <td>鋼鐵工業</td>\n",
       "      <td>0</td>\n",
       "    </tr>\n",
       "  </tbody>\n",
       "</table>\n",
       "<p>1804 rows × 6 columns</p>\n",
       "</div>"
      ],
      "text/plain": [
       "        id name listingDate market industry  capital\n",
       "0     1101   台泥  1962/02/09     上市     水泥工業        0\n",
       "1     1102   亞泥  1962/06/08     上市     水泥工業        0\n",
       "2     1103   嘉泥  1969/11/14     上市     水泥工業        0\n",
       "3     1104   環泥  1971/02/01     上市     水泥工業        0\n",
       "4     1108   幸福  1990/06/06     上市     水泥工業        0\n",
       "...    ...  ...         ...    ...      ...      ...\n",
       "1799  9949   琉園  2003/11/21     上櫃    文化創意業        0\n",
       "1800  9950  萬國通  2004/02/17     上櫃     塑膠工業        0\n",
       "1801  9951   皇田  2003/12/18     上櫃     電機機械        0\n",
       "1802  9960  邁達康  2004/12/06     上櫃     運動休閒        0\n",
       "1803  9962   有益  2006/07/10     上櫃     鋼鐵工業        0\n",
       "\n",
       "[1804 rows x 6 columns]"
      ]
     },
     "execution_count": 29,
     "metadata": {},
     "output_type": "execute_result"
    }
   ],
   "source": [
    "# check in db\n",
    "df_stock_id_name = pd.read_sql_query(\"select * from stockIdName\",db)\n",
    "df_stock_id_name"
   ]
  },
  {
   "cell_type": "code",
   "execution_count": 30,
   "id": "b782ae86",
   "metadata": {},
   "outputs": [],
   "source": [
    "# db.execute('drop table stockIdName')"
   ]
  },
  {
   "cell_type": "markdown",
   "id": "751ef1c0",
   "metadata": {},
   "source": [
    "# Create daily stock table"
   ]
  },
  {
   "cell_type": "code",
   "execution_count": 33,
   "id": "0bd54a30",
   "metadata": {
    "scrolled": true
   },
   "outputs": [
    {
     "data": {
      "text/plain": [
       "<sqlite3.Cursor at 0x1b986440f10>"
      ]
     },
     "execution_count": 33,
     "metadata": {},
     "output_type": "execute_result"
    }
   ],
   "source": [
    "sql = 'create table if not exists daily \\\n",
    "           (date DATE, \\\n",
    "            id INT ,\\\n",
    "            name TEXT ,\\\n",
    "            tradeVolumn INTEGER ,\\\n",
    "            [transaction] INTEGER ,\\\n",
    "            tradeValue INTEGER ,\\\n",
    "            open FLOAT ,\\\n",
    "            high FLOAT ,\\\n",
    "            low FLOAT ,\\\n",
    "            close FLOAT ,\\\n",
    "            dir TEXT ,\\\n",
    "            change FLOAT ,\\\n",
    "            bidPrice FLOAT ,\\\n",
    "            bidVolumn INTEGER ,\\\n",
    "            askPrice FLOAT ,\\\n",
    "            askVolumn INTEGER ,\\\n",
    "            pe FLOAT);'\n",
    "\n",
    "db.execute(sql)"
   ]
  },
  {
   "cell_type": "code",
   "execution_count": 34,
   "id": "602fb1ad",
   "metadata": {
    "scrolled": true
   },
   "outputs": [
    {
     "data": {
      "text/html": [
       "<div>\n",
       "<style scoped>\n",
       "    .dataframe tbody tr th:only-of-type {\n",
       "        vertical-align: middle;\n",
       "    }\n",
       "\n",
       "    .dataframe tbody tr th {\n",
       "        vertical-align: top;\n",
       "    }\n",
       "\n",
       "    .dataframe thead th {\n",
       "        text-align: right;\n",
       "    }\n",
       "</style>\n",
       "<table border=\"1\" class=\"dataframe\">\n",
       "  <thead>\n",
       "    <tr style=\"text-align: right;\">\n",
       "      <th></th>\n",
       "      <th>date</th>\n",
       "      <th>id</th>\n",
       "      <th>name</th>\n",
       "      <th>tradeVolumn</th>\n",
       "      <th>transaction</th>\n",
       "      <th>tradeValue</th>\n",
       "      <th>open</th>\n",
       "      <th>high</th>\n",
       "      <th>low</th>\n",
       "      <th>close</th>\n",
       "      <th>dir</th>\n",
       "      <th>change</th>\n",
       "      <th>bidPrice</th>\n",
       "      <th>bidVolumn</th>\n",
       "      <th>askPrice</th>\n",
       "      <th>askVolumn</th>\n",
       "      <th>pe</th>\n",
       "    </tr>\n",
       "  </thead>\n",
       "  <tbody>\n",
       "  </tbody>\n",
       "</table>\n",
       "</div>"
      ],
      "text/plain": [
       "Empty DataFrame\n",
       "Columns: [date, id, name, tradeVolumn, transaction, tradeValue, open, high, low, close, dir, change, bidPrice, bidVolumn, askPrice, askVolumn, pe]\n",
       "Index: []"
      ]
     },
     "execution_count": 34,
     "metadata": {},
     "output_type": "execute_result"
    }
   ],
   "source": [
    "# check in db\n",
    "sql = f'select * from daily'\n",
    "pd.read_sql_query(sql, db)"
   ]
  },
  {
   "cell_type": "code",
   "execution_count": 35,
   "id": "98837865",
   "metadata": {},
   "outputs": [],
   "source": [
    "# db.execute('drop table daily')"
   ]
  },
  {
   "cell_type": "markdown",
   "id": "f61565f1",
   "metadata": {},
   "source": [
    "# Search DB tables \n",
    "查詢目前資料庫 資料表"
   ]
  },
  {
   "cell_type": "code",
   "execution_count": 4,
   "id": "af01350e",
   "metadata": {
    "scrolled": true
   },
   "outputs": [
    {
     "name": "stdout",
     "output_type": "stream",
     "text": [
      "資料庫共: 6 張表\n",
      "table name: \n",
      "   stockIdName\n",
      "   daily\n",
      "   monthlyRevenue\n",
      "   financialStatement\n",
      "   balanceSheet\n",
      "   cashflow\n"
     ]
    }
   ],
   "source": [
    "tables = db.execute(\"select sql from sqlite_master where type = 'table'\").fetchall()\n",
    "print(f\"資料庫共: {len(tables)} 張表\")\n",
    "print('table name: ')\n",
    "for row in tables:\n",
    "    print('  ', row[0].split(' ')[2])"
   ]
  },
  {
   "cell_type": "markdown",
   "id": "936b6e4f",
   "metadata": {},
   "source": [
    "# 月營收 Monthly revenue"
   ]
  },
  {
   "cell_type": "markdown",
   "id": "844300be",
   "metadata": {},
   "source": [
    "DB columns\n",
    "\n",
    "    date 年月份 TEXT\n",
    "    id 公司代號 INT,    \n",
    "    name 公司名稱 TEXT,    \n",
    "    revenue 當月營收 INTEGER,\n",
    "    lastMonthRevenue 上月營收 INTEGER, \n",
    "    MoM 上月比較增減 FLOAT,\n",
    "    lastYearRevenue 去年當月營收 INTEGER,\n",
    "    YoY 去年同月增減 FLOAT, \n",
    "    lastSum 去年累計營收 INTEGER, \n",
    "    sumYoY 前期比較增減 FLOAT,\n",
    "    sum 當月累計營收 INTEGER, \n",
    "    note 備註 TEXT );'"
   ]
  },
  {
   "cell_type": "code",
   "execution_count": 37,
   "id": "f35f5649",
   "metadata": {},
   "outputs": [
    {
     "data": {
      "text/plain": [
       "<sqlite3.Cursor at 0x1b986440c00>"
      ]
     },
     "execution_count": 37,
     "metadata": {},
     "output_type": "execute_result"
    }
   ],
   "source": [
    "name = \"monthlyRevenue\"\n",
    "sql = f'create table if not exists {name} \\\n",
    "           (date TEXT, \\\n",
    "            id INT,     \\\n",
    "            name TEXT,    \\\n",
    "            revenue INTEGER, \\\n",
    "            lastMonthRevenue INTEGER, \\\n",
    "            MoM FLOAT, \\\n",
    "            lastYearRevenue INTEGER, \\\n",
    "            YoY FLOAT, \\\n",
    "            lastSum INTEGER, \\\n",
    "            sumYoY FLOAT,\\\n",
    "            sum INTEGER, \\\n",
    "            note TEXT );'\n",
    "\n",
    "db.execute(sql)"
   ]
  },
  {
   "cell_type": "code",
   "execution_count": 39,
   "id": "6c77b34a",
   "metadata": {},
   "outputs": [],
   "source": [
    "# db.execute('drop table monthlyRevenue')"
   ]
  },
  {
   "cell_type": "markdown",
   "id": "9ce71d77",
   "metadata": {},
   "source": [
    "# 財報\n",
    "\n",
    "## 綜合損益彙表\n",
    "\n",
    "|id|name|revenue|grossProfit|operatingIncome|incomeBeforeTax|income|eps|qeps|\n",
    "|--|--|--|--|--|--|--|--|--|\n",
    "|公司代號|公司名稱|營業收入|營業毛利（毛損）|營業利益（損失）|稅前淨利（淨損）|本期淨利（淨損）|基本每股盈餘（元）|單季eps|"
   ]
  },
  {
   "cell_type": "code",
   "execution_count": 40,
   "id": "02f048cd",
   "metadata": {},
   "outputs": [
    {
     "data": {
      "text/plain": [
       "<sqlite3.Cursor at 0x1b9856813b0>"
      ]
     },
     "execution_count": 40,
     "metadata": {},
     "output_type": "execute_result"
    }
   ],
   "source": [
    "sql = 'create table if not exists financialStatement \\\n",
    "           (date TEXT,\\\n",
    "            id INT ,\\\n",
    "            name TEXT ,\\\n",
    "            revenue INTEGER,\\\n",
    "            grossProfit INTEGER,\\\n",
    "            operatingIncome INTEGER,\\\n",
    "            incomeBeforeTax INTEGER,\\\n",
    "            income INTEGER, \\\n",
    "            eps FLOAT,\\\n",
    "            qeps FLOAT);'\n",
    "\n",
    "db.execute(sql)"
   ]
  },
  {
   "cell_type": "code",
   "execution_count": 41,
   "id": "d89e8337",
   "metadata": {
    "scrolled": true
   },
   "outputs": [
    {
     "data": {
      "text/html": [
       "<div>\n",
       "<style scoped>\n",
       "    .dataframe tbody tr th:only-of-type {\n",
       "        vertical-align: middle;\n",
       "    }\n",
       "\n",
       "    .dataframe tbody tr th {\n",
       "        vertical-align: top;\n",
       "    }\n",
       "\n",
       "    .dataframe thead th {\n",
       "        text-align: right;\n",
       "    }\n",
       "</style>\n",
       "<table border=\"1\" class=\"dataframe\">\n",
       "  <thead>\n",
       "    <tr style=\"text-align: right;\">\n",
       "      <th></th>\n",
       "      <th>date</th>\n",
       "      <th>id</th>\n",
       "      <th>name</th>\n",
       "      <th>revenue</th>\n",
       "      <th>grossProfit</th>\n",
       "      <th>operatingIncome</th>\n",
       "      <th>incomeBeforeTax</th>\n",
       "      <th>income</th>\n",
       "      <th>eps</th>\n",
       "      <th>qeps</th>\n",
       "    </tr>\n",
       "  </thead>\n",
       "  <tbody>\n",
       "  </tbody>\n",
       "</table>\n",
       "</div>"
      ],
      "text/plain": [
       "Empty DataFrame\n",
       "Columns: [date, id, name, revenue, grossProfit, operatingIncome, incomeBeforeTax, income, eps, qeps]\n",
       "Index: []"
      ]
     },
     "execution_count": 41,
     "metadata": {},
     "output_type": "execute_result"
    }
   ],
   "source": [
    "sql = f'select * from financialStatement'\n",
    "pd.read_sql_query(sql, db)"
   ]
  },
  {
   "cell_type": "code",
   "execution_count": 42,
   "id": "c33da516",
   "metadata": {},
   "outputs": [],
   "source": [
    "# db.execute('drop table financialStatement')"
   ]
  },
  {
   "cell_type": "markdown",
   "id": "062a79fa",
   "metadata": {},
   "source": [
    "## 資產負債表\n",
    "\n",
    "|資產總額|流動資產|非流動資產|負債總額|流動負債|非流動負債|資本公積|保留盈餘|庫藏股票|權益總額|股本|每股參考淨值|\n",
    "|--|--|--|--|--|--|--|--|--|--|--|--|\n",
    "|asset|currentAsset|nonCurrentAsset|liabilities|currentLiabilities|nonCurrentLiabilities|additionalPaid|retainedEarning|treasury|shareholderEquity|capital|pb|"
   ]
  },
  {
   "cell_type": "code",
   "execution_count": 43,
   "id": "08b697e3",
   "metadata": {},
   "outputs": [
    {
     "data": {
      "text/plain": [
       "<sqlite3.Cursor at 0x1b985681500>"
      ]
     },
     "execution_count": 43,
     "metadata": {},
     "output_type": "execute_result"
    }
   ],
   "source": [
    "sql = 'create table if not exists balanceSheet \\\n",
    "           (date TEXT,\\\n",
    "            id INT ,\\\n",
    "            name TEXT ,\\\n",
    "            asset INTEGER,\\\n",
    "            currentAsset INTEGER,\\\n",
    "            nonCurrentAsset INTEGER,\\\n",
    "            liabilities INTEGER,\\\n",
    "            currentLiabilities INTEGER, \\\n",
    "            nonCurrentLiabilities INTEGER, \\\n",
    "            additionalPaid INTEGER, \\\n",
    "            retainedEarning INTEGER, \\\n",
    "            treasury INTEGER, \\\n",
    "            shareholderEquity INTEGER, \\\n",
    "            capital INTEGER, \\\n",
    "            pb FLOAT);'\n",
    "\n",
    "db.execute(sql)"
   ]
  },
  {
   "cell_type": "code",
   "execution_count": 44,
   "id": "c572c8d6",
   "metadata": {
    "scrolled": true
   },
   "outputs": [
    {
     "data": {
      "text/html": [
       "<div>\n",
       "<style scoped>\n",
       "    .dataframe tbody tr th:only-of-type {\n",
       "        vertical-align: middle;\n",
       "    }\n",
       "\n",
       "    .dataframe tbody tr th {\n",
       "        vertical-align: top;\n",
       "    }\n",
       "\n",
       "    .dataframe thead th {\n",
       "        text-align: right;\n",
       "    }\n",
       "</style>\n",
       "<table border=\"1\" class=\"dataframe\">\n",
       "  <thead>\n",
       "    <tr style=\"text-align: right;\">\n",
       "      <th></th>\n",
       "      <th>date</th>\n",
       "      <th>id</th>\n",
       "      <th>name</th>\n",
       "      <th>asset</th>\n",
       "      <th>currentAsset</th>\n",
       "      <th>nonCurrentAsset</th>\n",
       "      <th>liabilities</th>\n",
       "      <th>currentLiabilities</th>\n",
       "      <th>nonCurrentLiabilities</th>\n",
       "      <th>additionalPaid</th>\n",
       "      <th>retainedEarning</th>\n",
       "      <th>treasury</th>\n",
       "      <th>shareholderEquity</th>\n",
       "      <th>capital</th>\n",
       "      <th>pb</th>\n",
       "    </tr>\n",
       "  </thead>\n",
       "  <tbody>\n",
       "  </tbody>\n",
       "</table>\n",
       "</div>"
      ],
      "text/plain": [
       "Empty DataFrame\n",
       "Columns: [date, id, name, asset, currentAsset, nonCurrentAsset, liabilities, currentLiabilities, nonCurrentLiabilities, additionalPaid, retainedEarning, treasury, shareholderEquity, capital, pb]\n",
       "Index: []"
      ]
     },
     "execution_count": 44,
     "metadata": {},
     "output_type": "execute_result"
    }
   ],
   "source": [
    "sql = f'select * from balanceSheet'\n",
    "pd.read_sql_query(sql, db)"
   ]
  },
  {
   "cell_type": "code",
   "execution_count": 45,
   "id": "8ff10127",
   "metadata": {},
   "outputs": [],
   "source": [
    "# db.execute(\"drop table balanceSheet\")"
   ]
  },
  {
   "cell_type": "markdown",
   "id": "1635e377",
   "metadata": {},
   "source": [
    "# 現金流量表\n",
    "\n",
    "|日期|公司代號|公司名稱|營業活動之淨現金流入（流出）|投資活動之淨現金流入（流出）|籌資活動之淨現金流入（流出）|匯率變動對現金及約當現金之影響|本期現金及約當現金增加（減少）數|期初現金及約當現金餘額|期末現金及約當現金餘額|\n",
    "|--|--|--|--|--|--|--|--|--|--|\n",
    "|date|id|name|operating|investing|financing|exchange|change|beginning|end|"
   ]
  },
  {
   "cell_type": "code",
   "execution_count": 25,
   "id": "856cfbb0",
   "metadata": {},
   "outputs": [
    {
     "data": {
      "text/plain": [
       "<sqlite3.Cursor at 0x23283336f10>"
      ]
     },
     "execution_count": 25,
     "metadata": {},
     "output_type": "execute_result"
    }
   ],
   "source": [
    "sql = 'create table if not exists cashflow \\\n",
    "           (date TEXT,\\\n",
    "            id INT ,\\\n",
    "            name TEXT ,\\\n",
    "            operating INTEGER,\\\n",
    "            investing INTEGER,\\\n",
    "            cashflow INTEGER, \\\n",
    "            qcashflow INTERGER, \\\n",
    "            financing INTEGER,\\\n",
    "            exchange INTEGER,\\\n",
    "            change INTEGER, \\\n",
    "            beginning INTEGER, \\\n",
    "            end INTEGER);'\n",
    "\n",
    "db.execute(sql)"
   ]
  },
  {
   "cell_type": "code",
   "execution_count": 8,
   "id": "e21072af",
   "metadata": {},
   "outputs": [
    {
     "data": {
      "text/html": [
       "<div>\n",
       "<style scoped>\n",
       "    .dataframe tbody tr th:only-of-type {\n",
       "        vertical-align: middle;\n",
       "    }\n",
       "\n",
       "    .dataframe tbody tr th {\n",
       "        vertical-align: top;\n",
       "    }\n",
       "\n",
       "    .dataframe thead th {\n",
       "        text-align: right;\n",
       "    }\n",
       "</style>\n",
       "<table border=\"1\" class=\"dataframe\">\n",
       "  <thead>\n",
       "    <tr style=\"text-align: right;\">\n",
       "      <th></th>\n",
       "      <th>date</th>\n",
       "      <th>id</th>\n",
       "      <th>name</th>\n",
       "      <th>operating</th>\n",
       "      <th>investing</th>\n",
       "      <th>financing</th>\n",
       "      <th>exchange</th>\n",
       "      <th>change</th>\n",
       "      <th>beginning</th>\n",
       "      <th>end</th>\n",
       "    </tr>\n",
       "  </thead>\n",
       "  <tbody>\n",
       "  </tbody>\n",
       "</table>\n",
       "</div>"
      ],
      "text/plain": [
       "Empty DataFrame\n",
       "Columns: [date, id, name, operating, investing, financing, exchange, change, beginning, end]\n",
       "Index: []"
      ]
     },
     "execution_count": 8,
     "metadata": {},
     "output_type": "execute_result"
    }
   ],
   "source": [
    "sql = f'select * from cashflow'\n",
    "pd.read_sql_query(sql, db)"
   ]
  },
  {
   "cell_type": "code",
   "execution_count": 24,
   "id": "lesbian-rough",
   "metadata": {},
   "outputs": [
    {
     "data": {
      "text/plain": [
       "<sqlite3.Cursor at 0x23283336e30>"
      ]
     },
     "execution_count": 24,
     "metadata": {},
     "output_type": "execute_result"
    }
   ],
   "source": [
    "# db.execute(\"drop table cashflow\")"
   ]
  },
  {
   "cell_type": "markdown",
   "id": "e036fb20",
   "metadata": {},
   "source": [
    "# Close DB connection"
   ]
  },
  {
   "cell_type": "code",
   "execution_count": 26,
   "id": "c23004bb",
   "metadata": {},
   "outputs": [],
   "source": [
    "db.close()"
   ]
  }
 ],
 "metadata": {
  "kernelspec": {
   "display_name": "Python 3",
   "language": "python",
   "name": "python3"
  },
  "language_info": {
   "codemirror_mode": {
    "name": "ipython",
    "version": 3
   },
   "file_extension": ".py",
   "mimetype": "text/x-python",
   "name": "python",
   "nbconvert_exporter": "python",
   "pygments_lexer": "ipython3",
   "version": "3.9.1"
  }
 },
 "nbformat": 4,
 "nbformat_minor": 5
}
