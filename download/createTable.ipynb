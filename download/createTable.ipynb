{
 "cells": [
  {
   "cell_type": "code",
   "execution_count": null,
   "id": "513771b2",
   "metadata": {},
   "outputs": [],
   "source": [
    "import requests\n",
    "from io import StringIO\n",
    "import pandas as pd\n",
    "import numpy as np\n",
    "import re\n",
    "pd.options.mode.chained_assignment = None "
   ]
  },
  {
   "cell_type": "code",
   "execution_count": 2,
   "id": "ea0ee884",
   "metadata": {},
   "outputs": [],
   "source": [
    "import sqlite3\n",
    "sqlite3.register_adapter(np.int64, int)\n",
    "db = sqlite3.connect('./stock.db', isolation_level=None)"
   ]
  },
  {
   "cell_type": "markdown",
   "id": "8cb92b33",
   "metadata": {},
   "source": [
    "# 取得上市櫃公司代號名稱"
   ]
  },
  {
   "cell_type": "code",
   "execution_count": null,
   "id": "28d27e8d",
   "metadata": {},
   "outputs": [],
   "source": [
    "SII_URL = \"https://isin.twse.com.tw/isin/C_public.jsp?strMode=2\"  # 上市公司名單\n",
    "OTC_URL = \"https://isin.twse.com.tw/isin/C_public.jsp?strMode=4\" # 上櫃公司名單  \n",
    "\n",
    "def fetchStockIdName(type):\n",
    "    r = requests.get(type)\n",
    "    df = pd.read_html(r.text)[0]\n",
    "\n",
    "    df.columns = df.iloc[0]\n",
    "    df = df.iloc[2:]\n",
    "\n",
    "    df[['證券代號','證券名稱']] = df['有價證券代號及名稱'].str.split('\\u3000', expand=True)\n",
    "    df = df.drop(columns=['備註', '有價證券代號及名稱','CFICode','國際證券辨識號碼(ISIN Code)'])\n",
    "    df = df[df['證券代號'].apply(regex_filter)]\n",
    "    return df\n",
    "\n",
    "def regex_filter(val):\n",
    "    if val:\n",
    "        mo = re.search(r'^\\d{4}$',val)\n",
    "        if mo:\n",
    "            return True\n",
    "        else:\n",
    "            return False\n",
    "    else:\n",
    "        return False\n",
    "\n",
    "df_sii = fetchStockIdName(SII_URL)\n",
    "df_otc = fetchStockIdName(OTC_URL)"
   ]
  },
  {
   "cell_type": "code",
   "execution_count": null,
   "id": "2fde7c5d",
   "metadata": {},
   "outputs": [],
   "source": [
    "print('上市家數:', len(df_sii)) \n",
    "print('上櫃家數:', len(df_otc))\n",
    "print('共:', len(df_sii) + len(df_otc))\n",
    "# 20220419: 975 795 1770\n",
    "# 20220922: 981 799 1780\n",
    "# 20221126: 928 804 1786\n",
    "# 20230805: 992 812 1804"
   ]
  },
  {
   "cell_type": "code",
   "execution_count": null,
   "id": "ec1637bd",
   "metadata": {},
   "outputs": [],
   "source": [
    "df_all = df_sii.append(df_otc)\n",
    "df_all.head()"
   ]
  },
  {
   "cell_type": "code",
   "execution_count": null,
   "id": "84bfbdbf",
   "metadata": {},
   "outputs": [],
   "source": [
    "sql = 'create table if not exists stockIdName \\\n",
    "           (id INT ,\\\n",
    "            name TEXT ,\\\n",
    "            listingDate TEXT ,\\\n",
    "            market TEXT,\\\n",
    "            industry TEXT,\\\n",
    "            capital INT);'\n",
    "db.execute(sql)"
   ]
  },
  {
   "cell_type": "code",
   "execution_count": null,
   "id": "a76705e3",
   "metadata": {
    "scrolled": true
   },
   "outputs": [],
   "source": [
    "# insert into db\n",
    "for index, row in df_all.iterrows(): \n",
    "    sql_insert = 'insert into stockIdName (id, name, listingDate, market, industry, capital) values (?,?,?,?,?,?)'\n",
    "    try:\n",
    "        db.execute(sql_insert, (int(row['證券代號']), row['證券名稱'], row['上市日'], row['市場別'],row['產業別'], 0))\n",
    "    except:\n",
    "        pass"
   ]
  },
  {
   "cell_type": "code",
   "execution_count": null,
   "id": "d97b0877",
   "metadata": {
    "scrolled": true
   },
   "outputs": [],
   "source": [
    "# check in db\n",
    "df_stock_id_name = pd.read_sql_query(\"select * from stockIdName\",db)\n",
    "df_stock_id_name"
   ]
  },
  {
   "cell_type": "code",
   "execution_count": null,
   "id": "b782ae86",
   "metadata": {},
   "outputs": [],
   "source": [
    "# db.execute('drop table stockIdName')"
   ]
  },
  {
   "cell_type": "markdown",
   "id": "751ef1c0",
   "metadata": {},
   "source": [
    "# Create daily stock table"
   ]
  },
  {
   "cell_type": "code",
   "execution_count": null,
   "id": "0bd54a30",
   "metadata": {
    "scrolled": true
   },
   "outputs": [],
   "source": [
    "sql = 'create table if not exists daily \\\n",
    "           (date DATE, \\\n",
    "            id INT ,\\\n",
    "            name TEXT ,\\\n",
    "            tradeVolumn INTEGER ,\\\n",
    "            [transaction] INTEGER ,\\\n",
    "            tradeValue INTEGER ,\\\n",
    "            open FLOAT ,\\\n",
    "            high FLOAT ,\\\n",
    "            low FLOAT ,\\\n",
    "            close FLOAT ,\\\n",
    "            dir TEXT ,\\\n",
    "            change FLOAT ,\\\n",
    "            bidPrice FLOAT ,\\\n",
    "            bidVolumn INTEGER ,\\\n",
    "            askPrice FLOAT ,\\\n",
    "            askVolumn INTEGER ,\\\n",
    "            pe FLOAT);'\n",
    "\n",
    "db.execute(sql)"
   ]
  },
  {
   "cell_type": "code",
   "execution_count": null,
   "id": "602fb1ad",
   "metadata": {
    "scrolled": true
   },
   "outputs": [],
   "source": [
    "# check in db\n",
    "sql = f'select * from daily'\n",
    "pd.read_sql_query(sql, db)"
   ]
  },
  {
   "cell_type": "code",
   "execution_count": null,
   "id": "98837865",
   "metadata": {},
   "outputs": [],
   "source": [
    "# db.execute('drop table daily')"
   ]
  },
  {
   "cell_type": "markdown",
   "id": "f61565f1",
   "metadata": {},
   "source": [
    "# Search DB tables \n",
    "查詢目前資料庫 資料表"
   ]
  },
  {
   "cell_type": "code",
   "execution_count": 3,
   "id": "af01350e",
   "metadata": {
    "scrolled": true
   },
   "outputs": [
    {
     "name": "stdout",
     "output_type": "stream",
     "text": [
      "資料庫共: 8 張表\n",
      "table name: \n",
      "   daily\n",
      "   monthlyRevenue\n",
      "   cashflow\n",
      "   balanceSheet\n",
      "   yield\n",
      "   financialStatement\n",
      "   stockIdName\n",
      "   features\n"
     ]
    }
   ],
   "source": [
    "tables = db.execute(\"select sql from sqlite_master where type = 'table'\").fetchall()\n",
    "print(f\"資料庫共: {len(tables)} 張表\")\n",
    "print('table name: ')\n",
    "for row in tables:\n",
    "    print('  ', row[0].split(' ')[2])"
   ]
  },
  {
   "cell_type": "markdown",
   "id": "936b6e4f",
   "metadata": {},
   "source": [
    "# 月營收 Monthly revenue"
   ]
  },
  {
   "cell_type": "markdown",
   "id": "844300be",
   "metadata": {},
   "source": [
    "DB columns\n",
    "\n",
    "    date 年月份 TEXT\n",
    "    id 公司代號 INT,    \n",
    "    name 公司名稱 TEXT,    \n",
    "    revenue 當月營收 INTEGER,\n",
    "    lastMonthRevenue 上月營收 INTEGER, \n",
    "    MoM 上月比較增減 FLOAT,\n",
    "    lastYearRevenue 去年當月營收 INTEGER,\n",
    "    YoY 去年同月增減 FLOAT, \n",
    "    lastSum 去年累計營收 INTEGER, \n",
    "    sumYoY 前期比較增減 FLOAT,\n",
    "    sum 當月累計營收 INTEGER, \n",
    "    note 備註 TEXT );'"
   ]
  },
  {
   "cell_type": "code",
   "execution_count": null,
   "id": "f35f5649",
   "metadata": {},
   "outputs": [],
   "source": [
    "name = \"monthlyRevenue\"\n",
    "sql = f'create table if not exists {name} \\\n",
    "           (date TEXT, \\\n",
    "            id INT,     \\\n",
    "            name TEXT,    \\\n",
    "            revenue INTEGER, \\\n",
    "            lastMonthRevenue INTEGER, \\\n",
    "            MoM FLOAT, \\\n",
    "            lastYearRevenue INTEGER, \\\n",
    "            YoY FLOAT, \\\n",
    "            lastSum INTEGER, \\\n",
    "            sumYoY FLOAT,\\\n",
    "            sum INTEGER, \\\n",
    "            note TEXT );'\n",
    "\n",
    "db.execute(sql)"
   ]
  },
  {
   "cell_type": "code",
   "execution_count": null,
   "id": "6c77b34a",
   "metadata": {},
   "outputs": [],
   "source": [
    "# db.execute('drop table monthlyRevenue')"
   ]
  },
  {
   "cell_type": "markdown",
   "id": "9ce71d77",
   "metadata": {},
   "source": [
    "# 財報\n",
    "\n",
    "## 綜合損益彙表\n",
    "\n",
    "|id|name|revenue|grossProfit|operatingIncome|incomeBeforeTax|income|eps|qeps|\n",
    "|--|--|--|--|--|--|--|--|--|\n",
    "|公司代號|公司名稱|營業收入|營業毛利（毛損）|營業利益（損失）|稅前淨利（淨損）|本期淨利（淨損）|基本每股盈餘（元）|單季eps|"
   ]
  },
  {
   "cell_type": "code",
   "execution_count": null,
   "id": "02f048cd",
   "metadata": {},
   "outputs": [],
   "source": [
    "sql = 'create table if not exists financialStatement \\\n",
    "           (date TEXT,\\\n",
    "            id INT ,\\\n",
    "            name TEXT ,\\\n",
    "            revenue INTEGER,\\\n",
    "            grossProfit INTEGER,\\\n",
    "            operatingIncome INTEGER,\\\n",
    "            incomeBeforeTax INTEGER,\\\n",
    "            income INTEGER, \\\n",
    "            qincome INTEGER, \\\n",
    "            eps FLOAT,\\\n",
    "            qeps FLOAT);'\n",
    "\n",
    "db.execute(sql)"
   ]
  },
  {
   "cell_type": "code",
   "execution_count": null,
   "id": "d89e8337",
   "metadata": {
    "scrolled": true
   },
   "outputs": [],
   "source": [
    "sql = f'select * from financialStatement'\n",
    "pd.read_sql_query(sql, db)"
   ]
  },
  {
   "cell_type": "code",
   "execution_count": null,
   "id": "c33da516",
   "metadata": {},
   "outputs": [],
   "source": [
    "db.execute('drop table financialStatement')"
   ]
  },
  {
   "cell_type": "markdown",
   "id": "062a79fa",
   "metadata": {},
   "source": [
    "## 資產負債表\n",
    "\n",
    "|資產總額|流動資產|非流動資產|負債總額|流動負債|非流動負債|資本公積|保留盈餘|庫藏股票|權益總額|股本|每股參考淨值|\n",
    "|--|--|--|--|--|--|--|--|--|--|--|--|\n",
    "|asset|currentAsset|nonCurrentAsset|liabilities|currentLiabilities|nonCurrentLiabilities|additionalPaid|retainedEarning|treasury|shareholderEquity|capital|pb|"
   ]
  },
  {
   "cell_type": "code",
   "execution_count": null,
   "id": "08b697e3",
   "metadata": {},
   "outputs": [],
   "source": [
    "sql = 'create table if not exists balanceSheet \\\n",
    "           (date TEXT,\\\n",
    "            id INT ,\\\n",
    "            name TEXT ,\\\n",
    "            asset INTEGER,\\\n",
    "            currentAsset INTEGER,\\\n",
    "            nonCurrentAsset INTEGER,\\\n",
    "            liabilities INTEGER,\\\n",
    "            currentLiabilities INTEGER, \\\n",
    "            nonCurrentLiabilities INTEGER, \\\n",
    "            additionalPaid INTEGER, \\\n",
    "            retainedEarning INTEGER, \\\n",
    "            treasury INTEGER, \\\n",
    "            shareholderEquity INTEGER, \\\n",
    "            capital INTEGER, \\\n",
    "            pb FLOAT);'\n",
    "\n",
    "db.execute(sql)"
   ]
  },
  {
   "cell_type": "code",
   "execution_count": null,
   "id": "c572c8d6",
   "metadata": {
    "scrolled": true
   },
   "outputs": [],
   "source": [
    "sql = f'select * from balanceSheet'\n",
    "pd.read_sql_query(sql, db)"
   ]
  },
  {
   "cell_type": "code",
   "execution_count": null,
   "id": "8ff10127",
   "metadata": {},
   "outputs": [],
   "source": [
    "# db.execute(\"drop table balanceSheet\")"
   ]
  },
  {
   "cell_type": "markdown",
   "id": "1635e377",
   "metadata": {},
   "source": [
    "# 現金流量表\n",
    "\n",
    "|日期|公司代號|公司名稱|營業活動之淨現金流入（流出）|投資活動之淨現金流入（流出）|籌資活動之淨現金流入（流出）|匯率變動對現金及約當現金之影響|本期現金及約當現金增加（減少）數|期初現金及約當現金餘額|期末現金及約當現金餘額|\n",
    "|--|--|--|--|--|--|--|--|--|--|\n",
    "|date|id|name|operating|investing|financing|exchange|change|beginning|end|"
   ]
  },
  {
   "cell_type": "code",
   "execution_count": null,
   "id": "856cfbb0",
   "metadata": {},
   "outputs": [],
   "source": [
    "sql = 'create table if not exists cashflow \\\n",
    "           (date TEXT,\\\n",
    "            id INT ,\\\n",
    "            name TEXT ,\\\n",
    "            operating INTEGER,\\\n",
    "            investing INTEGER,\\\n",
    "            cashflow INTEGER, \\\n",
    "            qcashflow INTERGER, \\\n",
    "            financing INTEGER,\\\n",
    "            exchange INTEGER,\\\n",
    "            change INTEGER, \\\n",
    "            beginning INTEGER, \\\n",
    "            end INTEGER);'\n",
    "\n",
    "db.execute(sql)"
   ]
  },
  {
   "cell_type": "code",
   "execution_count": null,
   "id": "e21072af",
   "metadata": {},
   "outputs": [],
   "source": [
    "sql = f'select * from cashflow'\n",
    "pd.read_sql_query(sql, db)"
   ]
  },
  {
   "cell_type": "code",
   "execution_count": null,
   "id": "lesbian-rough",
   "metadata": {},
   "outputs": [],
   "source": [
    "# db.execute(\"drop table cashflow\")"
   ]
  },
  {
   "cell_type": "markdown",
   "id": "e036fb20",
   "metadata": {},
   "source": [
    "# Close DB connection"
   ]
  },
  {
   "cell_type": "code",
   "execution_count": 4,
   "id": "c23004bb",
   "metadata": {},
   "outputs": [],
   "source": [
    "db.close()"
   ]
  }
 ],
 "metadata": {
  "kernelspec": {
   "display_name": "Python 3 (ipykernel)",
   "language": "python",
   "name": "python3"
  },
  "language_info": {
   "codemirror_mode": {
    "name": "ipython",
    "version": 3
   },
   "file_extension": ".py",
   "mimetype": "text/x-python",
   "name": "python",
   "nbconvert_exporter": "python",
   "pygments_lexer": "ipython3",
   "version": "3.9.16"
  }
 },
 "nbformat": 4,
 "nbformat_minor": 5
}
