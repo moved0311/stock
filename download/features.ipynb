{
 "cells": [
  {
   "cell_type": "code",
   "execution_count": null,
   "id": "936074c6",
   "metadata": {},
   "outputs": [],
   "source": [
    "import requests\n",
    "from io import StringIO\n",
    "import pandas as pd\n",
    "import numpy as np\n",
    "import sqlite3\n",
    "sqlite3.register_adapter(np.int64, int)\n",
    "import re\n",
    "import math\n",
    "from datetime import date\n",
    "import matplotlib.pyplot as plt\n",
    "\n",
    "# 展開所有dataframe columns\n",
    "pd.set_option('display.max_rows', 2000)\n",
    "pd.set_option('display.max_columns', 500)\n",
    "pd.set_option('display.width', 1000)\n",
    "pd.set_option ('display.max_colwidth',500)\n",
    "\n",
    "# 不縮寫成科學記號\n",
    "pd.set_option('display.float_format',lambda x : '%.2f' % x)\n",
    "\n",
    "db = sqlite3.connect('./stock.db' , isolation_level=None)"
   ]
  },
  {
   "cell_type": "code",
   "execution_count": null,
   "id": "a68a60d1",
   "metadata": {},
   "outputs": [],
   "source": [
    "# 下次換季時間： 3/31, 5/15, 8/14, 11/14\n",
    "QUARTERS = ['2022q4','2023q1','2023q2','2023q3']\n",
    "CURRENT_QUARTER = QUARTERS[-1][-2:]\n",
    "CURRENT_QUARTERS = list(map(lambda q: q[-2:], QUARTERS))\n",
    "CURRENT_YEAR = int(QUARTERS[-1][0:4])\n",
    "LAST_YEAR_QUARTER = '2022q4'\n",
    "CURRENT_YEARS = [2018, 2019, 2020, 2021, 2022]\n",
    "print(\"QUARTERS:\", QUARTERS)\n",
    "print(\"CURRENT_QUARTER:\", CURRENT_QUARTER)\n",
    "print(\"CURRENT_QUARTERS:\", CURRENT_QUARTERS)\n",
    "print(\"CURRENT_YEAR:\", CURRENT_YEAR)\n",
    "print(\"LAST_YEAR_QUARTER:\", LAST_YEAR_QUARTER)\n",
    "print(\"CURRENT_YEARS:\", CURRENT_YEARS)"
   ]
  },
  {
   "cell_type": "code",
   "execution_count": null,
   "id": "37cce83a",
   "metadata": {},
   "outputs": [],
   "source": [
    "# 查詢股本table\n",
    "df_stock_id_name = pd.read_sql_query(\"select * from stockIdName\",db)\n",
    "df_stock_id_name.head()"
   ]
  },
  {
   "cell_type": "code",
   "execution_count": null,
   "id": "137f75c1",
   "metadata": {},
   "outputs": [],
   "source": [
    "out = df_stock_id_name[['id', 'name', 'market', 'industry', 'capital']]\n",
    "out.head()"
   ]
  },
  {
   "cell_type": "code",
   "execution_count": null,
   "id": "cc88c282",
   "metadata": {},
   "outputs": [],
   "source": [
    "ids = out['id'].tolist()"
   ]
  },
  {
   "cell_type": "markdown",
   "id": "13d9760b",
   "metadata": {},
   "source": [
    "# 用的到的table(加速運算時間,不用每個id都查db)"
   ]
  },
  {
   "cell_type": "code",
   "execution_count": null,
   "id": "7b5a5bb3",
   "metadata": {},
   "outputs": [],
   "source": [
    "# 月營收\n",
    "monthly = pd.read_sql_query(f\"select * from monthlyRevenue order by date\" , db)\n",
    "# 日收盤\n",
    "daily = pd.read_sql_query(\"select * from daily\",db)\n",
    "daily = daily.sort_values(by=['date'])\n",
    "# 現金流量表\n",
    "cashflow = pd.read_sql_query(\"select * from cashflow order by date\",db)\n",
    "# 財報\n",
    "df_financial_statement = pd.read_sql_query(\"select * from financialStatement order by date\",db)\n",
    "df_financial_statement = df_financial_statement.fillna(0)\n",
    "df_financial_statement.replace('--', 0, inplace=True)\n",
    "# 負債表\n",
    "df_debt = pd.read_sql_query(f\"select * from balanceSheet order by date\",db)"
   ]
  },
  {
   "cell_type": "markdown",
   "id": "3bb66304",
   "metadata": {},
   "source": [
    "# YoY > 0筆數\n",
    "\n",
    "月營收yoy>0筆數"
   ]
  },
  {
   "cell_type": "code",
   "execution_count": null,
   "id": "8c06beca",
   "metadata": {
    "scrolled": true
   },
   "outputs": [],
   "source": [
    "def countYoYGreaterThan0(id):\n",
    "    df = monthly[(monthly['id']==id) & (monthly['YoY'] > 0)]\n",
    "    \n",
    "    try:\n",
    "        return len(df)\n",
    "    except:\n",
    "        return np.nan\n",
    "    \n",
    "count = [countYoYGreaterThan0(id) for id in ids]\n",
    "out['yoyIncreaseCount'] = count"
   ]
  },
  {
   "cell_type": "code",
   "execution_count": null,
   "id": "c697901d",
   "metadata": {},
   "outputs": [],
   "source": [
    "out.sort_values(by=['yoyIncreaseCount'], ascending=False).head(10)"
   ]
  },
  {
   "cell_type": "markdown",
   "id": "d3154fe7",
   "metadata": {},
   "source": [
    "# 月營收"
   ]
  },
  {
   "cell_type": "code",
   "execution_count": null,
   "id": "pacific-aggregate",
   "metadata": {},
   "outputs": [],
   "source": [
    "# 近12月營收平均\n",
    "def TTMRevenueCal(id):\n",
    "    df = monthly[(monthly['id']==id)].tail(12)\n",
    "\n",
    "    try:\n",
    "        TTMRevenue = round((df['revenue'].sum()/100000),2)\n",
    "        TTMYoY = round(df['sumYoY'].mean() ,2)\n",
    "        return TTMRevenue, TTMYoY\n",
    "    except:\n",
    "        return np.nan\n",
    "\n",
    "out['TTMRevenue'] = [TTMRevenueCal(id)[0] for id in ids]\n",
    "out['TTMYoY'] = [TTMRevenueCal(id)[1] for id in ids]\n",
    "\n",
    "# TTMRevenueCal(2330)"
   ]
  },
  {
   "cell_type": "code",
   "execution_count": null,
   "id": "6f6dae51",
   "metadata": {},
   "outputs": [],
   "source": [
    "out[out['id'].isin([2330,3037])]"
   ]
  },
  {
   "cell_type": "markdown",
   "id": "e1ae4f8f",
   "metadata": {},
   "source": [
    "# 毛利率(Gross Profit Margin)\n",
    "# 營業利益率(Operating profit Margin)\n",
    "# 淨利率(Net profit margin)"
   ]
  },
  {
   "cell_type": "code",
   "execution_count": null,
   "id": "845b26cc",
   "metadata": {
    "scrolled": false
   },
   "outputs": [],
   "source": [
    "df_financial_statement['grossProfitMargin'] = df_financial_statement['grossProfit'].div(df_financial_statement['revenue'])\n",
    "df_financial_statement['operatingProfitMargin'] = df_financial_statement['operatingIncome'].div(df_financial_statement['revenue'])\n",
    "df_financial_statement['netProfitMargin'] = df_financial_statement['income'].div(df_financial_statement['revenue'])"
   ]
  },
  {
   "cell_type": "code",
   "execution_count": null,
   "id": "53a0cdd6",
   "metadata": {},
   "outputs": [],
   "source": [
    "# 近四季毛利率、營業利益率、淨利率\n",
    "def writeToOut(id, date, col):\n",
    "    df = df_financial_statement[(df_financial_statement['date']==date) & (df_financial_statement['id']==id)]\n",
    "    try: \n",
    "        return round(df[col].iloc[0], 2)\n",
    "    except:\n",
    "        return np.nan\n",
    "\n",
    "cols = ['grossProfitMargin', 'operatingProfitMargin', 'netProfitMargin']\n",
    "\n",
    "for col in cols:\n",
    "    for idx, quarter in enumerate(QUARTERS):\n",
    "        out[f'{col}{CURRENT_QUARTERS[idx]}'] = [writeToOut(id, quarter, col) for id in ids]\n",
    "\n",
    "# writeToOut(2330, '2023q2', 'grossProfitMargin')"
   ]
  },
  {
   "cell_type": "code",
   "execution_count": null,
   "id": "7aa18369",
   "metadata": {},
   "outputs": [],
   "source": [
    "out[out['id'].isin([2330,2454,3037])]"
   ]
  },
  {
   "cell_type": "code",
   "execution_count": null,
   "id": "a739c469",
   "metadata": {},
   "outputs": [],
   "source": [
    "# 近五年毛利率,營業利益率,淨利率 (too slow !!!)\n",
    "def findYearFinancialStatement(id, year, col):\n",
    "    try:\n",
    "        return round(df_financial_statement[(df_financial_statement['id']==id) & (df_financial_statement['date'].str.contains(str(year)+'q4'))][col].iloc[0], 2)\n",
    "    except:\n",
    "        return np.nan\n",
    "\n",
    "# for col in cols:\n",
    "#     for year in CURRENT_YEARS:\n",
    "#         out[f\"{year}{col}\"] = [findYearFinancialStatement(id, year, col) for id in ids]"
   ]
  },
  {
   "cell_type": "markdown",
   "id": "de278498",
   "metadata": {},
   "source": [
    "# EPS"
   ]
  },
  {
   "cell_type": "code",
   "execution_count": null,
   "id": "08a3b4b9",
   "metadata": {
    "scrolled": true
   },
   "outputs": [],
   "source": [
    "# 近四季eps\n",
    "def nearFourQuarterEPS(id):\n",
    "    try:\n",
    "        fid = df_financial_statement['id'] == id\n",
    "        return round(df_financial_statement[fid].sort_values(by=['date']).tail(4)['qeps'].sum(), 2)\n",
    "    except:\n",
    "        return np.nan\n",
    "\n",
    "# nearFourQuarterEPS(4977)\n",
    "\n",
    "out['eps'] = [nearFourQuarterEPS(id) for id in ids]"
   ]
  },
  {
   "cell_type": "code",
   "execution_count": null,
   "id": "448274ea",
   "metadata": {
    "scrolled": true
   },
   "outputs": [],
   "source": [
    "# 上年eps\n",
    "def lastYearEPS(id):\n",
    "    try:\n",
    "        isId = df_financial_statement['id'] == id\n",
    "        isLastYear = df_financial_statement['date'].str.contains(LAST_YEAR_QUARTER)\n",
    "        return df_financial_statement[isId & isLastYear]['eps'].iloc[0]\n",
    "    except:\n",
    "        return np.nan \n",
    "    \n",
    "out['last_eps'] = [lastYearEPS(id) for id in ids]"
   ]
  },
  {
   "cell_type": "markdown",
   "id": "4cef02ff",
   "metadata": {},
   "source": [
    "# 收盤價"
   ]
  },
  {
   "cell_type": "code",
   "execution_count": null,
   "id": "d4ec48c3",
   "metadata": {},
   "outputs": [],
   "source": [
    "def recentClose(id):\n",
    "    try:\n",
    "        return daily[daily['id']==id].tail(1).iloc[0]['close']\n",
    "    except:\n",
    "        return np.nan\n",
    "    \n",
    "out['收盤價'] = [recentClose(id) for id in ids]"
   ]
  },
  {
   "cell_type": "markdown",
   "id": "6d728397",
   "metadata": {},
   "source": [
    "# 現金流量"
   ]
  },
  {
   "cell_type": "code",
   "execution_count": null,
   "id": "floating-still",
   "metadata": {},
   "outputs": [],
   "source": [
    "# 近四季自由現金\n",
    "def calFreeCashFlow(id):\n",
    "    try:\n",
    "        df = cashflow[cashflow['id']==id].tail(4)\n",
    "        return math.floor(df['qcashflow'].sum() / 1e5)\n",
    "    except:\n",
    "        return np.nan\n",
    "    \n",
    "# calFreeCashFlow(4977)\n",
    "out['freeCashFlow'] = [calFreeCashFlow(id) for id in ids]"
   ]
  },
  {
   "cell_type": "code",
   "execution_count": null,
   "id": "matched-extra",
   "metadata": {},
   "outputs": [],
   "source": [
    "# 近5年自由現金流平均\n",
    "def FiveYearsFreeCashFlowAvg(id):\n",
    "    try:\n",
    "        df = cashflow[(cashflow['id']==id) & (cashflow['date'].str.contains('q4'))].tail(5)\n",
    "        freeCash = df['operating'] + df['investing']\n",
    "        return math.floor(freeCash.mean() / 1e5)\n",
    "    except:\n",
    "        return np.nan\n",
    "    \n",
    "out['freeCashFlow5Y'] = [FiveYearsFreeCashFlowAvg(id) for id in ids]"
   ]
  },
  {
   "cell_type": "code",
   "execution_count": null,
   "id": "a715409c",
   "metadata": {},
   "outputs": [],
   "source": [
    "out[out['id'].isin([5483,2454,3037,9103])]"
   ]
  },
  {
   "cell_type": "markdown",
   "id": "c017a8af",
   "metadata": {},
   "source": [
    "# 負債"
   ]
  },
  {
   "cell_type": "code",
   "execution_count": null,
   "id": "8528b2f9",
   "metadata": {
    "scrolled": true
   },
   "outputs": [],
   "source": [
    "def debt(id):\n",
    "    df = df_debt[df_debt['id']==id].tail(1)\n",
    "    df['debtRate'] = df['liabilities'] / df['asset']\n",
    "    try:\n",
    "        return round(df['debtRate'].iloc[0] ,2)\n",
    "    except:\n",
    "        return np.nan\n",
    "\n",
    "out['debt'] = [debt(id) for id in ids]"
   ]
  },
  {
   "cell_type": "markdown",
   "id": "e584515c",
   "metadata": {},
   "source": [
    "# 市值"
   ]
  },
  {
   "cell_type": "code",
   "execution_count": null,
   "id": "c1b18d48",
   "metadata": {
    "scrolled": true
   },
   "outputs": [],
   "source": [
    "out['marketCap'] = round(out['收盤價'] * out['capital'], 2)\n",
    "df_marketCap = out.sort_values(by=['marketCap'], ascending=False).head(50)\n",
    "df_marketCap[['id', 'name', 'industry', 'capital', 'marketCap', 'eps', '收盤價', ]]"
   ]
  },
  {
   "cell_type": "markdown",
   "id": "1a15b5d3",
   "metadata": {},
   "source": [
    "# MA"
   ]
  },
  {
   "cell_type": "code",
   "execution_count": null,
   "id": "506e30b1",
   "metadata": {},
   "outputs": [],
   "source": [
    "def ma(id, day):\n",
    "    df_close = daily[daily['id'] == id]\n",
    "    try:\n",
    "        return round(df_close.tail(day)['close'].mean(), 2)\n",
    "    except:\n",
    "        return np.nan\n",
    "out['ma20'] = [ma(id, 20) for id in ids]\n",
    "out['ma60'] = [ma(id, 60) for id in ids]\n",
    "out['ma120'] = [ma(id, 120) for id in ids]\n",
    "out['aboveMa20'] = out['收盤價'] > out['ma20']"
   ]
  },
  {
   "cell_type": "code",
   "execution_count": null,
   "id": "350c0b69",
   "metadata": {},
   "outputs": [],
   "source": [
    "out[out['id'].isin([4977,2330])]"
   ]
  },
  {
   "cell_type": "markdown",
   "id": "1b60e7a8",
   "metadata": {},
   "source": [
    "# PE, EPS_INCREASE, PEG"
   ]
  },
  {
   "cell_type": "code",
   "execution_count": null,
   "id": "7269f82b",
   "metadata": {
    "scrolled": true
   },
   "outputs": [],
   "source": [
    "# pe\n",
    "series_pe = round(out['收盤價']/out['eps'] ,2)\n",
    "out['pe'] = series_pe\n",
    "\n",
    "# eps_increase\n",
    "out['eps_increase'] = round(100*(out['eps']-out['last_eps'])/out['last_eps'], 2)\n",
    "\n",
    "# peg\n",
    "out['peg'] = round(out['pe']/out['eps_increase'], 2)"
   ]
  },
  {
   "cell_type": "code",
   "execution_count": null,
   "id": "a65e27d7",
   "metadata": {},
   "outputs": [],
   "source": [
    "def cal_avg_pe(id):\n",
    "    df = daily[daily['id']==id]\n",
    "    try:\n",
    "        return round(df['pe'].mean(), 2)\n",
    "    except:\n",
    "        return np.nan\n",
    "\n",
    "out['avg_pe'] = [cal_avg_pe(id) for id in ids]"
   ]
  },
  {
   "cell_type": "markdown",
   "id": "analyzed-donna",
   "metadata": {},
   "source": [
    "## 筆數"
   ]
  },
  {
   "cell_type": "code",
   "execution_count": null,
   "id": "exposed-zealand",
   "metadata": {},
   "outputs": [],
   "source": [
    "def count_daily(id):\n",
    "    df = daily[daily['id']==id]\n",
    "    return len(df)\n",
    "\n",
    "out['count'] = [count_daily(id) for id in ids]"
   ]
  },
  {
   "cell_type": "markdown",
   "id": "optical-independence",
   "metadata": {},
   "source": [
    "## DCF"
   ]
  },
  {
   "cell_type": "code",
   "execution_count": null,
   "id": "appointed-corruption",
   "metadata": {},
   "outputs": [],
   "source": [
    "def epsDcf(eps, cagr = 0.02):\n",
    "    r = 0.08   # 折現率, 希望報酬, 大盤平均報酬, WACC\n",
    "    g = 0.02  # 永續成長率\n",
    "    COUNT_YEAR = 5\n",
    "    EV = 0     # 企業價值(每年eps折現加總+最終價值tv)\n",
    "\n",
    "    for year in range(1, COUNT_YEAR + 1):\n",
    "        FCF = round(eps * pow(1 + cagr, year), 2)\n",
    "        discountFCF = round(FCF / pow((1 + r), year), 2)\n",
    "        EV += discountFCF\n",
    "\n",
    "        if(year == COUNT_YEAR):\n",
    "            TV = (discountFCF * (1 + g)) / (r - g)\n",
    "            TV = round(TV / (pow((1 + r), COUNT_YEAR)) , 2)\n",
    "            EV += TV\n",
    "    \n",
    "    return EV\n",
    "\n",
    "out['epsDcf'] = epsDcf(out['eps'])"
   ]
  },
  {
   "cell_type": "code",
   "execution_count": null,
   "id": "informed-particular",
   "metadata": {},
   "outputs": [],
   "source": [
    "def cashflowDcf(cashflow, cagr = 0.02):\n",
    "    r = 0.08   # 折現率, 希望報酬, 大盤平均報酬, WACC\n",
    "    g = 0.02  # 永續成長率\n",
    "    COUNT_YEAR = 5\n",
    "    EV = 0     # 企業價值(每年eps折現加總+最終價值tv)\n",
    "\n",
    "    for year in range(1, COUNT_YEAR + 1):\n",
    "        FCF = round(cashflow * pow(1 + cagr, year), 2)\n",
    "        discountFCF = round(FCF / pow((1 + r), year), 2)\n",
    "        EV += discountFCF\n",
    "\n",
    "        if(year == COUNT_YEAR):\n",
    "            TV = (discountFCF * (1 + g)) / (r - g)\n",
    "            TV = round(TV / (pow((1 + r), COUNT_YEAR)) , 2)\n",
    "            EV += TV\n",
    "    return EV\n",
    "\n",
    "def calCashflowDcf(id, cagr = 0.02):\n",
    "    df = out[out['id']==id]\n",
    "    freeCashFlow = df['freeCashFlow'].iloc[0]\n",
    "    \n",
    "    df_ids = df_stock_id_name[df_stock_id_name['id']==id]\n",
    "    capital = df_ids['capital'].iloc[0]\n",
    "    \n",
    "    return round(cashflowDcf(freeCashFlow, cagr)/capital, 2)\n",
    "\n",
    "out['cashflowDcf'] = [calCashflowDcf(id) for id in ids]"
   ]
  },
  {
   "cell_type": "code",
   "execution_count": null,
   "id": "a8c5f54a",
   "metadata": {},
   "outputs": [],
   "source": [
    "out['epsDcfClose'] = out['收盤價'] < out['epsDcf']\n",
    "out['cashflowDcfClose'] = out['收盤價'] < out['cashflowDcf']"
   ]
  },
  {
   "cell_type": "markdown",
   "id": "demonstrated-habitat",
   "metadata": {},
   "source": [
    "# ROE"
   ]
  },
  {
   "cell_type": "code",
   "execution_count": null,
   "id": "surrounded-photograph",
   "metadata": {
    "scrolled": true
   },
   "outputs": [],
   "source": [
    "def roe(id, ttm = True):\n",
    "    try:\n",
    "        debt = df_debt[df_debt['id']==id].tail(1)\n",
    "        shareholderEquity = debt['shareholderEquity'].iloc[0]\n",
    "        financial_statement = df_financial_statement[df_financial_statement['id']==id].tail(4)\n",
    "        income_mean = financial_statement['qincome'].mean()\n",
    "        income_q = financial_statement['qincome'].tail(1).iloc[0]\n",
    "        income =  income_mean if ttm else income_q\n",
    "        \n",
    "        return round(income*100/shareholderEquity , 2)\n",
    "    except:\n",
    "        return np.nan\n",
    "\n",
    "out['TTMRoe'] = [roe(id) for id in ids]\n",
    "out['roe'] = [roe(id, False) for id in ids]"
   ]
  },
  {
   "cell_type": "code",
   "execution_count": null,
   "id": "manual-capacity",
   "metadata": {},
   "outputs": [],
   "source": [
    "# 計分\n",
    "# 1. 在月線上\n",
    "# 2. close < epsDcfClose\n",
    "# 3. close < cashflowDcfClose\n",
    "out['score'] = out['aboveMa20'].astype(int) + out['epsDcfClose'].astype(int) + out['cashflowDcfClose'].astype(int)"
   ]
  },
  {
   "cell_type": "code",
   "execution_count": null,
   "id": "dependent-culture",
   "metadata": {},
   "outputs": [],
   "source": [
    "out[out['id'].isin([4977,2330,3037,2454,2379,6245])]"
   ]
  },
  {
   "cell_type": "code",
   "execution_count": null,
   "id": "traditional-surgery",
   "metadata": {},
   "outputs": [],
   "source": [
    "features = out[['id','name','market','industry','capital','marketCap','debt','TTMRevenue','TTMYoY','TTMRoe','roe','freeCashFlow','freeCashFlow5Y','last_eps','eps','eps_increase','yoyIncreaseCount','pe','avg_pe','peg','ma20','ma60','ma120','aboveMa20','收盤價','epsDcf','cashflowDcf','epsDcfClose','cashflowDcfClose','score']]\n",
    "features[features['id'].isin([4977,2330,3037,2454,2379,2404,6670,6245])]"
   ]
  },
  {
   "cell_type": "markdown",
   "id": "cb24ea73",
   "metadata": {},
   "source": [
    "# 統計數字"
   ]
  },
  {
   "cell_type": "code",
   "execution_count": null,
   "id": "6f905fd0",
   "metadata": {},
   "outputs": [],
   "source": [
    "today = '20231203'\n",
    "print('總家數:', len(out))\n",
    "print('市值大於50億家數:', len(out[out['marketCap'] > 50]))\n",
    "print(f'市值加總: {round(out[\"marketCap\"].sum()/1e4, 2)}兆')"
   ]
  },
  {
   "cell_type": "code",
   "execution_count": null,
   "id": "597ce84f",
   "metadata": {},
   "outputs": [],
   "source": [
    "features.to_csv(f\"features_{today}.csv\", index = False)"
   ]
  },
  {
   "cell_type": "code",
   "execution_count": null,
   "id": "7c92a616",
   "metadata": {},
   "outputs": [],
   "source": [
    "# 在季線上家數\n",
    "upMa60 = len(out[out['收盤價'] > out['ma60']])\n",
    "percent = round(len(out[out['收盤價'] > out['ma60']])*100/len(out), 2)\n",
    "print(f'在季線上家數: {upMa60} ({percent}%)')\n",
    "upMa120 = len(out[out['收盤價'] > out['ma120']])\n",
    "percent120 = round(len(out[out['收盤價'] > out['ma120']])*100/len(out), 2)\n",
    "print(f'在半年線上家數: {upMa120} ({percent120}%)')"
   ]
  },
  {
   "cell_type": "code",
   "execution_count": null,
   "id": "limited-longitude",
   "metadata": {},
   "outputs": [],
   "source": [
    "out[out['id'].isin([4977])]"
   ]
  },
  {
   "cell_type": "code",
   "execution_count": null,
   "id": "colonial-spoke",
   "metadata": {},
   "outputs": [],
   "source": [
    "out.to_csv(f\"features_{today}.csv\", index = False)"
   ]
  },
  {
   "cell_type": "markdown",
   "id": "composite-dream",
   "metadata": {},
   "source": [
    "# 選股1\n",
    "* roe > 5\n",
    "* 股價 < dfc(eps and cashflow)\n",
    "* 排除航運\n",
    "* 5年free cashflow > 0"
   ]
  },
  {
   "cell_type": "code",
   "execution_count": null,
   "id": "inappropriate-poker",
   "metadata": {
    "scrolled": true
   },
   "outputs": [],
   "source": [
    "filter = out\n",
    "roe = (filter['roe'] > 5)\n",
    "dcf = (filter['收盤價'] < filter['epsDcf']) & ((filter['收盤價'] < filter['cashflowDcf']))\n",
    "industry = (filter['industry'] != '航運業')\n",
    "freeCashFlow5Y = (filter['freeCashFlow5Y'] > 0)\n",
    "\n",
    "filter2 = filter[roe & dcf & industry & freeCashFlow5Y]\n",
    "print(len(filter2), \"\\n\")\n",
    "print(\"、\".join([f\"{row['id']}{row['name']}({row['收盤價']})\" for index, row in filter2.iterrows()]))\n",
    "filter2"
   ]
  },
  {
   "cell_type": "markdown",
   "id": "90d80ea5",
   "metadata": {},
   "source": [
    "# 選股2\n",
    "* 本益比 < 15\n",
    "* eps > 3\n",
    "* marketCap(市值) > 50億\n",
    "* yoyCount(yoy>0次數) > 0\n",
    "* industry(產業) 排除生技醫療業、航運業\n",
    "* grossmargin(毛利率) > 0.2\n",
    "* profit(淨利率), operating(營業利益率) > 0\n",
    "* cashflowSum(現金流) > 0\n",
    "* 自由現金流為正 > 0\n",
    "* count至少有一年資料 > 240"
   ]
  },
  {
   "cell_type": "code",
   "execution_count": null,
   "id": "ac4cc5da",
   "metadata": {
    "scrolled": true
   },
   "outputs": [],
   "source": [
    "filter = out\n",
    "industry = (filter['industry'] != '生技醫療業') & (filter['industry'] != '航運業') & (filter['industry'] != '文化創意業')\n",
    "eps = (filter['eps'] > 3) \n",
    "pe = (filter['pe'] <= 20) & (filter['pe'] > 0)\n",
    "marketCap = (filter['marketCap'] > 50) \n",
    "freeCashFlow = (filter['freeCashFlow'] > 0)\n",
    "yoyCount = (filter['yoyIncreaseCount'] > 0)\n",
    "freeCashFlow5Y = (filter['freeCashFlow5Y'] > 0)\n",
    "count = (filter['count'] > 240)\n",
    "roe = (filter['roe'] > 0)\n",
    "\n",
    "filter1 = filter[eps & pe & count & freeCashFlow & freeCashFlow5Y & roe & industry] \n",
    "\n",
    "print(f'{len(filter1)} 筆')\n",
    "\n",
    "print(\"、\".join([f\"{row['id']}{row['name']}({row['收盤價']})\" for index, row in filter1.iterrows()]))\n",
    "\n",
    "filter1"
   ]
  },
  {
   "cell_type": "code",
   "execution_count": null,
   "id": "ae581eb4",
   "metadata": {
    "scrolled": true
   },
   "outputs": [],
   "source": [
    "# 產業分布\n",
    "# filter1.groupby(by=['industry']).agg({'id': len, 'name': ', '.join}).sort_values(by=['id'], ascending=False)"
   ]
  },
  {
   "cell_type": "code",
   "execution_count": null,
   "id": "e5c364ed",
   "metadata": {
    "scrolled": true
   },
   "outputs": [],
   "source": [
    "# 技術分析(多頭)\n",
    "ma20 = filter1['ma20']\n",
    "ma60 = filter1['ma60']\n",
    "ma120 = filter1['ma120']\n",
    "ma20_60 = ma20 >= ma60\n",
    "ma60_120 = ma60 >= ma120\n",
    "ma20_120 = ma20 >= ma120\n",
    "filter_long = filter1[ma20_60 & ma60_120 & ma20_120]\n",
    "print('多頭結構：', len(filter_long))\n",
    "print(\"、\".join([f\"{row['id']}{row['name']}({row['收盤價']})\" for index, row in filter_long.iterrows()]))\n",
    "filter_long"
   ]
  },
  {
   "cell_type": "code",
   "execution_count": null,
   "id": "62567bdb",
   "metadata": {
    "scrolled": true
   },
   "outputs": [],
   "source": [
    "dev = 2\n",
    "diff20_60 = abs((ma20-ma60)*100/ma60) <= dev\n",
    "diff60_120 = abs((ma60-ma120)*100/ma120) <= dev\n",
    "diff20_120 = abs((ma20-ma120)*100/ma120) <= dev\n",
    "\n",
    "filter_torn = filter1[diff20_60 & diff60_120 & diff20_120]\n",
    "print('均線糾結:', len(filter_torn))\n",
    "print(\"、\".join([f\"{row['id']}{row['name']}({row['收盤價']})\" for index, row in filter_torn.iterrows()]))\n",
    "torn_ids = filter_torn['id'].tolist()\n",
    "filter_torn"
   ]
  },
  {
   "cell_type": "markdown",
   "id": "6688b71c",
   "metadata": {},
   "source": [
    "## MA分佈機率"
   ]
  },
  {
   "cell_type": "code",
   "execution_count": null,
   "id": "4cf56bfa",
   "metadata": {},
   "outputs": [],
   "source": [
    "# ma乖離機率\n",
    "max_days = 120\n",
    "def dev_ma(id, days):\n",
    "    df_close = daily[daily['id'] == id][['date','id','name','close']]\n",
    "    series = df_close.close\n",
    "    ma = series.rolling(days).mean().tolist()[max_days - 1:]\n",
    "    return ma\n",
    "\n",
    "def cal_probability(list, threshold, now):\n",
    "    p = round(np.sum(list > threshold)/len(list) * 100, 2) if threshold >= 0 else round(np.sum(list < threshold)/len(list) * 100, 2) \n",
    "    isInThreshold = ((threshold + 0.05) > now/100 > threshold)\n",
    "    return f'{p}% <---' if isInThreshold else f'{p}%'"
   ]
  },
  {
   "cell_type": "markdown",
   "id": "7c5e1870",
   "metadata": {},
   "source": [
    "# 本益比分佈機率"
   ]
  },
  {
   "cell_type": "code",
   "execution_count": null,
   "id": "da0b138c",
   "metadata": {},
   "outputs": [],
   "source": [
    "PE_MIN = 0\n",
    "PE_MAX = 100\n",
    "\n",
    "def peDistribution(id):\n",
    "    pe = daily[daily['id']==id][['date','id','name','pe']]\n",
    "    pe = pe[(pe['pe'] > PE_MIN) & (pe['pe'] < PE_MAX)]\n",
    "    return pe['pe'].tolist()\n",
    "\n",
    "id = 3037\n",
    "pe = peDistribution(id)\n",
    "y, x, _ = plt.hist(pe, 100)\n",
    "df_id = out[out['id']==id]\n",
    "name = df_id['name'].iloc[0]\n",
    "now_pe = df_id['pe'].iloc[0]\n",
    "most_pe = round(x[np.where(y == y.max())][0], 2)\n",
    "eps = df_id['eps'].iloc[0]\n",
    "\n",
    "print(f\"[{len(pe)}]\", name)\n",
    "print('[PE] :', '目前:', now_pe, 'most:', most_pe)\n",
    "print('[EPS]:','目前:', eps)\n",
    "plt.axvline(now_pe, color='k', linestyle='dashed', linewidth=1)\n",
    "\n",
    "plt.show()"
   ]
  },
  {
   "cell_type": "code",
   "execution_count": null,
   "id": "7e09e61f",
   "metadata": {
    "scrolled": true
   },
   "outputs": [],
   "source": [
    "df_target = pd.DataFrame(columns=['count', 'id', 'name', 'now_pe','most_pe', 'avg_pe', 'eps', '收盤價', '偏離平均程度'])\n",
    "\n",
    "def countTarget(id):\n",
    "    pe = peDistribution(id)\n",
    "    y, x, _ = plt.hist(pe, 100)\n",
    "    df_id = out[out['id']==id]\n",
    "    name = df_id['name'].iloc[0]\n",
    "    now_pe = df_id['pe'].iloc[0]\n",
    "    most_pe = round(x[np.where(y == y.max())][0], 2)\n",
    "    avg_pe = df_id['avg_pe'].iloc[0]\n",
    "    eps = df_id['eps'].iloc[0]\n",
    "    close = df_id['收盤價'].iloc[0]\n",
    "    cal_pe = min(most_pe, avg_pe)\n",
    "\n",
    "    new_row = {'count': len(pe), \n",
    "               'id':id, \n",
    "               'name':name, \n",
    "               'now_pe':now_pe, \n",
    "               'most_pe':most_pe, \n",
    "               'avg_pe': avg_pe,\n",
    "               'eps':eps, \n",
    "               '收盤價':close,\n",
    "               '偏離平均程度':round(100*(cal_pe/now_pe - 1), 2)\n",
    "              }\n",
    "    \n",
    "    df_target.loc[len(df_target)] = new_row\n",
    "    \n",
    "\n",
    "[countTarget(id) for id in filter1['id'].tolist()]"
   ]
  },
  {
   "cell_type": "code",
   "execution_count": null,
   "id": "da17b7d3",
   "metadata": {
    "scrolled": true
   },
   "outputs": [],
   "source": [
    "id = df_target['id'].isin(filter1['id'].tolist())\n",
    "\n",
    "df_target_filter = (df_target[(df_target['count'] > 0)]) # 過濾pe數量>0\n",
    "df_target_filter = df_target_filter.sort_values(by=['偏離平均程度'],ascending=False)\n",
    "df_target_filter = df_target_filter.reset_index(drop=True)\n",
    "\n",
    "df_target_filter"
   ]
  },
  {
   "cell_type": "code",
   "execution_count": null,
   "id": "d79c12d0",
   "metadata": {
    "scrolled": true
   },
   "outputs": [],
   "source": [
    "# 偏離程度>20\n",
    "bias = df_target_filter['偏離平均程度'] > 20\n",
    "df_bias = df_target_filter[bias]\n",
    "print(\"、\".join([f\"{row['id']}{row['name']}({row['收盤價']})\" for index, row in df_bias.iterrows()]))\n",
    "df_bias"
   ]
  }
 ],
 "metadata": {
  "kernelspec": {
   "display_name": "Python 3",
   "language": "python",
   "name": "python3"
  },
  "language_info": {
   "codemirror_mode": {
    "name": "ipython",
    "version": 3
   },
   "file_extension": ".py",
   "mimetype": "text/x-python",
   "name": "python",
   "nbconvert_exporter": "python",
   "pygments_lexer": "ipython3",
   "version": "3.9.1"
  }
 },
 "nbformat": 4,
 "nbformat_minor": 5
}
