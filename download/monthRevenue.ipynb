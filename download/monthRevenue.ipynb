{
 "cells": [
  {
   "cell_type": "code",
   "execution_count": 1,
   "id": "91e6ac87",
   "metadata": {},
   "outputs": [],
   "source": [
    "import requests\n",
    "from io import StringIO\n",
    "import pandas as pd\n",
    "import numpy as np\n",
    "import sqlite3\n",
    "sqlite3.register_adapter(np.int64, int)\n",
    "import re\n",
    "\n",
    "db = sqlite3.connect('./stock.db' , isolation_level=None)"
   ]
  },
  {
   "cell_type": "code",
   "execution_count": 2,
   "id": "ab1c3243",
   "metadata": {},
   "outputs": [],
   "source": [
    "def fetchData(year, month, type=\"sii\"):\n",
    "    print(f\"Download {year}{month:02} {type}\")\n",
    "    year = year - 1911 if year > 2000 else year\n",
    "    url = f\"https://mops.twse.com.tw/nas/t21/{type}/t21sc03_{year}_{month}_0.html\"\n",
    "    headers = {'User-Agent': 'Mozilla/5.0 (Macintosh; Intel Mac OS X 10_10_1) AppleWebKit/537.36 (KHTML, like Gecko) Chrome/39.0.2171.95 Safari/537.36'}\n",
    "    r = requests.get(url, headers=headers)\n",
    "    r.encoding = 'big5'\n",
    "    dfs = pd.read_html(StringIO(r.text))\n",
    "\n",
    "    df = pd.concat([df for df in dfs if df.shape[1] <= 11 and df.shape[1] > 5])\n",
    "    if 'levels' in dir(df.columns):\n",
    "        df.columns = df.columns.get_level_values(1)\n",
    "    else:\n",
    "        df = df[list(range(0,10))]\n",
    "        column_index = df.index[(df[0] == '公司代號')][0]\n",
    "        df.columns = df.iloc[column_index]\n",
    "    df['當月營收'] = pd.to_numeric(df['當月營收'], 'coerce')\n",
    "    df = df[~df['當月營收'].isnull()]\n",
    "    df = df[df['公司代號'] != '合計']   \n",
    "    return df"
   ]
  },
  {
   "cell_type": "code",
   "execution_count": 3,
   "id": "da3d21ce",
   "metadata": {},
   "outputs": [
    {
     "name": "stdout",
     "output_type": "stream",
     "text": [
      "Download 202309 sii\n"
     ]
    },
    {
     "data": {
      "text/plain": [
       "908"
      ]
     },
     "execution_count": 3,
     "metadata": {},
     "output_type": "execute_result"
    }
   ],
   "source": [
    "a = fetchData(2023, 9, 'sii')\n",
    "len(a) \n",
    "# 2月 900 3月 902 4月 902 5月 904\n",
    "# 6月 903\n",
    "# 7月 905\n",
    "# 8月 905\n",
    "# 9月 908"
   ]
  },
  {
   "cell_type": "code",
   "execution_count": 4,
   "id": "be953459",
   "metadata": {
    "scrolled": true
   },
   "outputs": [
    {
     "name": "stdout",
     "output_type": "stream",
     "text": [
      "Download 202309 sii\n",
      "Download 202309 otc\n"
     ]
    }
   ],
   "source": [
    "# 下載最新月營收\n",
    "year = 2023\n",
    "start_month = 9\n",
    "n = 1\n",
    "name = \"monthlyRevenue\"\n",
    "for t in ['sii', 'otc']: # 上市 sii / 上櫃 otc\n",
    "    for m in range(start_month, start_month + n):\n",
    "        df = fetchData(year, m, t)\n",
    "        for index, row in df.iterrows():\n",
    "            sql_insert = f'insert into {name} (date,id,name,revenue,lastMonthRevenue,MoM,lastYearRevenue,YoY,lastSum,sumYoY,sum,note) \\\n",
    "                          values (?,?,?,?,?,?,?,?,?,?,?,?)'\n",
    "            try:\n",
    "                db.execute(sql_insert, (f\"{year}{m:02}\", row['公司代號'], row['公司名稱'], row['當月營收'], row['上月營收'], row['上月比較增減(%)'], row['去年當月營收'], row['去年同月增減(%)'], row['去年累計營收'], row['前期比較增減(%)'], row['當月累計營收'], row['備註']))\n",
    "            except:\n",
    "                print(\"下載或寫入錯誤\")"
   ]
  },
  {
   "cell_type": "markdown",
   "id": "e78a023a",
   "metadata": {},
   "source": [
    "#  DB Columns\n",
    "\n",
    "|date|id|name|revenue|lastMonthRevenue|MoM|lastYearRevenue|YoY|lastSum|sumYoY|sum|note|\n",
    "|--|--|--|--|--|--|--|--|--|--|--|--|\n",
    "|年月份|公司代號|公司名稱|當月營收|上月營收|上月比較增減|去年當月營收|去年同月增減|去年累計營收|前期比較增減|當月累計營收|備註|"
   ]
  },
  {
   "cell_type": "code",
   "execution_count": 5,
   "id": "0021e70f",
   "metadata": {
    "scrolled": true
   },
   "outputs": [
    {
     "name": "stdout",
     "output_type": "stream",
     "text": [
      "68\n"
     ]
    },
    {
     "data": {
      "text/html": [
       "<div>\n",
       "<style scoped>\n",
       "    .dataframe tbody tr th:only-of-type {\n",
       "        vertical-align: middle;\n",
       "    }\n",
       "\n",
       "    .dataframe tbody tr th {\n",
       "        vertical-align: top;\n",
       "    }\n",
       "\n",
       "    .dataframe thead th {\n",
       "        text-align: right;\n",
       "    }\n",
       "</style>\n",
       "<table border=\"1\" class=\"dataframe\">\n",
       "  <thead>\n",
       "    <tr style=\"text-align: right;\">\n",
       "      <th></th>\n",
       "      <th>date</th>\n",
       "      <th>id</th>\n",
       "      <th>name</th>\n",
       "      <th>revenue</th>\n",
       "      <th>lastMonthRevenue</th>\n",
       "      <th>MoM</th>\n",
       "      <th>lastYearRevenue</th>\n",
       "      <th>YoY</th>\n",
       "      <th>lastSum</th>\n",
       "      <th>sumYoY</th>\n",
       "      <th>sum</th>\n",
       "      <th>note</th>\n",
       "    </tr>\n",
       "  </thead>\n",
       "  <tbody>\n",
       "    <tr>\n",
       "      <th>103602</th>\n",
       "      <td>202304</td>\n",
       "      <td>2454</td>\n",
       "      <td>聯發科</td>\n",
       "      <td>28349722</td>\n",
       "      <td>42958473</td>\n",
       "      <td>-34.00</td>\n",
       "      <td>52624634</td>\n",
       "      <td>-46.12</td>\n",
       "      <td>195335483</td>\n",
       "      <td>-36.51</td>\n",
       "      <td>124001234</td>\n",
       "      <td>海外子公司之營收係以當月平均匯率換算之。</td>\n",
       "    </tr>\n",
       "    <tr>\n",
       "      <th>105284</th>\n",
       "      <td>202305</td>\n",
       "      <td>2454</td>\n",
       "      <td>聯發科</td>\n",
       "      <td>31566805</td>\n",
       "      <td>28349722</td>\n",
       "      <td>11.34</td>\n",
       "      <td>52076120</td>\n",
       "      <td>-39.38</td>\n",
       "      <td>247411603</td>\n",
       "      <td>-37.12</td>\n",
       "      <td>155568039</td>\n",
       "      <td>海外子公司之營收係以當月平均匯率換算之。</td>\n",
       "    </tr>\n",
       "    <tr>\n",
       "      <th>106966</th>\n",
       "      <td>202306</td>\n",
       "      <td>2454</td>\n",
       "      <td>聯發科</td>\n",
       "      <td>38218758</td>\n",
       "      <td>31566805</td>\n",
       "      <td>21.07</td>\n",
       "      <td>51029067</td>\n",
       "      <td>-25.10</td>\n",
       "      <td>298440670</td>\n",
       "      <td>-35.06</td>\n",
       "      <td>193786797</td>\n",
       "      <td>海外子公司之營收係以當月平均匯率換算之。</td>\n",
       "    </tr>\n",
       "    <tr>\n",
       "      <th>108652</th>\n",
       "      <td>202307</td>\n",
       "      <td>2454</td>\n",
       "      <td>聯發科</td>\n",
       "      <td>31763135</td>\n",
       "      <td>38218758</td>\n",
       "      <td>-16.89</td>\n",
       "      <td>40890418</td>\n",
       "      <td>-22.32</td>\n",
       "      <td>339331088</td>\n",
       "      <td>-33.53</td>\n",
       "      <td>225549932</td>\n",
       "      <td>海外子公司之營收係以當月平均匯率換算之。</td>\n",
       "    </tr>\n",
       "    <tr>\n",
       "      <th>110339</th>\n",
       "      <td>202308</td>\n",
       "      <td>2454</td>\n",
       "      <td>聯發科</td>\n",
       "      <td>42256360</td>\n",
       "      <td>31763135</td>\n",
       "      <td>33.03</td>\n",
       "      <td>44699654</td>\n",
       "      <td>-5.46</td>\n",
       "      <td>384030742</td>\n",
       "      <td>-30.26</td>\n",
       "      <td>267806292</td>\n",
       "      <td>海外子公司之營收係以當月平均匯率換算之。</td>\n",
       "    </tr>\n",
       "  </tbody>\n",
       "</table>\n",
       "</div>"
      ],
      "text/plain": [
       "          date    id name   revenue  lastMonthRevenue    MoM  lastYearRevenue  \\\n",
       "103602  202304  2454  聯發科  28349722          42958473 -34.00         52624634   \n",
       "105284  202305  2454  聯發科  31566805          28349722  11.34         52076120   \n",
       "106966  202306  2454  聯發科  38218758          31566805  21.07         51029067   \n",
       "108652  202307  2454  聯發科  31763135          38218758 -16.89         40890418   \n",
       "110339  202308  2454  聯發科  42256360          31763135  33.03         44699654   \n",
       "\n",
       "          YoY    lastSum  sumYoY        sum                  note  \n",
       "103602 -46.12  195335483  -36.51  124001234  海外子公司之營收係以當月平均匯率換算之。  \n",
       "105284 -39.38  247411603  -37.12  155568039  海外子公司之營收係以當月平均匯率換算之。  \n",
       "106966 -25.10  298440670  -35.06  193786797  海外子公司之營收係以當月平均匯率換算之。  \n",
       "108652 -22.32  339331088  -33.53  225549932  海外子公司之營收係以當月平均匯率換算之。  \n",
       "110339  -5.46  384030742  -30.26  267806292  海外子公司之營收係以當月平均匯率換算之。  "
      ]
     },
     "execution_count": 5,
     "metadata": {},
     "output_type": "execute_result"
    }
   ],
   "source": [
    "# 查詢資料庫資料\n",
    "sql=f\"select * from monthlyRevenue order by date\"\n",
    "search = pd.read_sql_query(sql, db)\n",
    "\n",
    "a = search[search['id']==2454]\n",
    "print(len(a))\n",
    "a.tail()"
   ]
  },
  {
   "cell_type": "code",
   "execution_count": null,
   "id": "6ed3c01d",
   "metadata": {},
   "outputs": [],
   "source": [
    "# duplicate rows\n",
    "# sql=\"\"\"\n",
    "#     delete from monthlyRevenue where rowid not in (select min(rowid) from monthlyRevenue group by date, id)\n",
    "# \"\"\"\n",
    "# pd.read_sql_query(sql, db)"
   ]
  },
  {
   "cell_type": "markdown",
   "id": "680c73f2",
   "metadata": {},
   "source": [
    "# API columns \n",
    "\n",
    "|公司代號|公司名稱|備註|上月比較增減(%)|上月營收|去年同月增減(%)|去年當月營收|當月營收|前期比較增減(%)|去年累計營收|當月累計營收|\n",
    "|--|--|--|--|--|--|--|--|--|--|--|"
   ]
  },
  {
   "cell_type": "code",
   "execution_count": null,
   "id": "98c458f8",
   "metadata": {
    "scrolled": true
   },
   "outputs": [],
   "source": [
    "# 測試API是否正常\n",
    "fetchData(2023, 7, 'sii')\n"
   ]
  },
  {
   "cell_type": "markdown",
   "id": "2c96789a",
   "metadata": {},
   "source": [
    "# Delete table"
   ]
  },
  {
   "cell_type": "code",
   "execution_count": null,
   "id": "8c16c789",
   "metadata": {},
   "outputs": [],
   "source": []
  },
  {
   "cell_type": "code",
   "execution_count": 5,
   "id": "ff982b22",
   "metadata": {},
   "outputs": [],
   "source": [
    "db.close()"
   ]
  }
 ],
 "metadata": {
  "kernelspec": {
   "display_name": "Python 3 (ipykernel)",
   "language": "python",
   "name": "python3"
  },
  "language_info": {
   "codemirror_mode": {
    "name": "ipython",
    "version": 3
   },
   "file_extension": ".py",
   "mimetype": "text/x-python",
   "name": "python",
   "nbconvert_exporter": "python",
   "pygments_lexer": "ipython3",
   "version": "3.9.16"
  }
 },
 "nbformat": 4,
 "nbformat_minor": 5
}
