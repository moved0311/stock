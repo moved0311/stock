{
 "cells": [
  {
   "cell_type": "code",
   "execution_count": null,
   "id": "91e6ac87",
   "metadata": {},
   "outputs": [],
   "source": [
    "import requests\n",
    "from io import StringIO\n",
    "import pandas as pd\n",
    "import numpy as np\n",
    "import sqlite3\n",
    "sqlite3.register_adapter(np.int64, int)\n",
    "import re\n",
    "\n",
    "db = sqlite3.connect('./stock.db' , isolation_level=None)"
   ]
  },
  {
   "cell_type": "code",
   "execution_count": null,
   "id": "ab1c3243",
   "metadata": {},
   "outputs": [],
   "source": [
    "def fetchData(year, month, type=\"sii\"):\n",
    "    print(f\"Download {year}{month:02} {type}\")\n",
    "    year = year - 1911 if year > 2000 else year\n",
    "    url = f\"https://mops.twse.com.tw/nas/t21/{type}/t21sc03_{year}_{month}_0.html\"\n",
    "    headers = {'User-Agent': 'Mozilla/5.0 (Macintosh; Intel Mac OS X 10_10_1) AppleWebKit/537.36 (KHTML, like Gecko) Chrome/39.0.2171.95 Safari/537.36'}\n",
    "    r = requests.get(url, headers=headers)\n",
    "    r.encoding = 'big5'\n",
    "    dfs = pd.read_html(StringIO(r.text))\n",
    "\n",
    "    df = pd.concat([df for df in dfs if df.shape[1] <= 11 and df.shape[1] > 5])\n",
    "    if 'levels' in dir(df.columns):\n",
    "        df.columns = df.columns.get_level_values(1)\n",
    "    else:\n",
    "        df = df[list(range(0,10))]\n",
    "        column_index = df.index[(df[0] == '公司代號')][0]\n",
    "        df.columns = df.iloc[column_index]\n",
    "    df['當月營收'] = pd.to_numeric(df['當月營收'], 'coerce')\n",
    "    df = df[~df['當月營收'].isnull()]\n",
    "    df = df[df['公司代號'] != '合計']   \n",
    "    return df"
   ]
  },
  {
   "cell_type": "code",
   "execution_count": null,
   "id": "da3d21ce",
   "metadata": {},
   "outputs": [],
   "source": [
    "a = fetchData(2024, 8, 'sii')\n",
    "len(a) \n",
    "#         2023 2月 900 3月 902 4月 902 5月 904 6月 903 7月 905 8月 905 9月 908\n",
    "# 2024 1月 922 2月 924 3月 927 4月 936 5月 936 6月 938 7月 938"
   ]
  },
  {
   "cell_type": "code",
   "execution_count": null,
   "id": "be953459",
   "metadata": {
    "scrolled": true
   },
   "outputs": [],
   "source": [
    "# 下載最新月營收\n",
    "year = 2024\n",
    "start_month = 7\n",
    "n = 1\n",
    "name = \"monthlyRevenue\"\n",
    "for t in ['sii', 'otc']: # 上市 sii / 上櫃 otc\n",
    "    for m in range(start_month, start_month + n):\n",
    "        df = fetchData(year, m, t)\n",
    "        for index, row in df.iterrows():\n",
    "            sql_insert = f'insert into {name} (date,id,name,revenue,lastMonthRevenue,MoM,lastYearRevenue,YoY,lastSum,sumYoY,sum,note) \\\n",
    "                          values (?,?,?,?,?,?,?,?,?,?,?,?)'\n",
    "            try:\n",
    "                db.execute(sql_insert, (f\"{year}{m:02}\", row['公司代號'], row['公司名稱'], row['當月營收'], row['上月營收'], row['上月比較增減(%)'], row['去年當月營收'], row['去年同月增減(%)'], row['去年累計營收'], row['前期比較增減(%)'], row['當月累計營收'], row['備註']))\n",
    "            except:\n",
    "                print(\"下載或寫入錯誤\")"
   ]
  },
  {
   "cell_type": "markdown",
   "id": "e78a023a",
   "metadata": {},
   "source": [
    "#  DB Columns\n",
    "\n",
    "|date|id|name|revenue|lastMonthRevenue|MoM|lastYearRevenue|YoY|lastSum|sumYoY|sum|note|\n",
    "|--|--|--|--|--|--|--|--|--|--|--|--|\n",
    "|年月份|公司代號|公司名稱|當月營收|上月營收|上月比較增減|去年當月營收|去年同月增減|去年累計營收|前期比較增減|當月累計營收|備註|"
   ]
  },
  {
   "cell_type": "code",
   "execution_count": null,
   "id": "0021e70f",
   "metadata": {
    "scrolled": true
   },
   "outputs": [],
   "source": [
    "# 查詢資料庫資料\n",
    "sql=f\"select * from monthlyRevenue order by date\"\n",
    "search = pd.read_sql_query(sql, db)\n",
    "\n",
    "a = search[search['id']==2454]\n",
    "print(len(a))\n",
    "a.tail()"
   ]
  },
  {
   "cell_type": "code",
   "execution_count": null,
   "id": "6ed3c01d",
   "metadata": {},
   "outputs": [],
   "source": [
    "# duplicate rows\n",
    "# sql=\"\"\"\n",
    "#     delete from monthlyRevenue where rowid not in (select min(rowid) from monthlyRevenue group by date, id)\n",
    "# \"\"\"\n",
    "# pd.read_sql_query(sql, db)"
   ]
  },
  {
   "cell_type": "markdown",
   "id": "680c73f2",
   "metadata": {},
   "source": [
    "# API columns \n",
    "\n",
    "|公司代號|公司名稱|備註|上月比較增減(%)|上月營收|去年同月增減(%)|去年當月營收|當月營收|前期比較增減(%)|去年累計營收|當月累計營收|\n",
    "|--|--|--|--|--|--|--|--|--|--|--|"
   ]
  },
  {
   "cell_type": "code",
   "execution_count": null,
   "id": "98c458f8",
   "metadata": {
    "scrolled": true
   },
   "outputs": [],
   "source": [
    "# 測試API是否正常\n",
    "fetchData(2023, 7, 'sii')\n"
   ]
  },
  {
   "cell_type": "markdown",
   "id": "2c96789a",
   "metadata": {},
   "source": [
    "# Delete table"
   ]
  },
  {
   "cell_type": "code",
   "execution_count": null,
   "id": "8c16c789",
   "metadata": {},
   "outputs": [],
   "source": []
  },
  {
   "cell_type": "code",
   "execution_count": null,
   "id": "ff982b22",
   "metadata": {},
   "outputs": [],
   "source": [
    "db.close()"
   ]
  }
 ],
 "metadata": {
  "kernelspec": {
   "display_name": "Python 3 (ipykernel)",
   "language": "python",
   "name": "python3"
  },
  "language_info": {
   "codemirror_mode": {
    "name": "ipython",
    "version": 3
   },
   "file_extension": ".py",
   "mimetype": "text/x-python",
   "name": "python",
   "nbconvert_exporter": "python",
   "pygments_lexer": "ipython3",
   "version": "3.9.16"
  }
 },
 "nbformat": 4,
 "nbformat_minor": 5
}
