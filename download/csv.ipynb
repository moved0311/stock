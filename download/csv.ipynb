{
 "cells": [
  {
   "cell_type": "code",
   "execution_count": null,
   "id": "21f0cb15",
   "metadata": {},
   "outputs": [],
   "source": [
    "import requests\n",
    "from io import StringIO\n",
    "import pandas as pd\n",
    "import numpy as np\n",
    "import sqlite3\n",
    "sqlite3.register_adapter(np.int64, int)\n",
    "import re\n",
    "import math\n",
    "from datetime import date\n",
    "import matplotlib.pyplot as plt\n",
    "\n",
    "# 展開所有dataframe columns\n",
    "pd.set_option('display.max_rows', 2000)\n",
    "pd.set_option('display.max_columns', 500)\n",
    "pd.set_option('display.width', 1000)\n",
    "\n",
    "# 不縮寫成科學記號\n",
    "pd.set_option('display.float_format',lambda x : '%.2f' % x)\n",
    "\n",
    "db = sqlite3.connect('./stock.db' , isolation_level=None)"
   ]
  },
  {
   "cell_type": "code",
   "execution_count": null,
   "id": "f2523bb4",
   "metadata": {},
   "outputs": [],
   "source": [
    "QUARTERS = ['2023q1','2022q2','2022q3','2022q4']"
   ]
  },
  {
   "cell_type": "code",
   "execution_count": null,
   "id": "5084e61c",
   "metadata": {},
   "outputs": [],
   "source": [
    "# df\n",
    "df_stock_id_name = pd.read_sql_query(\"select * from stockIdName\",db)\n",
    "daily = pd.read_sql_query(\"select * from daily\",db)\n",
    "daily = daily.sort_values(by=['date'])\n",
    "\n",
    "df_financial_statement = pd.read_sql_query(\"select * from financialStatement\",db)\n",
    "df_financial_statement = df_financial_statement.fillna(0)\n",
    "df_financial_statement.replace('--', 0, inplace=True)"
   ]
  },
  {
   "cell_type": "code",
   "execution_count": null,
   "id": "945430c7",
   "metadata": {},
   "outputs": [],
   "source": [
    "ids = df_stock_id_name['id'].tolist()"
   ]
  },
  {
   "cell_type": "markdown",
   "id": "0e7bf702",
   "metadata": {},
   "source": [
    "## 月營收"
   ]
  },
  {
   "cell_type": "code",
   "execution_count": null,
   "id": "104d46ed",
   "metadata": {},
   "outputs": [],
   "source": [
    "sql=f\"select * from monthlyRevenue order by date\" \n",
    "df = pd.read_sql_query(sql, db)"
   ]
  },
  {
   "cell_type": "code",
   "execution_count": null,
   "id": "6024bc18",
   "metadata": {},
   "outputs": [],
   "source": [
    "# 用讀檔更新方式改寫\n",
    "columns = ['id','name', '201801', '201802', '201803', '201804', '201805', '201806', '201807', '201808', '201809', '201810', '201811', '201812', '201901', '201902', '201903', '201904', '201905', '201906', '201907', '201908', '201909', '201910', '201911', '201912', '202001', '202002', '202003', '202004', '202005', '202006', '202007', '202008', '202009', '202010', '202011', '202012', '202101', '202102', '202103', '202104', '202105', '202106', '202107', '202108', '202109', '202110', '202111', '202112', '202201', '202202', '202203', '202204','202205','202206', '202207', '202208','202209', '202210','202211','202212','202301','202302','202303','202304','202305','202306']\n",
    "df_revenue = pd.DataFrame(columns=columns)\n",
    "df_revenue"
   ]
  },
  {
   "cell_type": "code",
   "execution_count": null,
   "id": "1988fe71",
   "metadata": {},
   "outputs": [],
   "source": [
    "def getRowRevenue(id):\n",
    "    a = df[df['id']==id][['date','name','revenue']]\n",
    "    a['revenue'] = round(a['revenue']/100000, 2)\n",
    "    b = a.T\n",
    "    b.columns = b.iloc[0]\n",
    "    b = b.drop(['date'])\n",
    "    b['id'] = id\n",
    "    b['name'] = b['201801']['name']\n",
    "    b = b.drop(['name'])\n",
    "    return b[columns]\n",
    "for id in ids:\n",
    "    try:\n",
    "        row = getRowRevenue(id)\n",
    "        df_revenue = df_revenue.append(row)\n",
    "    except:\n",
    "        continue\n"
   ]
  },
  {
   "cell_type": "code",
   "execution_count": null,
   "id": "e8968703",
   "metadata": {},
   "outputs": [],
   "source": [
    "df_revenue.to_csv('revenue06.csv', index = False)\n",
    "df_revenue.head()"
   ]
  },
  {
   "cell_type": "markdown",
   "id": "a6537d92",
   "metadata": {},
   "source": [
    "## 每月收盤價"
   ]
  },
  {
   "cell_type": "code",
   "execution_count": null,
   "id": "ec40e737",
   "metadata": {},
   "outputs": [],
   "source": [
    "df_close = pd.DataFrame(columns=columns)\n",
    "df_close"
   ]
  },
  {
   "cell_type": "code",
   "execution_count": null,
   "id": "089cb432",
   "metadata": {},
   "outputs": [],
   "source": [
    "daily['yyyymm'] = daily['date'].apply(lambda x: str(x)[:6])"
   ]
  },
  {
   "cell_type": "code",
   "execution_count": null,
   "id": "80bacb39",
   "metadata": {},
   "outputs": [],
   "source": [
    "def getRowMonthClose(id):\n",
    "    df = daily[daily['id']==id][['yyyymm','id','name','close']]\n",
    "    name = df.head(1)['name'].iloc[0]\n",
    "    df1 = round(df.groupby('yyyymm').mean().T, 0)\n",
    "    df1 = df1.drop(['id'])\n",
    "    df1['id'] = id\n",
    "    df1['name'] = name\n",
    "    try:\n",
    "        return df1[columns]\n",
    "    except:\n",
    "        for col in columns:\n",
    "            if col not in df1.columns:\n",
    "                df1[col] = ''\n",
    "        return df1[columns]\n",
    "\n",
    "for id in ids:\n",
    "    try:\n",
    "        row = getRowMonthClose(id)\n",
    "        df_close = df_close.append(row)\n",
    "    except:\n",
    "        continue"
   ]
  },
  {
   "cell_type": "code",
   "execution_count": null,
   "id": "f6bc9e06",
   "metadata": {},
   "outputs": [],
   "source": [
    "df_close.to_csv('monthlyClose06.csv', index = False)\n",
    "df_close.head()"
   ]
  },
  {
   "cell_type": "markdown",
   "id": "93e3075f",
   "metadata": {},
   "source": [
    "## EPS "
   ]
  },
  {
   "cell_type": "code",
   "execution_count": null,
   "id": "0d3a0a22",
   "metadata": {
    "scrolled": true
   },
   "outputs": [],
   "source": [
    "columns=['id','name','Q1','Q2','Q3','Q4']\n",
    "df_eps = pd.DataFrame(columns=columns)\n",
    "df_eps\n",
    "\n",
    "# 客製化用QUARTERS排序\n",
    "df_mapping_quarters = pd.DataFrame({\n",
    "    'date': QUARTERS,\n",
    "})\n",
    "sort_mapping = df_mapping_quarters.reset_index().set_index('date')\n",
    "\n",
    "# eps csv\n",
    "def nearFourQuarterEPS(id):\n",
    "    try:\n",
    "        fid = df_financial_statement['id'] == id\n",
    "        df = df_financial_statement[fid].tail(4)[['date','id','name','qeps']]\n",
    "        df['order'] = df['date'].map(sort_mapping['index'])\n",
    "        name = df['name'].iloc[0]\n",
    "        df = df.sort_values('order')\n",
    "        return [id, name] + df['qeps'].tolist()\n",
    "    except:\n",
    "        return np.nan\n",
    "    \n",
    "\n",
    "for id in ids:\n",
    "    try:\n",
    "        row = nearFourQuarterEPS(id)\n",
    "        df_eps.loc[len(df_eps.index)] = row\n",
    "    except:\n",
    "        continue\n",
    "        \n",
    "df_eps.to_csv('EPS.csv', index = False)"
   ]
  },
  {
   "cell_type": "code",
   "execution_count": null,
   "id": "96ed8e98",
   "metadata": {},
   "outputs": [],
   "source": [
    "dfq1 = df_financial_statement[df_financial_statement['date']=='2023q1']\n",
    "sortedEps = dfq1[dfq1['eps']>0].sort_values(by=['eps'], ascending=False) # 1243/1777\n",
    "sortedEps = sortedEps[['id','name','eps']]\n",
    "sortedEps = sortedEps.reset_index(drop=True)\n",
    "sortedEps.to_csv('2023q1_eps.csv')\n",
    "sortedEps"
   ]
  },
  {
   "cell_type": "code",
   "execution_count": null,
   "id": "1e6cf845",
   "metadata": {},
   "outputs": [],
   "source": [
    "db.close()"
   ]
  }
 ],
 "metadata": {
  "kernelspec": {
   "display_name": "Python 3",
   "language": "python",
   "name": "python3"
  },
  "language_info": {
   "codemirror_mode": {
    "name": "ipython",
    "version": 3
   },
   "file_extension": ".py",
   "mimetype": "text/x-python",
   "name": "python",
   "nbconvert_exporter": "python",
   "pygments_lexer": "ipython3",
   "version": "3.9.1"
  }
 },
 "nbformat": 4,
 "nbformat_minor": 5
}
