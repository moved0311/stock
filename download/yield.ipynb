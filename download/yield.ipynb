{
 "cells": [
  {
   "cell_type": "code",
   "execution_count": null,
   "id": "1a20be9f",
   "metadata": {},
   "outputs": [],
   "source": [
    "import requests\n",
    "from io import StringIO\n",
    "import pandas as pd\n",
    "import numpy as np\n",
    "import sqlite3\n",
    "sqlite3.register_adapter(np.int64, int)\n",
    "import re\n",
    "\n",
    "db = sqlite3.connect('../stock.db' , isolation_level=None)\n",
    "\n",
    "# 不縮寫成科學記號\n",
    "pd.set_option('display.float_format',lambda x : '%.2f' % x)\n",
    "\n",
    "# 展開所有dataframe columns\n",
    "pd.set_option('display.max_rows', 500)\n",
    "pd.set_option('display.max_columns', 500)\n",
    "pd.set_option('display.width', 1000)"
   ]
  },
  {
   "cell_type": "code",
   "execution_count": null,
   "id": "6dfdd210",
   "metadata": {},
   "outputs": [],
   "source": [
    "def getYield(year, TYPEK='sii'):\n",
    "    if year >= 1000:\n",
    "        year -= 1911\n",
    "        \n",
    "    url = 'https://mops.twse.com.tw/server-java/t05st09sub'\n",
    "\n",
    "    r = requests.post(url, {\n",
    "        'step':1,\n",
    "        'TYPEK':TYPEK,  # sii上市, otc上櫃\n",
    "        'YEAR':str(year),\n",
    "        'qryType': 1\n",
    "    })\n",
    "    \n",
    "    r.encoding = 'big5'\n",
    "    dfs = pd.read_html(StringIO(r.text), header=None)\n",
    "    \n",
    "    df = pd.concat(dfs[3:], axis=0, sort=False)  # 2021 -> 3 , 2022 -> 2\n",
    "    \n",
    "    if 'levels' in dir(df.columns):\n",
    "        df.columns = df.columns.get_level_values(1)\n",
    "        \n",
    "    return df\n"
   ]
  },
  {
   "cell_type": "code",
   "execution_count": null,
   "id": "610a2269",
   "metadata": {},
   "outputs": [],
   "source": [
    "YEAR = 2023\n",
    "df_sii = getYield(YEAR)\n",
    "df_otc = getYield(YEAR, 'otc')"
   ]
  },
  {
   "cell_type": "code",
   "execution_count": null,
   "id": "33fba447",
   "metadata": {},
   "outputs": [],
   "source": [
    "print(len(df_sii))\n",
    "print(len(df_otc))\n",
    "df = df_sii.append(df_otc, ignore_index=True)\n",
    "print(len(df))\n",
    "df"
   ]
  },
  {
   "cell_type": "code",
   "execution_count": null,
   "id": "cdbc2d09",
   "metadata": {},
   "outputs": [],
   "source": [
    "def getId(r):\n",
    "    try:\n",
    "        return r['公司代號 名稱'].replace(\" \", \"\").split(\"-\")\n",
    "    except:\n",
    "        return [np.nan, np.nan]\n",
    "\n",
    "df['id'], df['name'] = zip(*df.apply(getId, axis=1))"
   ]
  },
  {
   "cell_type": "code",
   "execution_count": null,
   "id": "eebfd618",
   "metadata": {},
   "outputs": [],
   "source": [
    "df['cash'] = df['盈餘分配\\t之現金股利\\t(元/股)'] + df['法定盈餘公積發放之現金(元/股)'] + df['資本公積發放之現金(元/股)']\n",
    "df['stock'] = df['盈餘轉\\t增資配股\\t(元/股)'] + df['法定盈餘\\t公積轉增資\\t配股(元/股)'] + df['資本公積\\t轉增資配股\\t(元/股)']\n",
    "df['total'] = df['cash'] + df['stock']"
   ]
  },
  {
   "cell_type": "code",
   "execution_count": null,
   "id": "ef31efdd",
   "metadata": {
    "scrolled": true
   },
   "outputs": [],
   "source": [
    "df[df['id']=='5483']"
   ]
  },
  {
   "cell_type": "code",
   "execution_count": null,
   "id": "8f909908",
   "metadata": {},
   "outputs": [],
   "source": [
    "df[['id','name','cash','stock','total']].sort_values(by=['total'], ascending=False).head(100)"
   ]
  },
  {
   "cell_type": "markdown",
   "id": "d8f779ed",
   "metadata": {},
   "source": [
    "# Write to DB"
   ]
  },
  {
   "cell_type": "code",
   "execution_count": null,
   "id": "2ca50729",
   "metadata": {},
   "outputs": [],
   "source": [
    "for index, row in df.iterrows(): \n",
    "    sql_insert = f'insert into yield (date, id, name, cash, stock, total) \\\n",
    "                   values (?,?,?,?,?,?)'\n",
    "    db.execute(sql_insert, (YEAR, row['id'],row['name'],row['cash'],row['stock'],row['total']))\n"
   ]
  },
  {
   "cell_type": "markdown",
   "id": "39462531",
   "metadata": {},
   "source": [
    "# Create Table"
   ]
  },
  {
   "cell_type": "code",
   "execution_count": null,
   "id": "edac67d8",
   "metadata": {},
   "outputs": [],
   "source": [
    "sql = 'create table if not exists yield \\\n",
    "           (date DATE, \\\n",
    "            id TEXT ,\\\n",
    "            name TEXT ,\\\n",
    "            cash INTEGER ,\\\n",
    "            stock INTEGER ,\\\n",
    "            total INTEGER);'\n",
    "\n",
    "db.execute(sql)"
   ]
  },
  {
   "cell_type": "code",
   "execution_count": null,
   "id": "d07282a5",
   "metadata": {},
   "outputs": [],
   "source": [
    "# check in db\n",
    "sql = f'select * from yield'\n",
    "df_yield = pd.read_sql_query(sql, db)\n",
    "df_yield"
   ]
  },
  {
   "cell_type": "code",
   "execution_count": null,
   "id": "6dd332ed",
   "metadata": {},
   "outputs": [],
   "source": []
  },
  {
   "cell_type": "code",
   "execution_count": null,
   "id": "4e9953a5",
   "metadata": {},
   "outputs": [],
   "source": [
    "db.close()"
   ]
  }
 ],
 "metadata": {
  "kernelspec": {
   "display_name": "Python 3",
   "language": "python",
   "name": "python3"
  },
  "language_info": {
   "codemirror_mode": {
    "name": "ipython",
    "version": 3
   },
   "file_extension": ".py",
   "mimetype": "text/x-python",
   "name": "python",
   "nbconvert_exporter": "python",
   "pygments_lexer": "ipython3",
   "version": "3.9.1"
  }
 },
 "nbformat": 4,
 "nbformat_minor": 5
}
