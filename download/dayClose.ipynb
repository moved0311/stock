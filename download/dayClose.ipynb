{
 "cells": [
  {
   "cell_type": "code",
   "execution_count": null,
   "id": "bc6fe0d1",
   "metadata": {},
   "outputs": [],
   "source": [
    "import requests\n",
    "from io import StringIO\n",
    "import pandas as pd\n",
    "import numpy as np\n",
    "import sqlite3\n",
    "import sys\n",
    "import datetime\n",
    "sqlite3.register_adapter(np.int64, int)\n",
    "pd.options.mode.chained_assignment = None \n",
    "import locale\n",
    "locale.setlocale(locale.LC_ALL, 'en_US.UTF-8')\n",
    "\n",
    "# 展開所有dataframe columns\n",
    "pd.set_option('display.max_rows', 500)\n",
    "pd.set_option('display.max_columns', 500)\n",
    "pd.set_option('display.width', 1000)\n",
    "\n",
    "db = sqlite3.connect('./stock.db' , isolation_level=None)"
   ]
  },
  {
   "cell_type": "code",
   "execution_count": null,
   "id": "714e13fa",
   "metadata": {},
   "outputs": [],
   "source": [
    "df_stock_id_name = pd.read_sql_query(\"select * from stockIdName\",db)"
   ]
  },
  {
   "cell_type": "code",
   "execution_count": null,
   "id": "09ed1f57",
   "metadata": {},
   "outputs": [],
   "source": [
    "ids = df_stock_id_name['id'].tolist()\n",
    "df_stock_id_name.head()"
   ]
  },
  {
   "cell_type": "code",
   "execution_count": null,
   "id": "d1222931",
   "metadata": {},
   "outputs": [],
   "source": [
    "def workdays(d, end, cformat=\"%Y%m%d\"):\n",
    "    days = []\n",
    "    excluded=(6, 7)\n",
    "    while d.date() <= end.date():\n",
    "        if d.isoweekday() not in excluded:\n",
    "            days.append(d.strftime(cformat)) \n",
    "        d += datetime.timedelta(days=1)\n",
    "    return days\n",
    "\n",
    "def download(date):\n",
    "    # 下載股價\n",
    "    r = requests.post('https://www.twse.com.tw/exchangeReport/MI_INDEX?response=csv&date=' + date + '&type=ALL')\n",
    "    \n",
    "    # 整理資料，變成表格\n",
    "    df_origin = pd.read_csv(StringIO(r.text.replace(\"=\", \"\")), \n",
    "                header=[\"證券代號\" in l for l in r.text.split(\"\\n\")].index(True)-1)\n",
    "    \n",
    "    # 整理一些字串：\n",
    "    df_origin = df_origin.apply(lambda s: pd.to_numeric(s.astype(str).str.replace(\",\", \"\").replace(\"+\", \"1\").replace(\"-\", \"-1\"), errors='coerce'))\n",
    "    \n",
    "    # 清資料\n",
    "    try:\n",
    "        del df_origin['證券名稱']\n",
    "        del df_origin['Unnamed: 16']\n",
    "    except:\n",
    "        print('沒有\"證券名稱\"欄位')\n",
    "\n",
    "    df = df_origin[df_origin[\"證券代號\"].astype(str).str.match(r\"^\\d{4}.0$\")]  # 證券代號: xxxx (上市)\n",
    "    df['證券代號'] = df['證券代號'].apply(lambda id: int(id))\n",
    "    \n",
    "    # 合併 df, df_stock_id_name\n",
    "    df = df.merge(df_stock_id_name, left_on=\"證券代號\",right_on=\"id\", how=\"left\")\n",
    "    \n",
    "    return df\n",
    "\n",
    "def download_otc(date):\n",
    "    r = requests.get(f'https://www.tpex.org.tw/web/stock/aftertrading/otc_quotes_no1430/stk_wn1430_result.php?l=zh-tw&d={date}&se=AL')\n",
    "    j = r.json()\n",
    "    df = pd.DataFrame.from_dict(j[\"aaData\"])\n",
    "    df.columns=['代號','名稱','收盤','漲跌','開盤','最高','最低','成交股數','成交金額(元)','成交筆數','最後買價','最後買量(千股)','最後賣價','最後賣量(千股)','發行股數','次日漲停價','次日跌停價']\n",
    "    df = df[df[\"代號\"].astype(str).str.match(r\"^\\d{4}$\")]  \n",
    "    return df\n"
   ]
  },
  {
   "cell_type": "code",
   "execution_count": null,
   "id": "73e94a6a",
   "metadata": {},
   "outputs": [],
   "source": [
    "today = datetime.date.today().strftime(\"%Y%m%d\")\n",
    "today_otc = datetime.date.today().strftime(\"%Y/%m/%d\")\n",
    "\n",
    "def start_download_sii(start=today, end=today):\n",
    "    startDate = datetime.datetime.strptime(start, \"%Y%m%d\")\n",
    "    endDate =  datetime.datetime.strptime(end, \"%Y%m%d\")\n",
    "\n",
    "    for date in workdays(startDate, endDate):\n",
    "        print('download sii: ', date)\n",
    "\n",
    "        # download and insert to db\n",
    "        try:\n",
    "            df = download(date)\n",
    "            \n",
    "            for index, row in df.iterrows(): \n",
    "                sql_insert = f'insert into daily (date, id, name, tradeVolumn,[transaction], tradeValue,open,high,low,close,dir,change,bidPrice,bidVolumn,askPrice,askVolumn, pe) \\\n",
    "                               values (?,?,?,?,?,?,?,?,?,?,?,?,?,?,?,?,?)'\n",
    "                db.execute(sql_insert, (date, row['證券代號'],row['name'],row['成交股數'],row['成交筆數'],row['成交金額'],row['開盤價'],row['最高價'],row['最低價'],row['收盤價'],row['漲跌(+/-)'],row['漲跌價差'],row['最後揭示買價'],row['最後揭示買量'],row['最後揭示賣價'],row['最後揭示賣量'],row['本益比']))\n",
    "        except:\n",
    "            print('skip...', date)\n",
    "            continue\n",
    "\n",
    "def atof(v):\n",
    "    return locale.atof(v)\n",
    "\n",
    "def start_download_otc(start=today_otc, end=today_otc):\n",
    "    startDate = datetime.datetime.strptime(start, \"%Y/%m/%d\")\n",
    "    endDate =  datetime.datetime.strptime(end, \"%Y/%m/%d\")\n",
    "\n",
    "    for date in workdays(startDate, endDate, \"%Y/%m/%d\"):\n",
    "        # 2021 -> 110\n",
    "        fdate = date.split(\"/\")\n",
    "        fdate[0] = str(int(fdate[0]) - 1911)\n",
    "        fdate = \"/\".join(fdate)\n",
    "        print('download otc: ', fdate) \n",
    "        try:\n",
    "            df = download_otc(fdate)\n",
    "            for index, row in df.iterrows():\n",
    "                sql_insert = f'insert into daily (date, id, name, tradeVolumn,[transaction], tradeValue,open,high,low,close,dir,change,bidPrice,bidVolumn,askPrice,askVolumn, pe) \\\n",
    "                               values (?,?,?,?,?,?,?,?,?,?,?,?,?,?,?,?,?)'\n",
    "                change = row['漲跌']\n",
    "                dir = -1.0 if ('-' in change) else 1.0 if ('+' in change) else np.nan\n",
    "                change = change.replace('-', '') if ('-' in change) else change.replace('+', '') if ('+' in change) else np.nan\n",
    "\n",
    "                try:\n",
    "                    db.execute(sql_insert, (date.replace(\"/\",\"\"), row['代號'],row['名稱'],atof(row['成交股數']),atof(row['成交筆數']),atof(row['成交金額(元)']),atof(row['開盤']),\\\n",
    "                               atof(row['最高']),atof(row['最低']),atof(row['收盤']),dir, change, atof(row['最後買價']),atof(row['最後買量(千股)']),atof(row['最後賣價']),atof(row['最後賣量(千股)']),np.nan))\n",
    "                except:\n",
    "                    pass \n",
    "        except:\n",
    "            print('skip: >>>>>>>>>', )\n",
    "            continue\n"
   ]
  },
  {
   "cell_type": "code",
   "execution_count": null,
   "id": "c11bfbe5",
   "metadata": {
    "scrolled": true
   },
   "outputs": [],
   "source": [
    "start = \"2023/08/12\" \n",
    "end = \"2023/08/15\"\n",
    "sii_start = start.replace(\"/\",\"\")\n",
    "sii_end = end.replace(\"/\",\"\")\n",
    "\n",
    "start_download_sii(sii_start, sii_end)\n",
    "start_download_otc(start, end)\n",
    "\n",
    "# 缺OTC 2019, 2020"
   ]
  },
  {
   "cell_type": "code",
   "execution_count": null,
   "id": "5ef98478",
   "metadata": {
    "scrolled": true
   },
   "outputs": [],
   "source": [
    "df = pd.read_sql_query(\"select * from daily where id=2330 order by date\", db)\n",
    "df\n",
    "# df[df['date'].astype(str).str.contains(\"^2019\", regex=True)]"
   ]
  },
  {
   "cell_type": "code",
   "execution_count": null,
   "id": "stuck-operator",
   "metadata": {},
   "outputs": [],
   "source": [
    "pd.read_sql_query(\"select * from daily where id=5483 and date=20200110 order by date\", db)"
   ]
  },
  {
   "cell_type": "markdown",
   "id": "7f3b24a5",
   "metadata": {},
   "source": [
    "# 更新上櫃pe(爬蟲沒有上櫃pe)"
   ]
  },
  {
   "cell_type": "code",
   "execution_count": null,
   "id": "fb57cf38",
   "metadata": {},
   "outputs": [],
   "source": [
    "# 財報\n",
    "df_financial_statement = pd.read_sql_query(\"select * from financialStatement\",db)\n",
    "df_financial_statement = df_financial_statement.fillna(0)\n",
    "df_financial_statement.replace('--', 0, inplace=True)"
   ]
  },
  {
   "cell_type": "code",
   "execution_count": null,
   "id": "4b0ee6c7",
   "metadata": {
    "scrolled": true
   },
   "outputs": [],
   "source": [
    "df = pd.read_sql_query(\"select * from daily\", db)\n",
    "df = df.sort_values(by=['date'])"
   ]
  },
  {
   "cell_type": "code",
   "execution_count": null,
   "id": "9fbf30e3",
   "metadata": {
    "scrolled": true
   },
   "outputs": [],
   "source": [
    "# 把個股每月對應到的近四季eps記錄在dict\n",
    "\n",
    "year = [[1,2,3],[4,5,6],[7,8,9],[10,11,12]]\n",
    "\n",
    "def find_eps(id, quarters):\n",
    "    df = df_financial_statement[df_financial_statement['id'] == id]\n",
    "    return round(df[df['date'].isin(quarters)]['qeps'].sum(), 2)\n",
    "\n",
    "def find_in_list_of_list(mylist, char):\n",
    "    for sub_list in mylist:\n",
    "        if char in sub_list:\n",
    "            return mylist.index(sub_list) + 1\n",
    "    \n",
    "def getQuarters(yyyy, mm):\n",
    "    start = find_in_list_of_list(year, mm) - 1 + 4\n",
    "    res = []\n",
    "    \n",
    "    for i in range(4):\n",
    "        if(start % 4):\n",
    "            res.append(f\"{yyyy}q{start % 4}\")\n",
    "        else:\n",
    "            yyyy -= 1\n",
    "            res.append(f\"{yyyy}q4\")\n",
    "            \n",
    "        start -= 1\n",
    "    \n",
    "    return res\n",
    "\n",
    "dict = {}\n",
    "currentYears = 2023\n",
    "currentMonth = 5\n",
    "for id in set(df['id'].tolist()):\n",
    "    dict[id] = {}\n",
    "    for yyyy in range(2017,currentYears + 1):\n",
    "        for mm in range(1,currentMonth + 1):\n",
    "            quarters = getQuarters(yyyy, mm)\n",
    "            eps = find_eps(id, quarters)\n",
    "            key = f\"{yyyy}{str(mm).zfill(2)}\"\n",
    "            dict[id][key] = eps"
   ]
  },
  {
   "cell_type": "code",
   "execution_count": null,
   "id": "87b5c0dc",
   "metadata": {
    "scrolled": true
   },
   "outputs": [],
   "source": [
    "# getQuarters(2023, 1) # ['2022q4', '2022q3', '2022q2', '2022q1'] 用前四季eps總和\n",
    "# dict[5425]"
   ]
  },
  {
   "cell_type": "code",
   "execution_count": null,
   "id": "eb46f226",
   "metadata": {
    "scrolled": true
   },
   "outputs": [],
   "source": [
    "# 找daily中 id在filter內 與 pe為NaN\n",
    "filter_ids = [5347, 6182, 8938, 3264, 5425, 5483, 3611, 6509, 8155, 6770, 1342, 2640, 6146, 6263, 8109, 5009, 6691, 3265]\n",
    "\n",
    "update_df = df[(df['id'].isin(filter_ids))& (df['pe'].isna())] \n",
    "update_df"
   ]
  },
  {
   "cell_type": "code",
   "execution_count": null,
   "id": "985767ad",
   "metadata": {},
   "outputs": [],
   "source": [
    "for index, row in update_df.iterrows():\n",
    "    date = str(row['date'])[0:6]\n",
    "    id = row['id']\n",
    "    try:\n",
    "        eps = dict[id][date]\n",
    "        update_df.loc[index, 'eps'] = eps\n",
    "    except: # dict沒有這季eps先拿舊的(會導致之後需要更新eps)\n",
    "        preDate = list(dict[id].keys())[-1]\n",
    "        eps = dict[id][preDate]\n",
    "        update_df.loc[index, 'eps'] = eps"
   ]
  },
  {
   "cell_type": "code",
   "execution_count": null,
   "id": "49310d1c",
   "metadata": {
    "scrolled": true
   },
   "outputs": [],
   "source": [
    "def writeDB(dff):\n",
    "    for index, row in dff.iterrows():\n",
    "        date = row['date']\n",
    "        pe = row['pe']\n",
    "        id = row['id']\n",
    "        sql = f\"UPDATE daily SET pe = {pe} WHERE id = {id} and date = {date}\"\n",
    "        db.execute(sql)\n",
    "        \n",
    "a = update_df.sort_values(by=['date'])\n",
    "a['pe'] = round(a['close']/a['eps'], 2)\n",
    "writeDB(a)"
   ]
  },
  {
   "cell_type": "code",
   "execution_count": null,
   "id": "a44aebee",
   "metadata": {
    "scrolled": true
   },
   "outputs": [],
   "source": [
    "# search db\n",
    "id = 5425\n",
    "df1 = pd.read_sql_query(f\"select * from daily where id={id} order by date\", db)\n",
    "df1"
   ]
  },
  {
   "cell_type": "markdown",
   "id": "5cac8ca6",
   "metadata": {},
   "source": [
    "# OTC API return columns\n",
    "\n",
    "\n",
    "|代號|名稱|收盤|漲跌|開盤|最高|最低|成交股數|成交金額(元)|成交筆數|最後買價|最後買量(千股)|最後賣價|最後賣量(千股)|發行股數|次日漲停價|次日跌停價|\n",
    "|--|--|--|--|--|--|--|--|--|--|--|--|--|--|--|--|--|\n",
    "|id|name|close|change|open|high|low|tradeVolumn|tradeValue|transaction|bidPrice|bidVolumn|askPrice|askVolumn|\n"
   ]
  },
  {
   "cell_type": "code",
   "execution_count": null,
   "id": "fe07b11a",
   "metadata": {
    "scrolled": true
   },
   "outputs": [],
   "source": [
    "a = download_otc(\"107/01/01\")\n",
    "a"
   ]
  },
  {
   "cell_type": "markdown",
   "id": "2a41d5b3",
   "metadata": {},
   "source": [
    "# Search DB "
   ]
  },
  {
   "cell_type": "code",
   "execution_count": null,
   "id": "3ec0a613",
   "metadata": {
    "scrolled": true
   },
   "outputs": [],
   "source": [
    "# find duplicate\n",
    "df = pd.read_sql_query(\"select * from daily\", db)\n",
    "a = df[(df['id']==5425)].sort_values(by=['date'], ascending=False)\n",
    "duplicated = a[a['date'].duplicated()]['date'].tolist()\n",
    "print(f\"dulicate: {duplicated}\")"
   ]
  },
  {
   "cell_type": "code",
   "execution_count": null,
   "id": "fd17968f",
   "metadata": {},
   "outputs": [],
   "source": [
    "# delete row\n",
    "for date in duplicated:\n",
    "    sql = f\"delete from daily where date={date}\"\n",
    "    db.execute(sql)"
   ]
  },
  {
   "cell_type": "code",
   "execution_count": null,
   "id": "afaf9c1d",
   "metadata": {},
   "outputs": [],
   "source": [
    "db.close()"
   ]
  },
  {
   "cell_type": "code",
   "execution_count": null,
   "id": "0c974e7f",
   "metadata": {},
   "outputs": [],
   "source": []
  }
 ],
 "metadata": {
  "kernelspec": {
   "display_name": "Python 3",
   "language": "python",
   "name": "python3"
  },
  "language_info": {
   "codemirror_mode": {
    "name": "ipython",
    "version": 3
   },
   "file_extension": ".py",
   "mimetype": "text/x-python",
   "name": "python",
   "nbconvert_exporter": "python",
   "pygments_lexer": "ipython3",
   "version": "3.9.1"
  }
 },
 "nbformat": 4,
 "nbformat_minor": 5
}
