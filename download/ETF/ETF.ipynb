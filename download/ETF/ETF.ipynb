{
 "cells": [
  {
   "cell_type": "code",
   "execution_count": null,
   "id": "3184869d",
   "metadata": {},
   "outputs": [],
   "source": [
    "import pandas as pd\n",
    "import requests\n",
    "import math\n",
    "import numpy as np\n",
    "import io\n",
    "import ast\n",
    "from datetime import datetime"
   ]
  },
  {
   "cell_type": "code",
   "execution_count": null,
   "id": "f161d22c",
   "metadata": {},
   "outputs": [],
   "source": [
    "# 展開所有dataframe columns\n",
    "pd.set_option('display.max_rows', 2000)\n",
    "pd.set_option('display.max_columns', 500)\n",
    "pd.set_option('display.width', 1000)\n",
    "pd.set_option ('display.max_colwidth',500)\n",
    "\n",
    "# 不縮寫成科學記號\n",
    "pd.set_option('display.float_format',lambda x : '%.2f' % x)"
   ]
  },
  {
   "cell_type": "code",
   "execution_count": null,
   "id": "cfc19cc1",
   "metadata": {
    "scrolled": true
   },
   "outputs": [],
   "source": [
    "row = pd.read_json('./tw.json')\n",
    "row['code'] = row[0].str.split(pat=\":\").str[1] # 從TWS:020038:STOCK取出020038\n",
    "row['name'] = row[200008]\n",
    "row['close'] = row[6]\n",
    "row"
   ]
  },
  {
   "cell_type": "code",
   "execution_count": null,
   "id": "7cd3fd71",
   "metadata": {
    "scrolled": true
   },
   "outputs": [],
   "source": [
    "df = row[['code', 'name', 'close']]\n",
    "df"
   ]
  },
  {
   "cell_type": "code",
   "execution_count": null,
   "id": "72ff80fd",
   "metadata": {},
   "outputs": [],
   "source": [
    "# code to cnyesId\n",
    "def getCnyesId(id):\n",
    "    r = requests.get(f'https://fund.api.cnyes.com/fund/api/v1/funds/{id}/etf/mapping').json()\n",
    "    return r['items']['cnyesId']\n",
    "\n",
    "getCnyesId('020038')"
   ]
  },
  {
   "cell_type": "code",
   "execution_count": null,
   "id": "8b8985ec",
   "metadata": {},
   "outputs": [],
   "source": [
    "# df['cnyesId'] = df.apply(lambda r: getCnyesId(r['code']), axis=1)"
   ]
  },
  {
   "cell_type": "code",
   "execution_count": null,
   "id": "465a865a",
   "metadata": {},
   "outputs": [],
   "source": [
    "# df.to_csv('etf.csv', index = False)"
   ]
  },
  {
   "cell_type": "markdown",
   "id": "96b22c82",
   "metadata": {},
   "source": [
    "## ETF成分股"
   ]
  },
  {
   "cell_type": "code",
   "execution_count": null,
   "id": "88c88e9e",
   "metadata": {},
   "outputs": [],
   "source": [
    "def p(id):\n",
    "    if(id):\n",
    "        print(id)\n",
    "    else:\n",
    "        print(None)\n",
    "    \n",
    "df.apply(lambda r: p(r['cnyesId']), axis=1)"
   ]
  },
  {
   "cell_type": "code",
   "execution_count": null,
   "id": "30f87eb0",
   "metadata": {},
   "outputs": [],
   "source": [
    "# use cnyesId to get holdings\n",
    "def getEtfHoldings(cnyesId):\n",
    "    if(cnyesId):\n",
    "        try:\n",
    "            r = requests.get(f'https://fund.api.cnyes.com/fund/api/v1/funds/{cnyesId}/holdings').json()\n",
    "            result = [[item['name'], round(item['value'], 2)] for item in r['items']['data']]\n",
    "            return [item for sublist in result for item in sublist]\n",
    "        except:\n",
    "            return None\n",
    "    else:\n",
    "        return None\n",
    "\n",
    "# getEtfHoldings('A13012')\n",
    "# a = getEtfHoldings('A19114')\n",
    "df['holdings'] = df.apply(lambda r: getEtfHoldings(r['cnyesId']), axis=1)"
   ]
  },
  {
   "cell_type": "code",
   "execution_count": null,
   "id": "6a1db6fb",
   "metadata": {},
   "outputs": [],
   "source": [
    "df"
   ]
  },
  {
   "cell_type": "code",
   "execution_count": null,
   "id": "a68dd0e7",
   "metadata": {},
   "outputs": [],
   "source": [
    "# df.to_csv('etf_holdings.csv', index = False)"
   ]
  },
  {
   "cell_type": "code",
   "execution_count": null,
   "id": "48e1710a",
   "metadata": {},
   "outputs": [],
   "source": [
    "df = pd.read_csv('etf_holdings.csv')"
   ]
  },
  {
   "cell_type": "code",
   "execution_count": null,
   "id": "2ba8c849",
   "metadata": {},
   "outputs": [],
   "source": [
    "df.tail()"
   ]
  },
  {
   "cell_type": "code",
   "execution_count": null,
   "id": "5b536a07",
   "metadata": {},
   "outputs": [],
   "source": [
    "holdings_columns = ['1','1(%)','2','2(%)','3','3(%)','4','4(%)','5','5(%)','6','6(%)','7','7(%)','8','8(%)','9','9(%)','10','10(%)']\n",
    "df1 = pd.DataFrame(df['holdings'].fillna('[]').apply(ast.literal_eval).tolist(), columns = holdings_columns)\n",
    "df1"
   ]
  },
  {
   "cell_type": "code",
   "execution_count": null,
   "id": "799ac6d8",
   "metadata": {},
   "outputs": [],
   "source": [
    "df2 = pd.concat([df, df1], axis=1) "
   ]
  },
  {
   "cell_type": "code",
   "execution_count": null,
   "id": "f09a1ff7",
   "metadata": {},
   "outputs": [],
   "source": [
    "df2 = df2[df2['holdings'].notnull()]\n",
    "df2"
   ]
  },
  {
   "cell_type": "markdown",
   "id": "2d3296bc",
   "metadata": {},
   "source": [
    "## 基金基本資料"
   ]
  },
  {
   "cell_type": "code",
   "execution_count": null,
   "id": "e8464685",
   "metadata": {},
   "outputs": [],
   "source": [
    "# use cnyesId to get etf detail\n",
    "def getEtfDetails(cnyesId):\n",
    "    if(cnyesId):\n",
    "        try:\n",
    "            r = requests.get(f'https://fund.api.cnyes.com/fund/api/v1/funds/{cnyesId}/detail').json()\n",
    "            netAssetInfo =  r['items']['netAssetInfo']\n",
    "            return [netAssetInfo['currency'], netAssetInfo['amount'], netAssetInfo['date']]\n",
    "        except:\n",
    "            return None\n",
    "    else:\n",
    "        return None\n",
    "\n",
    "df2['detail'] = df2.apply(lambda r: getEtfDetails(r['cnyesId']), axis=1)"
   ]
  },
  {
   "cell_type": "code",
   "execution_count": null,
   "id": "2913374e",
   "metadata": {},
   "outputs": [],
   "source": [
    "df2"
   ]
  },
  {
   "cell_type": "code",
   "execution_count": null,
   "id": "4ac842ff",
   "metadata": {},
   "outputs": [],
   "source": [
    "columns = ['currency', '規模(億)', '更新日期']\n",
    "df_detail = pd.DataFrame(df2['detail'].tolist(), columns = columns, index=df2.index)"
   ]
  },
  {
   "cell_type": "code",
   "execution_count": null,
   "id": "b3d8cfae",
   "metadata": {},
   "outputs": [],
   "source": [
    "df3 = pd.concat([df2, df_detail], axis=1)"
   ]
  },
  {
   "cell_type": "code",
   "execution_count": null,
   "id": "20c848d2",
   "metadata": {},
   "outputs": [],
   "source": [
    "df3['規模(億)'] = round(df3['規模(億)']/1e8, 2)"
   ]
  },
  {
   "cell_type": "code",
   "execution_count": null,
   "id": "24eb73e9",
   "metadata": {},
   "outputs": [],
   "source": [
    "df3['更新日期'] = df3['更新日期'].apply(datetime.fromtimestamp)"
   ]
  },
  {
   "cell_type": "code",
   "execution_count": null,
   "id": "d80f1579",
   "metadata": {},
   "outputs": [],
   "source": [
    "df3['code'] = \"'\" + df3['code']"
   ]
  },
  {
   "cell_type": "code",
   "execution_count": null,
   "id": "99912d73",
   "metadata": {},
   "outputs": [],
   "source": [
    "df3"
   ]
  },
  {
   "cell_type": "markdown",
   "id": "adcdac35",
   "metadata": {},
   "source": [
    "## Results"
   ]
  },
  {
   "cell_type": "code",
   "execution_count": null,
   "id": "9668ad99",
   "metadata": {},
   "outputs": [],
   "source": [
    "df3[['code','name','規模(億)','更新日期']+holdings_columns].to_csv('etf_holdings_final.csv', index = False)"
   ]
  }
 ],
 "metadata": {
  "kernelspec": {
   "display_name": "Python 3 (ipykernel)",
   "language": "python",
   "name": "python3"
  },
  "language_info": {
   "codemirror_mode": {
    "name": "ipython",
    "version": 3
   },
   "file_extension": ".py",
   "mimetype": "text/x-python",
   "name": "python",
   "nbconvert_exporter": "python",
   "pygments_lexer": "ipython3",
   "version": "3.9.16"
  }
 },
 "nbformat": 4,
 "nbformat_minor": 5
}
