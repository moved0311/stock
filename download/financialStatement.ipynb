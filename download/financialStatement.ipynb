{
 "cells": [
  {
   "cell_type": "code",
   "execution_count": 1,
   "id": "5efba5a8",
   "metadata": {},
   "outputs": [],
   "source": [
    "import requests\n",
    "from io import StringIO\n",
    "import pandas as pd\n",
    "import numpy as np\n",
    "import sqlite3\n",
    "sqlite3.register_adapter(np.int64, int)\n",
    "import re\n",
    "import math\n",
    "from datetime import date\n",
    "import matplotlib.pyplot as plt\n",
    "\n",
    "# 展開所有dataframe columns\n",
    "pd.set_option('display.max_rows', 2000)\n",
    "pd.set_option('display.max_columns', 500)\n",
    "pd.set_option('display.width', 1000)\n",
    "\n",
    "# 不縮寫成科學記號\n",
    "pd.set_option('display.float_format',lambda x : '%.2f' % x)\n",
    "\n",
    "db = sqlite3.connect('../stock.db' , isolation_level=None)"
   ]
  },
  {
   "cell_type": "code",
   "execution_count": 2,
   "id": "6866b38e",
   "metadata": {},
   "outputs": [
    {
     "data": {
      "text/html": [
       "<div>\n",
       "<style scoped>\n",
       "    .dataframe tbody tr th:only-of-type {\n",
       "        vertical-align: middle;\n",
       "    }\n",
       "\n",
       "    .dataframe tbody tr th {\n",
       "        vertical-align: top;\n",
       "    }\n",
       "\n",
       "    .dataframe thead th {\n",
       "        text-align: right;\n",
       "    }\n",
       "</style>\n",
       "<table border=\"1\" class=\"dataframe\">\n",
       "  <thead>\n",
       "    <tr style=\"text-align: right;\">\n",
       "      <th></th>\n",
       "      <th>id</th>\n",
       "      <th>name</th>\n",
       "      <th>industry</th>\n",
       "      <th>capital</th>\n",
       "    </tr>\n",
       "  </thead>\n",
       "  <tbody>\n",
       "    <tr>\n",
       "      <th>0</th>\n",
       "      <td>1101</td>\n",
       "      <td>台泥</td>\n",
       "      <td>水泥工業</td>\n",
       "      <td>69.37</td>\n",
       "    </tr>\n",
       "    <tr>\n",
       "      <th>1</th>\n",
       "      <td>1102</td>\n",
       "      <td>亞泥</td>\n",
       "      <td>水泥工業</td>\n",
       "      <td>35.46</td>\n",
       "    </tr>\n",
       "    <tr>\n",
       "      <th>2</th>\n",
       "      <td>1103</td>\n",
       "      <td>嘉泥</td>\n",
       "      <td>水泥工業</td>\n",
       "      <td>7.75</td>\n",
       "    </tr>\n",
       "    <tr>\n",
       "      <th>3</th>\n",
       "      <td>1104</td>\n",
       "      <td>環泥</td>\n",
       "      <td>水泥工業</td>\n",
       "      <td>6.54</td>\n",
       "    </tr>\n",
       "    <tr>\n",
       "      <th>4</th>\n",
       "      <td>1108</td>\n",
       "      <td>幸福</td>\n",
       "      <td>水泥工業</td>\n",
       "      <td>4.05</td>\n",
       "    </tr>\n",
       "  </tbody>\n",
       "</table>\n",
       "</div>"
      ],
      "text/plain": [
       "     id name industry  capital\n",
       "0  1101   台泥     水泥工業    69.37\n",
       "1  1102   亞泥     水泥工業    35.46\n",
       "2  1103   嘉泥     水泥工業     7.75\n",
       "3  1104   環泥     水泥工業     6.54\n",
       "4  1108   幸福     水泥工業     4.05"
      ]
     },
     "execution_count": 2,
     "metadata": {},
     "output_type": "execute_result"
    }
   ],
   "source": [
    "df_stock_id_name = pd.read_sql_query(\"select * from stockIdName\",db)\n",
    "\n",
    "# 宣告一個空的df\n",
    "df = df_stock_id_name[['id', 'name', 'industry', 'capital']]\n",
    "df.head()"
   ]
  },
  {
   "cell_type": "code",
   "execution_count": 3,
   "id": "bfca72ce",
   "metadata": {},
   "outputs": [],
   "source": [
    "def financial_statement(year, season, type='綜合損益彙總表',TYPEK='sii'):\n",
    "    if year >= 1000:\n",
    "        year -= 1911\n",
    "\n",
    "    if type == '綜合損益彙總表':\n",
    "        url = 'https://mops.twse.com.tw/mops/web/ajax_t163sb04'\n",
    "    elif type == '資產負債彙總表':\n",
    "        url = 'https://mops.twse.com.tw/mops/web/ajax_t163sb05'\n",
    "    elif type == '現金流量表':\n",
    "        url = 'https://mops.twse.com.tw/mops/web/ajax_t163sb20'\n",
    "    else:\n",
    "        print('type does not match')\n",
    "\n",
    "    r = requests.post(url, {\n",
    "        'encodeURIComponent':1,\n",
    "        'step':1,\n",
    "        'firstin':1,\n",
    "        'off':1,\n",
    "        'TYPEK':TYPEK,  # sii上市, otc上櫃\n",
    "        'year':str(year),\n",
    "        'season':str(season),\n",
    "    })\n",
    "\n",
    "    r.encoding = 'utf8'\n",
    "    dfs = pd.read_html(r.text, header=None)\n",
    "    return pd.concat(dfs[1:], axis=0, sort=False)\n"
   ]
  },
  {
   "cell_type": "code",
   "execution_count": 4,
   "id": "8409557c",
   "metadata": {
    "scrolled": true
   },
   "outputs": [
    {
     "data": {
      "text/plain": [
       "967"
      ]
     },
     "execution_count": 4,
     "metadata": {},
     "output_type": "execute_result"
    }
   ],
   "source": [
    "# 檢查目前有幾家公司更新最新財報\n",
    "# financial_statement(2022, 3, '綜合損益彙總表', 'otc')   # 801\n",
    "f = financial_statement(2023, 1, '綜合損益彙總表', 'sii') # 976\n",
    "len(f)"
   ]
  },
  {
   "cell_type": "markdown",
   "id": "4b42c515",
   "metadata": {},
   "source": [
    "# 綜合損益彙總表"
   ]
  },
  {
   "cell_type": "code",
   "execution_count": 5,
   "id": "e070f125",
   "metadata": {},
   "outputs": [],
   "source": [
    "PROFIT_AND_LOSS = '綜合損益彙總表'\n",
    "\n",
    "def writeToFinancialStatementDB(df, year, quarter, id, name, revenue, grossProfit, operatingIncome, incomeBeforeTax, income, eps):\n",
    "    date = f\"{year}q{quarter}\"\n",
    "    sql = 'insert into financialStatement (date, id, name, revenue, grossProfit, operatingIncome, incomeBeforeTax, income, eps, qeps) values (?,?,?,?,?,?,?,?,?,?)'\n",
    "    \n",
    "    if quarter == 1:\n",
    "        db.execute(sql, (date, id, name, revenue, grossProfit, operatingIncome, incomeBeforeTax, income, eps, eps))\n",
    "    else:\n",
    "        try:\n",
    "            prev_eps = df[df['id']==id].tail(1)['eps'].iloc[0]\n",
    "            qeps = eps - prev_eps\n",
    "            db.execute(sql, (date, id, name, revenue, grossProfit, operatingIncome, incomeBeforeTax, income, eps, qeps))\n",
    "        except:\n",
    "            db.execute(sql, (date, id, name, revenue, grossProfit, operatingIncome, incomeBeforeTax, income, eps, np.nan))\n",
    "        \n",
    "def downloadProfitLoss(years, quarters, market='sii'):\n",
    "    for year in years:\n",
    "        for quarter in quarters:\n",
    "            print(f\"download {year}q{quarter}\")\n",
    "            historyFinancialStatement = pd.read_sql_query(f\"select * from financialStatement\",db)\n",
    "            try:\n",
    "                df = financial_statement(year, quarter, PROFIT_AND_LOSS, market)\n",
    "                for index, row in df.iterrows():\n",
    "                    writeToFinancialStatementDB(historyFinancialStatement,year, quarter, row['公司代號'], row['公司名稱'], row['營業收入'], row['營業毛利（毛損）'], row['營業利益（損失）'], row['稅前淨利（淨損）'], row['本期淨利（淨損）'], row['基本每股盈餘（元）'])\n",
    "            except:\n",
    "                print('下載或寫入發生錯誤')\n"
   ]
  },
  {
   "cell_type": "code",
   "execution_count": 6,
   "id": "20c86d8c",
   "metadata": {
    "scrolled": true
   },
   "outputs": [
    {
     "name": "stdout",
     "output_type": "stream",
     "text": [
      "download 2023q1\n",
      "download 2023q1\n"
     ]
    }
   ],
   "source": [
    "# 下載綜合損益彙總表 \n",
    "years = [2023]\n",
    "quarters = [1]\n",
    "# sii\n",
    "downloadProfitLoss(years, quarters)\n",
    "# otc\n",
    "downloadProfitLoss(years, quarters, 'otc')"
   ]
  },
  {
   "cell_type": "code",
   "execution_count": 7,
   "id": "a995f2c1",
   "metadata": {
    "scrolled": true
   },
   "outputs": [],
   "source": [
    "# search in db\n",
    "t = pd.read_sql_query(f\"select * from financialStatement\",db)"
   ]
  },
  {
   "cell_type": "code",
   "execution_count": 8,
   "id": "fcd4854e",
   "metadata": {},
   "outputs": [
    {
     "data": {
      "text/plain": [
       "1777"
      ]
     },
     "execution_count": 8,
     "metadata": {},
     "output_type": "execute_result"
    }
   ],
   "source": [
    "len(t[(t['date']=='2023q1')])"
   ]
  },
  {
   "cell_type": "markdown",
   "id": "99dd8c2d",
   "metadata": {},
   "source": [
    "# Example 2018Q1 2330\n",
    "營業收入 248078671\\\n",
    "營業成本 123103977\\\n",
    "營業毛利（毛損）124974694 = 營業收入 - 營業成本 = 248078671 - 123103977\\\n",
    "營業利益（損失）96826946 = 營業毛利（毛損）- 營業費用 - 已實現銷貨（損）益 - 其他收益及費損淨額 = 124974694 - 26728394 - 117155 - 1302199\\\n",
    "稅前淨利（淨損）99943621 = 營業利益（損失）+ 營業外收入及支出 = 96826946 + 3116675\\\n",
    "本期淨利（淨損）89787574 = 稅前淨利（淨損） - 所得稅費用（利益） = 99943621 - 10156047\\\n",
    "淨利（淨損）歸屬於母公司業主 89784622 = 本期淨利（淨損）-  淨利（淨損）歸屬於非控制權益 = 89787574 - 2952\n"
   ]
  },
  {
   "cell_type": "markdown",
   "id": "e135a7bf",
   "metadata": {},
   "source": [
    "## !! 刪除DB"
   ]
  },
  {
   "cell_type": "code",
   "execution_count": null,
   "id": "198d5349",
   "metadata": {},
   "outputs": [],
   "source": [
    "## 建立 financialStatement\n",
    "#sql = 'create table if not exists financialStatement \\\n",
    "#           (date TEXT,\\\n",
    "#            id INT ,\\\n",
    "#           name TEXT ,\\\n",
    "#            revenue INTEGER,\\\n",
    "#            grossProfit INTEGER,\\\n",
    "#            operatingIncome INTEGER,\\\n",
    "#            incomeBeforeTax INTEGER,\\\n",
    "#            income INTEGER, \\\n",
    "#            eps FLOAT,\\\n",
    "#            qeps FLOAT);'\n",
    "\n",
    "# db.execute(sql)\n",
    "\n",
    "#sql = f'select * from financialStatement'\n",
    "#pd.read_sql_query(sql, db)"
   ]
  },
  {
   "cell_type": "code",
   "execution_count": null,
   "id": "a4f873a5",
   "metadata": {},
   "outputs": [],
   "source": [
    "# 刪除 financialStatement\n",
    "# db.execute('drop table financialStatement')"
   ]
  },
  {
   "cell_type": "markdown",
   "id": "311682bd",
   "metadata": {},
   "source": [
    "# 資產負債彙總表"
   ]
  },
  {
   "cell_type": "code",
   "execution_count": 9,
   "id": "f1f66937",
   "metadata": {},
   "outputs": [],
   "source": [
    "BALANCE_SHEET = '資產負債彙總表'\n",
    "# sii 權益總額, otc 權益總計 \n",
    "def downloadBalanceSheet(years, quarters, market='sii'):\n",
    "    for year in years:\n",
    "        for quarter in quarters:\n",
    "            date = f\"{year}q{quarter}\"\n",
    "            print(f\"download {date} {market}\")\n",
    "            try:\n",
    "                df = financial_statement(year, quarter, BALANCE_SHEET, market)\n",
    "                for index, row in df.iterrows():\n",
    "                    sql = 'insert into balanceSheet (date,id,name,asset,currentAsset,nonCurrentAsset,liabilities,currentLiabilities,nonCurrentLiabilities,additionalPaid,retainedEarning,treasury,shareholderEquity,capital,pb) values (?,?,?,?,?,?,?,?,?,?,?,?,?,?,?)'\n",
    "                    db.execute(sql, (date, row['公司代號'], row['公司名稱'], row['資產總計'], row['流動資產'], row['非流動資產'], row['負債總計'], row['流動負債'], row['非流動負債'], row['資本公積'], row['保留盈餘'], row['庫藏股票'], row['權益總計'], row['股本'], row['每股參考淨值']))\n",
    "            except Exception as e:\n",
    "                print('下載或寫入發生錯誤', e)"
   ]
  },
  {
   "cell_type": "code",
   "execution_count": null,
   "id": "77de8969",
   "metadata": {},
   "outputs": [],
   "source": [
    "# financial_statement(2022, 2, BALANCE_SHEET, 'otc')"
   ]
  },
  {
   "cell_type": "code",
   "execution_count": 10,
   "id": "b7d56668",
   "metadata": {
    "scrolled": true
   },
   "outputs": [
    {
     "name": "stdout",
     "output_type": "stream",
     "text": [
      "download 2023q1 sii\n",
      "download 2023q1 otc\n"
     ]
    }
   ],
   "source": [
    "years = [2023]  \n",
    "quarters = [1]  \n",
    "downloadBalanceSheet(years, quarters, 'sii') \n",
    "downloadBalanceSheet(years, quarters, 'otc') "
   ]
  },
  {
   "cell_type": "code",
   "execution_count": 19,
   "id": "12e3597e",
   "metadata": {
    "scrolled": true
   },
   "outputs": [
    {
     "data": {
      "text/html": [
       "<div>\n",
       "<style scoped>\n",
       "    .dataframe tbody tr th:only-of-type {\n",
       "        vertical-align: middle;\n",
       "    }\n",
       "\n",
       "    .dataframe tbody tr th {\n",
       "        vertical-align: top;\n",
       "    }\n",
       "\n",
       "    .dataframe thead th {\n",
       "        text-align: right;\n",
       "    }\n",
       "</style>\n",
       "<table border=\"1\" class=\"dataframe\">\n",
       "  <thead>\n",
       "    <tr style=\"text-align: right;\">\n",
       "      <th></th>\n",
       "      <th>date</th>\n",
       "      <th>id</th>\n",
       "      <th>name</th>\n",
       "      <th>asset</th>\n",
       "      <th>currentAsset</th>\n",
       "      <th>nonCurrentAsset</th>\n",
       "      <th>liabilities</th>\n",
       "      <th>currentLiabilities</th>\n",
       "      <th>nonCurrentLiabilities</th>\n",
       "      <th>additionalPaid</th>\n",
       "      <th>retainedEarning</th>\n",
       "      <th>treasury</th>\n",
       "      <th>shareholderEquity</th>\n",
       "      <th>capital</th>\n",
       "      <th>pb</th>\n",
       "    </tr>\n",
       "  </thead>\n",
       "  <tbody>\n",
       "    <tr>\n",
       "      <th>285</th>\n",
       "      <td>2021q1</td>\n",
       "      <td>2330</td>\n",
       "      <td>台積電</td>\n",
       "      <td>2919131461.00</td>\n",
       "      <td>1139786823.00</td>\n",
       "      <td>1779344638.00</td>\n",
       "      <td>978134499.00</td>\n",
       "      <td>661648612.00</td>\n",
       "      <td>316485887</td>\n",
       "      <td>64753607</td>\n",
       "      <td>1663271807.00</td>\n",
       "      <td>--</td>\n",
       "      <td>NaN</td>\n",
       "      <td>259303805</td>\n",
       "      <td>74.77</td>\n",
       "    </tr>\n",
       "    <tr>\n",
       "      <th>2030</th>\n",
       "      <td>2021q2</td>\n",
       "      <td>2330</td>\n",
       "      <td>台積電</td>\n",
       "      <td>3092815189.00</td>\n",
       "      <td>1241104023.00</td>\n",
       "      <td>1851711166.00</td>\n",
       "      <td>1098844616.00</td>\n",
       "      <td>647748947.00</td>\n",
       "      <td>451095669</td>\n",
       "      <td>64753836</td>\n",
       "      <td>1726322203.00</td>\n",
       "      <td>--</td>\n",
       "      <td>NaN</td>\n",
       "      <td>259303805</td>\n",
       "      <td>76.81</td>\n",
       "    </tr>\n",
       "    <tr>\n",
       "      <th>3787</th>\n",
       "      <td>2021q3</td>\n",
       "      <td>2330</td>\n",
       "      <td>台積電</td>\n",
       "      <td>3332311884.00</td>\n",
       "      <td>1370639169.00</td>\n",
       "      <td>1961672715.00</td>\n",
       "      <td>1253991574.00</td>\n",
       "      <td>655621450.00</td>\n",
       "      <td>598370124</td>\n",
       "      <td>64746864</td>\n",
       "      <td>1811273605.00</td>\n",
       "      <td>--</td>\n",
       "      <td>NaN</td>\n",
       "      <td>259303805</td>\n",
       "      <td>80.06</td>\n",
       "    </tr>\n",
       "    <tr>\n",
       "      <th>5543</th>\n",
       "      <td>2021q4</td>\n",
       "      <td>2330</td>\n",
       "      <td>台積電</td>\n",
       "      <td>3725503455.00</td>\n",
       "      <td>1607072907.00</td>\n",
       "      <td>2118430548.00</td>\n",
       "      <td>1554770250.00</td>\n",
       "      <td>739503358.00</td>\n",
       "      <td>815266892</td>\n",
       "      <td>64761602</td>\n",
       "      <td>1906829661.00</td>\n",
       "      <td>--</td>\n",
       "      <td>NaN</td>\n",
       "      <td>259303805</td>\n",
       "      <td>83.62</td>\n",
       "    </tr>\n",
       "    <tr>\n",
       "      <th>7297</th>\n",
       "      <td>2022q1</td>\n",
       "      <td>2330</td>\n",
       "      <td>台積電</td>\n",
       "      <td>3992676667.00</td>\n",
       "      <td>1722237632.00</td>\n",
       "      <td>2270439035.00</td>\n",
       "      <td>1671207913.00</td>\n",
       "      <td>822867707.00</td>\n",
       "      <td>848340206</td>\n",
       "      <td>65215135</td>\n",
       "      <td>2038261537.00</td>\n",
       "      <td>-871566</td>\n",
       "      <td>NaN</td>\n",
       "      <td>259317675</td>\n",
       "      <td>89.26</td>\n",
       "    </tr>\n",
       "    <tr>\n",
       "      <th>9033</th>\n",
       "      <td>2022q2</td>\n",
       "      <td>2330</td>\n",
       "      <td>台積電</td>\n",
       "      <td>4345941335.00</td>\n",
       "      <td>1905866396.00</td>\n",
       "      <td>2440074939.00</td>\n",
       "      <td>1835479210.00</td>\n",
       "      <td>845240981.00</td>\n",
       "      <td>990238229</td>\n",
       "      <td>69333650</td>\n",
       "      <td>2203125601.00</td>\n",
       "      <td>0</td>\n",
       "      <td>NaN</td>\n",
       "      <td>259303805</td>\n",
       "      <td>96.27</td>\n",
       "    </tr>\n",
       "    <tr>\n",
       "      <th>10663</th>\n",
       "      <td>2022q3</td>\n",
       "      <td>2330</td>\n",
       "      <td>台積電</td>\n",
       "      <td>4643301766.00</td>\n",
       "      <td>2014232358.00</td>\n",
       "      <td>2629069408.00</td>\n",
       "      <td>1890985607.00</td>\n",
       "      <td>807431287.00</td>\n",
       "      <td>1083554320</td>\n",
       "      <td>69316391</td>\n",
       "      <td>2412773597.00</td>\n",
       "      <td>0</td>\n",
       "      <td>2752316159.00</td>\n",
       "      <td>259303805</td>\n",
       "      <td>105.59</td>\n",
       "    </tr>\n",
       "    <tr>\n",
       "      <th>12418</th>\n",
       "      <td>2022q4</td>\n",
       "      <td>2330</td>\n",
       "      <td>台積電</td>\n",
       "      <td>4964778878.00</td>\n",
       "      <td>2052896744.00</td>\n",
       "      <td>2911882134.00</td>\n",
       "      <td>2004290011.00</td>\n",
       "      <td>944226817.00</td>\n",
       "      <td>1060063194</td>\n",
       "      <td>69330328</td>\n",
       "      <td>2637524688.00</td>\n",
       "      <td>0</td>\n",
       "      <td>2960488867.00</td>\n",
       "      <td>259303805</td>\n",
       "      <td>113.60</td>\n",
       "    </tr>\n",
       "  </tbody>\n",
       "</table>\n",
       "</div>"
      ],
      "text/plain": [
       "         date    id name         asset  currentAsset  nonCurrentAsset   liabilities  currentLiabilities nonCurrentLiabilities additionalPaid  retainedEarning treasury  shareholderEquity    capital     pb\n",
       "285    2021q1  2330  台積電 2919131461.00 1139786823.00    1779344638.00  978134499.00        661648612.00             316485887       64753607    1663271807.00       --                NaN  259303805  74.77\n",
       "2030   2021q2  2330  台積電 3092815189.00 1241104023.00    1851711166.00 1098844616.00        647748947.00             451095669       64753836    1726322203.00       --                NaN  259303805  76.81\n",
       "3787   2021q3  2330  台積電 3332311884.00 1370639169.00    1961672715.00 1253991574.00        655621450.00             598370124       64746864    1811273605.00       --                NaN  259303805  80.06\n",
       "5543   2021q4  2330  台積電 3725503455.00 1607072907.00    2118430548.00 1554770250.00        739503358.00             815266892       64761602    1906829661.00       --                NaN  259303805  83.62\n",
       "7297   2022q1  2330  台積電 3992676667.00 1722237632.00    2270439035.00 1671207913.00        822867707.00             848340206       65215135    2038261537.00  -871566                NaN  259317675  89.26\n",
       "9033   2022q2  2330  台積電 4345941335.00 1905866396.00    2440074939.00 1835479210.00        845240981.00             990238229       69333650    2203125601.00        0                NaN  259303805  96.27\n",
       "10663  2022q3  2330  台積電 4643301766.00 2014232358.00    2629069408.00 1890985607.00        807431287.00            1083554320       69316391    2412773597.00        0      2752316159.00  259303805 105.59\n",
       "12418  2022q4  2330  台積電 4964778878.00 2052896744.00    2911882134.00 2004290011.00        944226817.00            1060063194       69330328    2637524688.00        0      2960488867.00  259303805 113.60"
      ]
     },
     "execution_count": 19,
     "metadata": {},
     "output_type": "execute_result"
    }
   ],
   "source": [
    "# check db\n",
    "sql = f'select * from balanceSheet order by date'\n",
    "a = pd.read_sql_query(sql, db)\n",
    "a[a['id']==2330]\n",
    "# a"
   ]
  },
  {
   "cell_type": "markdown",
   "id": "9c7681d3",
   "metadata": {},
   "source": [
    "# 現金流量表"
   ]
  },
  {
   "cell_type": "code",
   "execution_count": 11,
   "id": "ecb55fcb",
   "metadata": {
    "scrolled": true
   },
   "outputs": [],
   "source": [
    "CASHFLOW = '現金流量表'\n",
    "def downloadCashFlow(years, quarters, market='sii'):\n",
    "    for year in years:\n",
    "        for quarter in quarters:\n",
    "            date = f\"{year}q{quarter}\"\n",
    "            print(f\"download {date}\")\n",
    "            try:\n",
    "                df = financial_statement(year, quarter, CASHFLOW, market)\n",
    "                for index, row in df.iterrows():\n",
    "                    sql = 'insert into cashflow (date,id,name,operating,investing,financing,exchange,change,beginning,end) values (?,?,?,?,?,?,?,?,?,?)'\n",
    "                    db.execute(sql, (date, row[\"公司代號\"], row[\"公司名稱\"], row[\"營業活動之淨現金流入（流出）\"], row[\"投資活動之淨現金流入（流出）\"], row[\"籌資活動之淨現金流入（流出）\"], row[\"匯率變動對現金及約當現金之影響\"], row[\"本期現金及約當現金增加（減少）數\"], row[\"期初現金及約當現金餘額\"], row[\"期末現金及約當現金餘額\"]))\n",
    "            except:\n",
    "                print('下載或寫入發生錯誤')"
   ]
  },
  {
   "cell_type": "code",
   "execution_count": 12,
   "id": "3e76370a",
   "metadata": {
    "scrolled": true
   },
   "outputs": [
    {
     "name": "stdout",
     "output_type": "stream",
     "text": [
      "download 2023q1\n",
      "download 2023q1\n"
     ]
    }
   ],
   "source": [
    "years = [2023]  \n",
    "quarters = [1]\n",
    "downloadCashFlow(years, quarters) \n",
    "downloadCashFlow(years, quarters, 'otc') "
   ]
  },
  {
   "cell_type": "code",
   "execution_count": null,
   "id": "2eae4f08",
   "metadata": {
    "scrolled": true
   },
   "outputs": [],
   "source": [
    "sql = f'select * from cashflow'\n",
    "a = pd.read_sql_query(sql, db)\n",
    "a[a['id']==2330]"
   ]
  },
  {
   "cell_type": "markdown",
   "id": "6d87f8cd",
   "metadata": {},
   "source": [
    "# 股本\n",
    "塞在stockIdName table裡面"
   ]
  },
  {
   "cell_type": "code",
   "execution_count": null,
   "id": "f0eaad49",
   "metadata": {},
   "outputs": [],
   "source": [
    "# Asset資產, Liabilities負債\n",
    "BALANCE_SHEET = '資產負債彙總表'\n",
    "df_AL_sii = financial_statement(2022,2, BALANCE_SHEET)\n",
    "df_AL_otc = financial_statement(2022,2, BALANCE_SHEET, 'otc')"
   ]
  },
  {
   "cell_type": "code",
   "execution_count": null,
   "id": "469c5089",
   "metadata": {
    "scrolled": true
   },
   "outputs": [],
   "source": [
    "print('聯發科股本：', df_AL_sii[df_AL_sii['公司代號'] == 2454]['股本'].iloc[0])\n",
    "print('中美晶股本：', df_AL_otc[df_AL_otc['公司代號'] == 5483]['股本'].iloc[0])"
   ]
  },
  {
   "cell_type": "code",
   "execution_count": null,
   "id": "37217499",
   "metadata": {},
   "outputs": [],
   "source": [
    "# 在已存在table新增 股本 欄位\n",
    "db.execute(\"ALTER TABLE stockIdName ADD COLUMN capital float\")"
   ]
  },
  {
   "cell_type": "code",
   "execution_count": null,
   "id": "59b5f278",
   "metadata": {},
   "outputs": [],
   "source": [
    "def writeStockCapital(df):\n",
    "    for index, row in df_stock_id_name.iterrows():\n",
    "        stock_id = row['id']\n",
    "        try:\n",
    "            stock_capital = df[df['公司代號'] == stock_id]['股本'].iloc[0]\n",
    "            format_stock_capital = round(stock_capital/1000000,2)\n",
    "            sql = f\"UPDATE stockIdName SET capital = {format_stock_capital} WHERE id = {stock_id}\"\n",
    "            db.execute(sql)\n",
    "        except:\n",
    "            continue\n",
    "\n",
    "writeStockCapital(df_AL_sii)\n",
    "writeStockCapital(df_AL_otc)"
   ]
  },
  {
   "cell_type": "code",
   "execution_count": null,
   "id": "5934f5a6",
   "metadata": {},
   "outputs": [],
   "source": [
    "# read stockIdName table in db\n",
    "c = pd.read_sql_query(\"select * from stockIdName\",db)\n",
    "c.head()"
   ]
  },
  {
   "cell_type": "code",
   "execution_count": null,
   "id": "1e42f69f",
   "metadata": {},
   "outputs": [],
   "source": [
    "c[c['id']==5483]"
   ]
  },
  {
   "cell_type": "code",
   "execution_count": 13,
   "id": "435dd694",
   "metadata": {},
   "outputs": [],
   "source": [
    "db.close()"
   ]
  }
 ],
 "metadata": {
  "kernelspec": {
   "display_name": "Python 3 (ipykernel)",
   "language": "python",
   "name": "python3"
  },
  "language_info": {
   "codemirror_mode": {
    "name": "ipython",
    "version": 3
   },
   "file_extension": ".py",
   "mimetype": "text/x-python",
   "name": "python",
   "nbconvert_exporter": "python",
   "pygments_lexer": "ipython3",
   "version": "3.9.16"
  }
 },
 "nbformat": 4,
 "nbformat_minor": 5
}
