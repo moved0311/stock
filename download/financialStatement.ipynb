{
 "cells": [
  {
   "cell_type": "code",
   "execution_count": null,
   "id": "5efba5a8",
   "metadata": {},
   "outputs": [],
   "source": [
    "import requests\n",
    "from io import StringIO\n",
    "import pandas as pd\n",
    "import numpy as np\n",
    "import sqlite3\n",
    "sqlite3.register_adapter(np.int64, int)\n",
    "import re\n",
    "import math\n",
    "from datetime import date\n",
    "import matplotlib.pyplot as plt\n",
    "\n",
    "# 展開所有dataframe columns\n",
    "pd.set_option('display.max_rows', 2000)\n",
    "pd.set_option('display.max_columns', 500)\n",
    "pd.set_option('display.width', 1000)\n",
    "\n",
    "# 不縮寫成科學記號\n",
    "pd.set_option('display.float_format',lambda x : '%.2f' % x)\n",
    "\n",
    "db = sqlite3.connect('./stock.db' , isolation_level=None)"
   ]
  },
  {
   "cell_type": "code",
   "execution_count": null,
   "id": "6866b38e",
   "metadata": {},
   "outputs": [],
   "source": [
    "df_stock_id_name = pd.read_sql_query(\"select * from stockIdName\",db)\n",
    "\n",
    "# 宣告一個空的df\n",
    "df = df_stock_id_name[['id', 'name', 'industry', 'capital']]\n",
    "df.head()"
   ]
  },
  {
   "cell_type": "code",
   "execution_count": null,
   "id": "bfca72ce",
   "metadata": {},
   "outputs": [],
   "source": [
    "def financial_statement(year, season, type='綜合損益彙總表',TYPEK='sii'):\n",
    "    if year >= 1000:\n",
    "        year -= 1911\n",
    "\n",
    "    if type == '綜合損益彙總表':\n",
    "        url = 'https://mops.twse.com.tw/mops/web/ajax_t163sb04'\n",
    "    elif type == '資產負債彙總表':\n",
    "        url = 'https://mops.twse.com.tw/mops/web/ajax_t163sb05'\n",
    "    elif type == '現金流量表':\n",
    "        url = 'https://mops.twse.com.tw/mops/web/ajax_t163sb20'\n",
    "    else:\n",
    "        print('type does not match')\n",
    "\n",
    "    r = requests.post(url, {\n",
    "        'encodeURIComponent':1,\n",
    "        'step':1,\n",
    "        'firstin':1,\n",
    "        'off':1,\n",
    "        'TYPEK':TYPEK,  # sii上市, otc上櫃\n",
    "        'year':str(year),\n",
    "        'season':str(season),\n",
    "    })\n",
    "\n",
    "    r.encoding = 'utf8'\n",
    "    dfs = pd.read_html(r.text, header=None)\n",
    "    return pd.concat(dfs[1:], axis=0, sort=False)\n"
   ]
  },
  {
   "cell_type": "code",
   "execution_count": null,
   "id": "8409557c",
   "metadata": {
    "scrolled": true
   },
   "outputs": [],
   "source": [
    "# 檢查目前有幾家公司更新最新財報\n",
    "f = financial_statement(2024, 3, '綜合損益彙總表', 'sii')\n",
    "# f = financial_statement(2023, 2, '綜合損益彙總表', 'otc')   # 801\n",
    "\n",
    "len(f)\n",
    "# 2023 3 981  2023 4 1004\n",
    "# 2024 1 1014 2024 2 1014 2024 3 1026"
   ]
  },
  {
   "cell_type": "markdown",
   "id": "4b42c515",
   "metadata": {},
   "source": [
    "# 綜合損益彙總表"
   ]
  },
  {
   "cell_type": "code",
   "execution_count": null,
   "id": "e070f125",
   "metadata": {},
   "outputs": [],
   "source": [
    "PROFIT_AND_LOSS = '綜合損益彙總表'\n",
    "\n",
    "def writeToFinancialStatementDB(df, year, quarter, id, name, revenue, grossProfit, operatingIncome, incomeBeforeTax, income, eps):\n",
    "    date = f\"{year}q{quarter}\"\n",
    "    sql = 'insert into financialStatement (date, id, name, revenue, grossProfit, operatingIncome, incomeBeforeTax, income, qincome, eps, qeps) values (?,?,?,?,?,?,?,?,?,?,?)'\n",
    "    \n",
    "    if quarter == 1:\n",
    "        db.execute(sql, (date, id, name, revenue, grossProfit, operatingIncome, incomeBeforeTax, income, income, eps, eps))\n",
    "    else:\n",
    "        try:\n",
    "            dateDf = df[(df['id']==id) & (df['date']==f'{year}q{quarter-1}')]\n",
    "            prev_eps = dateDf['eps'].iloc[0]\n",
    "            prev_income = dateDf['income'].iloc[0]\n",
    "            qeps = eps - prev_eps\n",
    "            qincome = income - prev_income\n",
    "            db.execute(sql, (date, id, name, revenue, grossProfit, operatingIncome, incomeBeforeTax, income, qincome, eps, qeps))\n",
    "        except:\n",
    "            db.execute(sql, (date, id, name, revenue, grossProfit, operatingIncome, incomeBeforeTax, income, np.nan, eps, np.nan))\n",
    "        \n",
    "def downloadProfitLoss(years, quarters, market='sii'):\n",
    "    for year in years:\n",
    "        for quarter in quarters:\n",
    "            print(f\"download {year}q{quarter}\")\n",
    "            historyFinancialStatement = pd.read_sql_query(f\"select * from financialStatement order by date\",db)\n",
    "            try:\n",
    "                df = financial_statement(year, quarter, PROFIT_AND_LOSS, market)\n",
    "                for index, row in df.iterrows():\n",
    "                    writeToFinancialStatementDB(historyFinancialStatement,year, quarter, row['公司代號'], row['公司名稱'], row['營業收入'], row['營業毛利（毛損）'], row['營業利益（損失）'], row['稅前淨利（淨損）'], row['本期淨利（淨損）'], row['基本每股盈餘（元）'])\n",
    "            except:\n",
    "                print('下載或寫入發生錯誤')\n"
   ]
  },
  {
   "cell_type": "code",
   "execution_count": null,
   "id": "20c86d8c",
   "metadata": {
    "scrolled": true
   },
   "outputs": [],
   "source": [
    "# 下載綜合損益彙總表 \n",
    "years = [2024]\n",
    "quarters = [3]\n",
    "# sii\n",
    "downloadProfitLoss(years, quarters)\n",
    "# otc\n",
    "downloadProfitLoss(years, quarters, 'otc')"
   ]
  },
  {
   "cell_type": "code",
   "execution_count": null,
   "id": "a995f2c1",
   "metadata": {
    "scrolled": true
   },
   "outputs": [],
   "source": [
    "# search in db\n",
    "pd.read_sql_query(f\"select * from financialStatement where id=2330 order by date\",db).tail()"
   ]
  },
  {
   "cell_type": "code",
   "execution_count": null,
   "id": "floating-eugene",
   "metadata": {
    "scrolled": true
   },
   "outputs": [],
   "source": [
    "pd.read_sql_query(f\"select * from financialStatement where id=5425 order by date\",db)"
   ]
  },
  {
   "cell_type": "code",
   "execution_count": null,
   "id": "fcd4854e",
   "metadata": {
    "scrolled": true
   },
   "outputs": [],
   "source": [
    "# delete duplicates\n",
    "# pd.read_sql_query(f\"delete from financialStatement where rowid not in \\\n",
    "#                   (SELECT min(rowid) from financialStatement GROUP BY id, date)\" \\\n",
    "#                   , db)\n",
    "\n",
    "# t = pd.read_sql_query(f\"select * from financialStatement where id=2454 order by date\",db)\n",
    "# t1 = t.drop_duplicates()\n",
    "# print(len(t), \"->\", len(t1))"
   ]
  },
  {
   "cell_type": "code",
   "execution_count": null,
   "id": "ceramic-hydrogen",
   "metadata": {},
   "outputs": [],
   "source": [
    "# delete row\n",
    "# sql = 'delete from financialStatement where date=\"2022q4\"'\n",
    "# pd.read_sql_query(sql, db)"
   ]
  },
  {
   "cell_type": "code",
   "execution_count": null,
   "id": "purple-marina",
   "metadata": {},
   "outputs": [],
   "source": [
    "db.close()"
   ]
  },
  {
   "cell_type": "markdown",
   "id": "99dd8c2d",
   "metadata": {},
   "source": [
    "# Example 2018Q1 2330\n",
    "營業收入 248078671\\\n",
    "營業成本 123103977\\\n",
    "營業毛利（毛損）124974694 = 營業收入 - 營業成本 = 248078671 - 123103977\\\n",
    "營業利益（損失）96826946 = 營業毛利（毛損）- 營業費用 - 已實現銷貨（損）益 - 其他收益及費損淨額 = 124974694 - 26728394 - 117155 - 1302199\\\n",
    "稅前淨利（淨損）99943621 = 營業利益（損失）+ 營業外收入及支出 = 96826946 + 3116675\\\n",
    "本期淨利（淨損）89787574 = 稅前淨利（淨損） - 所得稅費用（利益） = 99943621 - 10156047\\\n",
    "淨利（淨損）歸屬於母公司業主 89784622 = 本期淨利（淨損）-  淨利（淨損）歸屬於非控制權益 = 89787574 - 2952\n"
   ]
  },
  {
   "cell_type": "markdown",
   "id": "311682bd",
   "metadata": {},
   "source": [
    "# 資產負債彙總表"
   ]
  },
  {
   "cell_type": "code",
   "execution_count": null,
   "id": "f1f66937",
   "metadata": {},
   "outputs": [],
   "source": [
    "BALANCE_SHEET = '資產負債彙總表'\n",
    "# sii 權益總額, otc 權益總計 \n",
    "def downloadBalanceSheet(years, quarters, market='sii'):\n",
    "    for year in years:\n",
    "        for quarter in quarters:\n",
    "            date = f\"{year}q{quarter}\"\n",
    "            print(f\"download {date} {market}\")\n",
    "            try:\n",
    "                df = financial_statement(year, quarter, BALANCE_SHEET, market)\n",
    "                for index, row in df.iterrows():\n",
    "                    sql = 'insert into balanceSheet (date,id,name,asset,currentAsset,nonCurrentAsset,liabilities,currentLiabilities,nonCurrentLiabilities,additionalPaid,retainedEarning,treasury,shareholderEquity,capital,pb) values (?,?,?,?,?,?,?,?,?,?,?,?,?,?,?)'\n",
    "                    db.execute(sql, (date, row['公司代號'], row['公司名稱'], row['資產總計'], row['流動資產'], row['非流動資產'], row['負債總計'], row['流動負債'], row['非流動負債'], row['資本公積'], row['保留盈餘'], row['庫藏股票'], row['權益總計'], row['股本'], row['每股參考淨值']))\n",
    "            except Exception as e:\n",
    "                print('下載或寫入發生錯誤', e)"
   ]
  },
  {
   "cell_type": "code",
   "execution_count": null,
   "id": "b7d56668",
   "metadata": {
    "scrolled": true
   },
   "outputs": [],
   "source": [
    "years = [2024]\n",
    "quarters = [1,2,3]\n",
    "downloadBalanceSheet(years, quarters, 'sii') \n",
    "downloadBalanceSheet(years, quarters, 'otc') "
   ]
  },
  {
   "cell_type": "code",
   "execution_count": null,
   "id": "12e3597e",
   "metadata": {
    "scrolled": true
   },
   "outputs": [],
   "source": [
    "# check db\n",
    "sql = f'select * from balanceSheet order by date'\n",
    "a = pd.read_sql_query(sql, db)\n",
    "a[a['id']==2330].tail()"
   ]
  },
  {
   "cell_type": "code",
   "execution_count": null,
   "id": "varying-business",
   "metadata": {},
   "outputs": [],
   "source": [
    "# # delete duplicates\n",
    "# pd.read_sql_query(f\"delete from balanceSheet where rowid not in \\\n",
    "#                   (SELECT min(rowid) from balanceSheet GROUP BY id, date)\" \\\n",
    "#                   , db)\n",
    "\n",
    "# t = pd.read_sql_query(f\"select * from balanceSheet where id=2454 order by date\",db)\n",
    "# t1 = t.drop_duplicates()\n",
    "# print(len(t), \"->\", len(t1))"
   ]
  },
  {
   "cell_type": "code",
   "execution_count": null,
   "id": "56b4210f",
   "metadata": {},
   "outputs": [],
   "source": [
    "# delete row\n",
    "sql = 'delete from balanceSheet where date=\"2023q2\"'\n",
    "# pd.read_sql_query(sql, db)"
   ]
  },
  {
   "cell_type": "markdown",
   "id": "9c7681d3",
   "metadata": {},
   "source": [
    "# 現金流量表"
   ]
  },
  {
   "cell_type": "code",
   "execution_count": null,
   "id": "ecb55fcb",
   "metadata": {
    "scrolled": true
   },
   "outputs": [],
   "source": [
    "CASHFLOW = '現金流量表'\n",
    "def downloadCashFlow(years, quarters, market='sii'):\n",
    "    for year in years:\n",
    "        for quarter in quarters:\n",
    "            date = f\"{year}q{quarter}\"\n",
    "            print(f\"download {date}\", year, quarter, CASHFLOW, market)\n",
    "            df = financial_statement(year, quarter, CASHFLOW, market)\n",
    "            sql = 'insert into cashflow (date,id,name,operating,investing,financing,exchange,change,beginning,end, cashflow, qcashflow) values (?,?,?,?,?,?,?,?,?,?,?,?)'\n",
    "            \n",
    "            if quarter == 1:\n",
    "                for index, row in df.iterrows():\n",
    "                    try:\n",
    "                        cashflow = int(row[\"營業活動之淨現金流入（流出）\"]) + int(row[\"投資活動之淨現金流入（流出）\"])\n",
    "                        db.execute(sql, (date, row[\"公司代號\"], row[\"公司名稱\"], row[\"營業活動之淨現金流入（流出）\"], row[\"投資活動之淨現金流入（流出）\"], row[\"籌資活動之淨現金流入（流出）\"], row[\"匯率變動對現金及約當現金之影響\"], row[\"本期現金及約當現金增加（減少）數\"], row[\"期初現金及約當現金餘額\"], row[\"期末現金及約當現金餘額\"], cashflow, cashflow))    \n",
    "                    except:\n",
    "                        db.execute(sql, (date, row[\"公司代號\"], row[\"公司名稱\"], row[\"營業活動之淨現金流入（流出）\"], row[\"投資活動之淨現金流入（流出）\"], row[\"籌資活動之淨現金流入（流出）\"], row[\"匯率變動對現金及約當現金之影響\"], row[\"本期現金及約當現金增加（減少）數\"], row[\"期初現金及約當現金餘額\"], row[\"期末現金及約當現金餘額\"], np.nan, np.nan))    \n",
    "            else:\n",
    "                df_cashflow = pd.read_sql_query(f'select * from cashflow order by date', db)\n",
    "                \n",
    "                for index, row in df.iterrows():\n",
    "                    try:\n",
    "                        cashflow = int(row[\"營業活動之淨現金流入（流出）\"]) + int(row[\"投資活動之淨現金流入（流出）\"])\n",
    "                        prevCashflow = df_cashflow[(df_cashflow['id']==row[\"公司代號\"]) & (df_cashflow['date']==f\"{year}q{quarter-1}\")]['cashflow'].iloc[0]\n",
    "                        qcashflow = cashflow - prevCashflow if prevCashflow > 0 else cashflow + prevCashflow\n",
    "                        db.execute(sql, (date, row[\"公司代號\"], row[\"公司名稱\"], row[\"營業活動之淨現金流入（流出）\"], row[\"投資活動之淨現金流入（流出）\"], row[\"籌資活動之淨現金流入（流出）\"], row[\"匯率變動對現金及約當現金之影響\"], row[\"本期現金及約當現金增加（減少）數\"], row[\"期初現金及約當現金餘額\"], row[\"期末現金及約當現金餘額\"], cashflow, qcashflow))\n",
    "                    except:\n",
    "                        db.execute(sql, (date, row[\"公司代號\"], row[\"公司名稱\"], row[\"營業活動之淨現金流入（流出）\"], row[\"投資活動之淨現金流入（流出）\"], row[\"籌資活動之淨現金流入（流出）\"], row[\"匯率變動對現金及約當現金之影響\"], row[\"本期現金及約當現金增加（減少）數\"], row[\"期初現金及約當現金餘額\"], row[\"期末現金及約當現金餘額\"], np.nan, np.nan))\n"
   ]
  },
  {
   "cell_type": "code",
   "execution_count": null,
   "id": "3e76370a",
   "metadata": {
    "scrolled": true
   },
   "outputs": [],
   "source": [
    "years = [2024]\n",
    "quarters = [1,2,3]\n",
    "downloadCashFlow(years, quarters) \n",
    "downloadCashFlow(years, quarters, 'otc') "
   ]
  },
  {
   "cell_type": "code",
   "execution_count": null,
   "id": "2eae4f08",
   "metadata": {
    "scrolled": true
   },
   "outputs": [],
   "source": [
    "sql = f'select * from cashflow order by date'\n",
    "a = pd.read_sql_query(sql, db)\n",
    "# a[a['id']==2330]\n",
    "a[a['id']==5425].tail()"
   ]
  },
  {
   "cell_type": "code",
   "execution_count": null,
   "id": "particular-philadelphia",
   "metadata": {},
   "outputs": [],
   "source": [
    "# # delete duplicates\n",
    "# pd.read_sql_query(f\"delete from cashflow where rowid not in \\\n",
    "#                   (SELECT min(rowid) from cashflow GROUP BY id, date)\" \\\n",
    "#                   , db)\n",
    "\n",
    "# t = pd.read_sql_query(f\"select * from cashflow where id=2454 order by date\",db)\n",
    "# t1 = t.drop_duplicates()\n",
    "# print(len(t), \"->\", len(t1))"
   ]
  },
  {
   "cell_type": "code",
   "execution_count": null,
   "id": "ordinary-print",
   "metadata": {
    "scrolled": true
   },
   "outputs": [],
   "source": [
    "# delete row\n",
    "# sql = 'delete from cashflow where date=\"2022q1\"'\n",
    "# pd.read_sql_query(sql, db)"
   ]
  },
  {
   "cell_type": "code",
   "execution_count": null,
   "id": "grateful-unemployment",
   "metadata": {},
   "outputs": [],
   "source": [
    "financial_statement(2022, 2, CASHFLOW, 'otc')"
   ]
  },
  {
   "cell_type": "markdown",
   "id": "6d87f8cd",
   "metadata": {},
   "source": [
    "# 股本"
   ]
  },
  {
   "cell_type": "code",
   "execution_count": null,
   "id": "f0eaad49",
   "metadata": {},
   "outputs": [],
   "source": [
    "# Asset資產, Liabilities負債\n",
    "BALANCE_SHEET = '資產負債彙總表'\n",
    "df_AL_sii = financial_statement(2024,3, BALANCE_SHEET)\n",
    "df_AL_otc = financial_statement(2024,3, BALANCE_SHEET, 'otc')"
   ]
  },
  {
   "cell_type": "code",
   "execution_count": null,
   "id": "469c5089",
   "metadata": {
    "scrolled": true
   },
   "outputs": [],
   "source": [
    "print('聯發科股本：', df_AL_sii[df_AL_sii['公司代號'] == 2454]['股本'].iloc[0])\n",
    "print('中美晶股本：', df_AL_otc[df_AL_otc['公司代號'] == 5483]['股本'].iloc[0])"
   ]
  },
  {
   "cell_type": "code",
   "execution_count": null,
   "id": "37217499",
   "metadata": {},
   "outputs": [],
   "source": [
    "# 在已存在table新增 股本 欄位\n",
    "# db.execute(\"ALTER TABLE stockIdName ADD COLUMN capital float\")"
   ]
  },
  {
   "cell_type": "code",
   "execution_count": null,
   "id": "59b5f278",
   "metadata": {},
   "outputs": [],
   "source": [
    "def writeStockCapital(df):\n",
    "    for index, row in df_stock_id_name.iterrows():\n",
    "        stock_id = row['id']\n",
    "        try:\n",
    "            stock_capital = df[df['公司代號'] == stock_id]['股本'].iloc[0]\n",
    "            format_stock_capital = round(stock_capital/1000000,2)\n",
    "            sql = f\"UPDATE stockIdName SET capital = {format_stock_capital} WHERE id = {stock_id}\"\n",
    "            db.execute(sql)\n",
    "        except:\n",
    "            continue\n",
    "\n",
    "writeStockCapital(df_AL_sii)\n",
    "writeStockCapital(df_AL_otc)"
   ]
  },
  {
   "cell_type": "code",
   "execution_count": null,
   "id": "5934f5a6",
   "metadata": {},
   "outputs": [],
   "source": [
    "# read stockIdName table in db\n",
    "c = pd.read_sql_query(\"select * from stockIdName\",db)\n",
    "c[c['id']==2330]"
   ]
  },
  {
   "cell_type": "code",
   "execution_count": null,
   "id": "435dd694",
   "metadata": {},
   "outputs": [],
   "source": [
    "db.close()"
   ]
  }
 ],
 "metadata": {
  "kernelspec": {
   "display_name": "Python 3",
   "language": "python",
   "name": "python3"
  },
  "language_info": {
   "codemirror_mode": {
    "name": "ipython",
    "version": 3
   },
   "file_extension": ".py",
   "mimetype": "text/x-python",
   "name": "python",
   "nbconvert_exporter": "python",
   "pygments_lexer": "ipython3",
   "version": "3.9.1"
  }
 },
 "nbformat": 4,
 "nbformat_minor": 5
}
