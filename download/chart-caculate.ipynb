{
 "cells": [
  {
   "cell_type": "code",
   "execution_count": null,
   "id": "0c5ecf13",
   "metadata": {},
   "outputs": [],
   "source": [
    "import requests\n",
    "from io import StringIO\n",
    "import pandas as pd\n",
    "import numpy as np\n",
    "import sqlite3\n",
    "sqlite3.register_adapter(np.int64, int)\n",
    "import re\n",
    "import math\n",
    "from datetime import datetime\n",
    "import matplotlib.pyplot as plt\n",
    "import matplotlib.dates as dates\n",
    "import matplotlib.ticker as ticker\n",
    "\n",
    "# 展開所有dataframe columns\n",
    "pd.set_option('display.max_rows', 2000)\n",
    "pd.set_option('display.max_columns', 500)\n",
    "pd.set_option('display.width', 1000)\n",
    "pd.set_option ('display.max_colwidth',500)\n",
    "\n",
    "# 不縮寫成科學記號\n",
    "pd.set_option('display.float_format',lambda x : '%.2f' % x)\n",
    "\n",
    "db = sqlite3.connect('./stock.db' , isolation_level=None)"
   ]
  },
  {
   "cell_type": "code",
   "execution_count": null,
   "id": "fc81edda",
   "metadata": {},
   "outputs": [],
   "source": [
    "df_daily = pd.read_sql_query(\"select * from daily order by date\",db)\n",
    "df_month = pd.read_sql_query(f\"select * from monthlyRevenue order by date\" , db)"
   ]
  },
  {
   "cell_type": "code",
   "execution_count": null,
   "id": "b0bb5e9c",
   "metadata": {},
   "outputs": [],
   "source": [
    "PE_MIN = 0\n",
    "PE_MAX = 100\n",
    "\n",
    "def peDistribution(id):\n",
    "    pe = df_daily[df_daily['id']==id][['date','id','name','pe']]\n",
    "    pe = pe[(pe['pe'] > PE_MIN) & (pe['pe'] < PE_MAX)]\n",
    "    return pe['pe'].tolist()\n",
    "\n",
    "ROW = 3\n",
    "COL = 2\n",
    "fig, ax = plt.subplots(ROW, COL, figsize=(15,10))\n",
    "\n",
    "id = 2330\n",
    "\n",
    "# 1.1 pe hist\n",
    "pes = peDistribution(id)\n",
    "y, x, _ = ax[0][0].hist(pes, 100)\n",
    "df_id = df_daily[df_daily['id']==id]\n",
    "name = df_id['name'].iloc[0]\n",
    "now_pe = df_id.tail(1)['pe'].iloc[0]\n",
    "most_pe = round(x[np.where(y == y.max())][0], 2)\n",
    "\n",
    "print('[PE] :', '範圍:',f\"{min(pes)} - {max(pes)}\", '目前:', now_pe, '大量:', most_pe)\n",
    "\n",
    "ax[0][0].axvline(now_pe, color='k', linestyle='dashed', linewidth=1)\n",
    "\n",
    "# 1.2 pe line\n",
    "pe = df_daily[df_daily['id']==id]\n",
    "x = [datetime.strptime(str(d),'%Y%m%d').date() for d in pe['date']]\n",
    "y = pe['pe'].rolling(20).mean()\n",
    "ax[0][1].plot(x, y) \n",
    "\n",
    "# 2.1 月營收(單月)\n",
    "ax[1][0].xaxis.set_major_locator(ticker.MultipleLocator(12))\n",
    "df = df_month[df_month['id']==id]\n",
    "x = df['date'].tolist()\n",
    "y = df['revenue'].tolist()\n",
    "ax[1][0].bar(x, y)\n",
    "\n",
    "# 2.2 月營收(累積)\n",
    "ax[1][1].xaxis.set_major_locator(ticker.MultipleLocator(12))\n",
    "df = df_month[df_month['id']==id]\n",
    "x = df['date'].tolist()\n",
    "y = df['sum'].tolist()\n",
    "ax[1][1].bar(x, y)\n",
    "\n",
    "# 3.2 sumYoY\n",
    "ax[2][1].xaxis.set_major_locator(ticker.MultipleLocator(12))\n",
    "df = df_month[df_month['id']==id]\n",
    "x = df['date'].tolist()\n",
    "y = df['sumYoY'].tolist()\n",
    "ax[2][1].bar(x, y)\n"
   ]
  },
  {
   "cell_type": "code",
   "execution_count": null,
   "id": "88d18dd9",
   "metadata": {
    "scrolled": true
   },
   "outputs": [],
   "source": []
  },
  {
   "cell_type": "code",
   "execution_count": null,
   "id": "ec6a8a8f",
   "metadata": {},
   "outputs": [],
   "source": []
  },
  {
   "cell_type": "code",
   "execution_count": null,
   "id": "7f3bbec5",
   "metadata": {},
   "outputs": [],
   "source": []
  },
  {
   "cell_type": "code",
   "execution_count": null,
   "id": "015efd43",
   "metadata": {},
   "outputs": [],
   "source": [
    "db.close()"
   ]
  }
 ],
 "metadata": {
  "kernelspec": {
   "display_name": "Python 3 (ipykernel)",
   "language": "python",
   "name": "python3"
  },
  "language_info": {
   "codemirror_mode": {
    "name": "ipython",
    "version": 3
   },
   "file_extension": ".py",
   "mimetype": "text/x-python",
   "name": "python",
   "nbconvert_exporter": "python",
   "pygments_lexer": "ipython3",
   "version": "3.9.16"
  }
 },
 "nbformat": 4,
 "nbformat_minor": 5
}
